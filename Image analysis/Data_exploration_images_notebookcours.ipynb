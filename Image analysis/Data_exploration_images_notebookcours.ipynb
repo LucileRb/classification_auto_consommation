{
 "cells": [
  {
   "cell_type": "markdown",
   "metadata": {},
   "source": [
    "# Préparation du dataset"
   ]
  },
  {
   "cell_type": "code",
   "execution_count": 1,
   "metadata": {},
   "outputs": [],
   "source": [
    "# Ajouter chemin système pour naviguer d'un dossier à l'autre facilement\n",
    "import sys\n",
    "from pathlib import Path\n",
    "sys.path.append(str(Path('.').absolute().parent))"
   ]
  },
  {
   "cell_type": "code",
   "execution_count": 2,
   "metadata": {
    "scrolled": true
   },
   "outputs": [
    {
     "name": "stdout",
     "output_type": "stream",
     "text": [
      "Num GPUs Available:  1\n"
     ]
    }
   ],
   "source": [
    "import pandas as pd\n",
    "import numpy as np\n",
    "import matplotlib.pyplot as plt\n",
    "import seaborn as sns\n",
    "\n",
    "from packages import fonctions\n",
    "\n",
    "%matplotlib inline\n",
    "import os\n",
    "from os import listdir\n",
    "from sklearn.model_selection import train_test_split\n",
    "from sklearn.metrics import accuracy_score, auc, roc_auc_score, roc_curve\n",
    "from glob import glob\n",
    "\n",
    "import tensorflow as tf\n",
    "from tensorflow.keras.models import Model, Sequential\n",
    "from tensorflow.keras.layers import GlobalAveragePooling2D, GlobalAveragePooling1D, Flatten, Dense, Dropout \n",
    "from tensorflow.keras.layers import Rescaling, RandomFlip, RandomRotation, RandomZoom\n",
    "from tensorflow.keras.callbacks import EarlyStopping, ModelCheckpoint\n",
    "from tensorflow.keras.applications.vgg16 import VGG16\n",
    "from tensorflow.keras.applications.vgg16 import preprocess_input\n",
    "from tensorflow.keras.preprocessing.image import load_img, img_to_array\n",
    "from tensorflow.keras.utils import to_categorical\n",
    "\n",
    "# os.environ[\"TF_KERAS\"]='1'\n",
    "print(\"Num GPUs Available: \", len(tf.config.list_physical_devices('GPU')))"
   ]
  },
  {
   "cell_type": "code",
   "execution_count": 3,
   "metadata": {},
   "outputs": [
    {
     "data": {
      "text/html": [
       "<div>\n",
       "<style scoped>\n",
       "    .dataframe tbody tr th:only-of-type {\n",
       "        vertical-align: middle;\n",
       "    }\n",
       "\n",
       "    .dataframe tbody tr th {\n",
       "        vertical-align: top;\n",
       "    }\n",
       "\n",
       "    .dataframe thead th {\n",
       "        text-align: right;\n",
       "    }\n",
       "</style>\n",
       "<table border=\"1\" class=\"dataframe\">\n",
       "  <thead>\n",
       "    <tr style=\"text-align: right;\">\n",
       "      <th></th>\n",
       "      <th>uniq_id</th>\n",
       "      <th>crawl_timestamp</th>\n",
       "      <th>product_url</th>\n",
       "      <th>product_name</th>\n",
       "      <th>product_category_tree</th>\n",
       "      <th>pid</th>\n",
       "      <th>retail_price</th>\n",
       "      <th>discounted_price</th>\n",
       "      <th>image</th>\n",
       "      <th>is_FK_Advantage_product</th>\n",
       "      <th>description</th>\n",
       "      <th>product_rating</th>\n",
       "      <th>overall_rating</th>\n",
       "      <th>brand</th>\n",
       "      <th>product_specifications</th>\n",
       "    </tr>\n",
       "  </thead>\n",
       "  <tbody>\n",
       "    <tr>\n",
       "      <th>0</th>\n",
       "      <td>55b85ea15a1536d46b7190ad6fff8ce7</td>\n",
       "      <td>2016-04-30 03:22:56 +0000</td>\n",
       "      <td>http://www.flipkart.com/elegance-polyester-mul...</td>\n",
       "      <td>Elegance Polyester Multicolor Abstract Eyelet ...</td>\n",
       "      <td>[\"Home Furnishing &gt;&gt; Curtains &amp; Accessories &gt;&gt;...</td>\n",
       "      <td>CRNEG7BKMFFYHQ8Z</td>\n",
       "      <td>1899.0</td>\n",
       "      <td>899.0</td>\n",
       "      <td>55b85ea15a1536d46b7190ad6fff8ce7.jpg</td>\n",
       "      <td>False</td>\n",
       "      <td>Key Features of Elegance Polyester Multicolor ...</td>\n",
       "      <td>No rating available</td>\n",
       "      <td>No rating available</td>\n",
       "      <td>Elegance</td>\n",
       "      <td>{\"product_specification\"=&gt;[{\"key\"=&gt;\"Brand\", \"v...</td>\n",
       "    </tr>\n",
       "    <tr>\n",
       "      <th>1</th>\n",
       "      <td>7b72c92c2f6c40268628ec5f14c6d590</td>\n",
       "      <td>2016-04-30 03:22:56 +0000</td>\n",
       "      <td>http://www.flipkart.com/sathiyas-cotton-bath-t...</td>\n",
       "      <td>Sathiyas Cotton Bath Towel</td>\n",
       "      <td>[\"Baby Care &gt;&gt; Baby Bath &amp; Skin &gt;&gt; Baby Bath T...</td>\n",
       "      <td>BTWEGFZHGBXPHZUH</td>\n",
       "      <td>600.0</td>\n",
       "      <td>449.0</td>\n",
       "      <td>7b72c92c2f6c40268628ec5f14c6d590.jpg</td>\n",
       "      <td>False</td>\n",
       "      <td>Specifications of Sathiyas Cotton Bath Towel (...</td>\n",
       "      <td>No rating available</td>\n",
       "      <td>No rating available</td>\n",
       "      <td>Sathiyas</td>\n",
       "      <td>{\"product_specification\"=&gt;[{\"key\"=&gt;\"Machine Wa...</td>\n",
       "    </tr>\n",
       "    <tr>\n",
       "      <th>2</th>\n",
       "      <td>64d5d4a258243731dc7bbb1eef49ad74</td>\n",
       "      <td>2016-04-30 03:22:56 +0000</td>\n",
       "      <td>http://www.flipkart.com/eurospa-cotton-terry-f...</td>\n",
       "      <td>Eurospa Cotton Terry Face Towel Set</td>\n",
       "      <td>[\"Baby Care &gt;&gt; Baby Bath &amp; Skin &gt;&gt; Baby Bath T...</td>\n",
       "      <td>BTWEG6SHXTDB2A2Y</td>\n",
       "      <td>NaN</td>\n",
       "      <td>NaN</td>\n",
       "      <td>64d5d4a258243731dc7bbb1eef49ad74.jpg</td>\n",
       "      <td>False</td>\n",
       "      <td>Key Features of Eurospa Cotton Terry Face Towe...</td>\n",
       "      <td>No rating available</td>\n",
       "      <td>No rating available</td>\n",
       "      <td>Eurospa</td>\n",
       "      <td>{\"product_specification\"=&gt;[{\"key\"=&gt;\"Material\",...</td>\n",
       "    </tr>\n",
       "    <tr>\n",
       "      <th>3</th>\n",
       "      <td>d4684dcdc759dd9cdf41504698d737d8</td>\n",
       "      <td>2016-06-20 08:49:52 +0000</td>\n",
       "      <td>http://www.flipkart.com/santosh-royal-fashion-...</td>\n",
       "      <td>SANTOSH ROYAL FASHION Cotton Printed King size...</td>\n",
       "      <td>[\"Home Furnishing &gt;&gt; Bed Linen &gt;&gt; Bedsheets &gt;&gt;...</td>\n",
       "      <td>BDSEJT9UQWHDUBH4</td>\n",
       "      <td>2699.0</td>\n",
       "      <td>1299.0</td>\n",
       "      <td>d4684dcdc759dd9cdf41504698d737d8.jpg</td>\n",
       "      <td>False</td>\n",
       "      <td>Key Features of SANTOSH ROYAL FASHION Cotton P...</td>\n",
       "      <td>No rating available</td>\n",
       "      <td>No rating available</td>\n",
       "      <td>SANTOSH ROYAL FASHION</td>\n",
       "      <td>{\"product_specification\"=&gt;[{\"key\"=&gt;\"Brand\", \"v...</td>\n",
       "    </tr>\n",
       "    <tr>\n",
       "      <th>4</th>\n",
       "      <td>6325b6870c54cd47be6ebfbffa620ec7</td>\n",
       "      <td>2016-06-20 08:49:52 +0000</td>\n",
       "      <td>http://www.flipkart.com/jaipur-print-cotton-fl...</td>\n",
       "      <td>Jaipur Print Cotton Floral King sized Double B...</td>\n",
       "      <td>[\"Home Furnishing &gt;&gt; Bed Linen &gt;&gt; Bedsheets &gt;&gt;...</td>\n",
       "      <td>BDSEJTHNGWVGWWQU</td>\n",
       "      <td>2599.0</td>\n",
       "      <td>698.0</td>\n",
       "      <td>6325b6870c54cd47be6ebfbffa620ec7.jpg</td>\n",
       "      <td>False</td>\n",
       "      <td>Key Features of Jaipur Print Cotton Floral Kin...</td>\n",
       "      <td>No rating available</td>\n",
       "      <td>No rating available</td>\n",
       "      <td>Jaipur Print</td>\n",
       "      <td>{\"product_specification\"=&gt;[{\"key\"=&gt;\"Machine Wa...</td>\n",
       "    </tr>\n",
       "  </tbody>\n",
       "</table>\n",
       "</div>"
      ],
      "text/plain": [
       "                            uniq_id            crawl_timestamp  \\\n",
       "0  55b85ea15a1536d46b7190ad6fff8ce7  2016-04-30 03:22:56 +0000   \n",
       "1  7b72c92c2f6c40268628ec5f14c6d590  2016-04-30 03:22:56 +0000   \n",
       "2  64d5d4a258243731dc7bbb1eef49ad74  2016-04-30 03:22:56 +0000   \n",
       "3  d4684dcdc759dd9cdf41504698d737d8  2016-06-20 08:49:52 +0000   \n",
       "4  6325b6870c54cd47be6ebfbffa620ec7  2016-06-20 08:49:52 +0000   \n",
       "\n",
       "                                         product_url  \\\n",
       "0  http://www.flipkart.com/elegance-polyester-mul...   \n",
       "1  http://www.flipkart.com/sathiyas-cotton-bath-t...   \n",
       "2  http://www.flipkart.com/eurospa-cotton-terry-f...   \n",
       "3  http://www.flipkart.com/santosh-royal-fashion-...   \n",
       "4  http://www.flipkart.com/jaipur-print-cotton-fl...   \n",
       "\n",
       "                                        product_name  \\\n",
       "0  Elegance Polyester Multicolor Abstract Eyelet ...   \n",
       "1                         Sathiyas Cotton Bath Towel   \n",
       "2                Eurospa Cotton Terry Face Towel Set   \n",
       "3  SANTOSH ROYAL FASHION Cotton Printed King size...   \n",
       "4  Jaipur Print Cotton Floral King sized Double B...   \n",
       "\n",
       "                               product_category_tree               pid  \\\n",
       "0  [\"Home Furnishing >> Curtains & Accessories >>...  CRNEG7BKMFFYHQ8Z   \n",
       "1  [\"Baby Care >> Baby Bath & Skin >> Baby Bath T...  BTWEGFZHGBXPHZUH   \n",
       "2  [\"Baby Care >> Baby Bath & Skin >> Baby Bath T...  BTWEG6SHXTDB2A2Y   \n",
       "3  [\"Home Furnishing >> Bed Linen >> Bedsheets >>...  BDSEJT9UQWHDUBH4   \n",
       "4  [\"Home Furnishing >> Bed Linen >> Bedsheets >>...  BDSEJTHNGWVGWWQU   \n",
       "\n",
       "   retail_price  discounted_price                                 image  \\\n",
       "0        1899.0             899.0  55b85ea15a1536d46b7190ad6fff8ce7.jpg   \n",
       "1         600.0             449.0  7b72c92c2f6c40268628ec5f14c6d590.jpg   \n",
       "2           NaN               NaN  64d5d4a258243731dc7bbb1eef49ad74.jpg   \n",
       "3        2699.0            1299.0  d4684dcdc759dd9cdf41504698d737d8.jpg   \n",
       "4        2599.0             698.0  6325b6870c54cd47be6ebfbffa620ec7.jpg   \n",
       "\n",
       "   is_FK_Advantage_product                                        description  \\\n",
       "0                    False  Key Features of Elegance Polyester Multicolor ...   \n",
       "1                    False  Specifications of Sathiyas Cotton Bath Towel (...   \n",
       "2                    False  Key Features of Eurospa Cotton Terry Face Towe...   \n",
       "3                    False  Key Features of SANTOSH ROYAL FASHION Cotton P...   \n",
       "4                    False  Key Features of Jaipur Print Cotton Floral Kin...   \n",
       "\n",
       "        product_rating       overall_rating                  brand  \\\n",
       "0  No rating available  No rating available               Elegance   \n",
       "1  No rating available  No rating available               Sathiyas   \n",
       "2  No rating available  No rating available                Eurospa   \n",
       "3  No rating available  No rating available  SANTOSH ROYAL FASHION   \n",
       "4  No rating available  No rating available           Jaipur Print   \n",
       "\n",
       "                              product_specifications  \n",
       "0  {\"product_specification\"=>[{\"key\"=>\"Brand\", \"v...  \n",
       "1  {\"product_specification\"=>[{\"key\"=>\"Machine Wa...  \n",
       "2  {\"product_specification\"=>[{\"key\"=>\"Material\",...  \n",
       "3  {\"product_specification\"=>[{\"key\"=>\"Brand\", \"v...  \n",
       "4  {\"product_specification\"=>[{\"key\"=>\"Machine Wa...  "
      ]
     },
     "execution_count": 3,
     "metadata": {},
     "output_type": "execute_result"
    }
   ],
   "source": [
    "########## Import données csv ##########\n",
    "# dossier data hors du dossier code pour ne pas l'importer dans github\n",
    "\n",
    "df = pd.read_csv('../../data/flipkart_com-ecommerce_sample_1050.csv')\n",
    "df.head()"
   ]
  },
  {
   "cell_type": "code",
   "execution_count": 4,
   "metadata": {},
   "outputs": [],
   "source": [
    "# Dictionnaire des catégories (pour réduire le nombre de catégories - cf notebook Data_exploration_EDA)\n",
    "dict_categories = {\n",
    "    'Home and Kitchen Essential' : [\n",
    "        'Home Furnishing', 'Tray Sets', 'Coffee Mugs', 'Lunch Boxes', 'Caffeine Bowls', 'Water bottle', 'Omic Sippers', 'Kitchen Tools', 'Bar Accessories', 'Bar Glasses', 'Idli Makers', 'Craft Jugs', 'Table Clocks', 'Bhalaria Forks', 'Kitchen Containers'],\n",
    "    'Baby and Personal Care' : [\n",
    "        'Baby Care', 'Personal Care'],\n",
    "    'Electronics and Accessories' : [\n",
    "        'Wrist Watches', 'Network Components', 'Tablet Accessories', 'Laptop Accessories', 'Pen Drives', 'Computer Components'],\n",
    "    'Festive and Special Occasion' : ['Festive Needs', 'BFT Bulbs']\n",
    "}"
   ]
  },
  {
   "cell_type": "code",
   "execution_count": 5,
   "metadata": {},
   "outputs": [
    {
     "data": {
      "text/plain": [
       "Baby and Personal Care          300\n",
       "Electronics and Accessories     292\n",
       "Home and Kitchen Essential      263\n",
       "Festive and Special Occasion    151\n",
       "Name: category_4, dtype: int64"
      ]
     },
     "execution_count": 5,
     "metadata": {},
     "output_type": "execute_result"
    }
   ],
   "source": [
    "# Extraire catégories de la feature 'product_category_tree' et réduire nombre de catégories en utilisant le dictionnaire ci dessus\n",
    "df['category'] = df.apply(fonctions.get_category, axis = 1)\n",
    "inverse = { v: k for k, l in dict_categories.items() for v in l }\n",
    "df['category_4'] = df['category'].map(inverse)\n",
    "df['category_4'].value_counts()"
   ]
  },
  {
   "cell_type": "code",
   "execution_count": 6,
   "metadata": {},
   "outputs": [
    {
     "data": {
      "text/plain": [
       "(1050, 2)"
      ]
     },
     "execution_count": 6,
     "metadata": {},
     "output_type": "execute_result"
    }
   ],
   "source": [
    "df = df[['category_4', 'description']]\n",
    "df.columns = ['category', 'description']\n",
    "df.shape"
   ]
  },
  {
   "cell_type": "code",
   "execution_count": 7,
   "metadata": {},
   "outputs": [
    {
     "data": {
      "text/plain": [
       "['Home and Kitchen Essential',\n",
       " 'Baby and Personal Care',\n",
       " 'Electronics and Accessories',\n",
       " 'Festive and Special Occasion',\n",
       " nan]"
      ]
     },
     "execution_count": 7,
     "metadata": {},
     "output_type": "execute_result"
    }
   ],
   "source": [
    "df['category'].unique().tolist()"
   ]
  },
  {
   "cell_type": "code",
   "execution_count": 8,
   "metadata": {},
   "outputs": [
    {
     "name": "stdout",
     "output_type": "stream",
     "text": [
      "1050\n",
      "1050\n"
     ]
    },
    {
     "data": {
      "text/html": [
       "<div>\n",
       "<style scoped>\n",
       "    .dataframe tbody tr th:only-of-type {\n",
       "        vertical-align: middle;\n",
       "    }\n",
       "\n",
       "    .dataframe tbody tr th {\n",
       "        vertical-align: top;\n",
       "    }\n",
       "\n",
       "    .dataframe thead th {\n",
       "        text-align: right;\n",
       "    }\n",
       "</style>\n",
       "<table border=\"1\" class=\"dataframe\">\n",
       "  <thead>\n",
       "    <tr style=\"text-align: right;\">\n",
       "      <th></th>\n",
       "      <th>image_path</th>\n",
       "      <th>label_name</th>\n",
       "      <th>label</th>\n",
       "    </tr>\n",
       "  </thead>\n",
       "  <tbody>\n",
       "    <tr>\n",
       "      <th>700</th>\n",
       "      <td>../../data/Images/6c53dbd7a9d43744920bfae3bc06...</td>\n",
       "      <td>Home and Kitchen Essential</td>\n",
       "      <td>3</td>\n",
       "    </tr>\n",
       "    <tr>\n",
       "      <th>701</th>\n",
       "      <td>../../data/Images/672d1c3272eae4586eb5994fe408...</td>\n",
       "      <td>Home and Kitchen Essential</td>\n",
       "      <td>3</td>\n",
       "    </tr>\n",
       "    <tr>\n",
       "      <th>702</th>\n",
       "      <td>../../data/Images/72db37ec42ee76d79cf395221e0f...</td>\n",
       "      <td>Festive and Special Occasion</td>\n",
       "      <td>2</td>\n",
       "    </tr>\n",
       "    <tr>\n",
       "      <th>703</th>\n",
       "      <td>../../data/Images/0ae859a69c7608d8197c3ba8c37b...</td>\n",
       "      <td>Home and Kitchen Essential</td>\n",
       "      <td>3</td>\n",
       "    </tr>\n",
       "    <tr>\n",
       "      <th>704</th>\n",
       "      <td>../../data/Images/66b75f053cb7626f49f1a9bffe77...</td>\n",
       "      <td>Home and Kitchen Essential</td>\n",
       "      <td>3</td>\n",
       "    </tr>\n",
       "  </tbody>\n",
       "</table>\n",
       "</div>"
      ],
      "text/plain": [
       "                                            image_path  \\\n",
       "700  ../../data/Images/6c53dbd7a9d43744920bfae3bc06...   \n",
       "701  ../../data/Images/672d1c3272eae4586eb5994fe408...   \n",
       "702  ../../data/Images/72db37ec42ee76d79cf395221e0f...   \n",
       "703  ../../data/Images/0ae859a69c7608d8197c3ba8c37b...   \n",
       "704  ../../data/Images/66b75f053cb7626f49f1a9bffe77...   \n",
       "\n",
       "                       label_name  label  \n",
       "700    Home and Kitchen Essential      3  \n",
       "701    Home and Kitchen Essential      3  \n",
       "702  Festive and Special Occasion      2  \n",
       "703    Home and Kitchen Essential      3  \n",
       "704    Home and Kitchen Essential      3  "
      ]
     },
     "execution_count": 8,
     "metadata": {},
     "output_type": "execute_result"
    }
   ],
   "source": [
    "from sklearn import preprocessing\n",
    "\n",
    "path = \"../../data/Images/\"\n",
    "\n",
    "list_labels = df['category'].unique().tolist()\n",
    "\n",
    "data_path = glob(path + '**.jp*')\n",
    "\n",
    "def data_fct(path) :\n",
    "    list_photos = [file for file in path]\n",
    "    print(len(list_photos))\n",
    "    data = pd.DataFrame()\n",
    "    data['image_path'] = list_photos\n",
    "    data['label_name'] = df['category']\n",
    "    return data\n",
    "\n",
    "data = data_fct(data_path)[:700]\n",
    "data_test = data_fct(data_path)[700:]\n",
    "\n",
    "le = preprocessing.LabelEncoder()\n",
    "le.fit(data['label_name'])\n",
    "data['label'] = le.transform(data['label_name'])\n",
    "data_test['label'] = le.transform(data_test['label_name'])\n",
    "# data.head(5)\n",
    "data_test.head(5)"
   ]
  },
  {
   "cell_type": "code",
   "execution_count": 9,
   "metadata": {},
   "outputs": [
    {
     "data": {
      "text/html": [
       "<div>\n",
       "<style scoped>\n",
       "    .dataframe tbody tr th:only-of-type {\n",
       "        vertical-align: middle;\n",
       "    }\n",
       "\n",
       "    .dataframe tbody tr th {\n",
       "        vertical-align: top;\n",
       "    }\n",
       "\n",
       "    .dataframe thead th {\n",
       "        text-align: right;\n",
       "    }\n",
       "</style>\n",
       "<table border=\"1\" class=\"dataframe\">\n",
       "  <thead>\n",
       "    <tr style=\"text-align: right;\">\n",
       "      <th></th>\n",
       "      <th>image_path</th>\n",
       "      <th>label_name</th>\n",
       "    </tr>\n",
       "    <tr>\n",
       "      <th>label</th>\n",
       "      <th></th>\n",
       "      <th></th>\n",
       "    </tr>\n",
       "  </thead>\n",
       "  <tbody>\n",
       "    <tr>\n",
       "      <th>0</th>\n",
       "      <td>197</td>\n",
       "      <td>197</td>\n",
       "    </tr>\n",
       "    <tr>\n",
       "      <th>1</th>\n",
       "      <td>219</td>\n",
       "      <td>219</td>\n",
       "    </tr>\n",
       "    <tr>\n",
       "      <th>2</th>\n",
       "      <td>102</td>\n",
       "      <td>102</td>\n",
       "    </tr>\n",
       "    <tr>\n",
       "      <th>3</th>\n",
       "      <td>140</td>\n",
       "      <td>140</td>\n",
       "    </tr>\n",
       "    <tr>\n",
       "      <th>4</th>\n",
       "      <td>42</td>\n",
       "      <td>0</td>\n",
       "    </tr>\n",
       "  </tbody>\n",
       "</table>\n",
       "</div>"
      ],
      "text/plain": [
       "       image_path  label_name\n",
       "label                        \n",
       "0             197         197\n",
       "1             219         219\n",
       "2             102         102\n",
       "3             140         140\n",
       "4              42           0"
      ]
     },
     "execution_count": 9,
     "metadata": {},
     "output_type": "execute_result"
    }
   ],
   "source": [
    "data.groupby(\"label\").count()"
   ]
  },
  {
   "cell_type": "code",
   "execution_count": null,
   "metadata": {},
   "outputs": [],
   "source": [
    "# drop nan ici - visualiser les images rapidement"
   ]
  },
  {
   "cell_type": "code",
   "execution_count": 103,
   "metadata": {},
   "outputs": [],
   "source": [
    "# essayer de les classifier à la fin quand mon modèle sera au point et vérifier visuellement"
   ]
  },
  {
   "cell_type": "code",
   "execution_count": 104,
   "metadata": {
    "scrolled": false
   },
   "outputs": [
    {
     "ename": "KeyError",
     "evalue": "6",
     "output_type": "error",
     "traceback": [
      "\u001b[0;31m---------------------------------------------------------------------------\u001b[0m",
      "\u001b[0;31mKeyError\u001b[0m                                  Traceback (most recent call last)",
      "File \u001b[0;32m~/.pyenv/versions/3.9.7/envs/artefact/lib/python3.9/site-packages/pandas/core/indexes/base.py:3621\u001b[0m, in \u001b[0;36mIndex.get_loc\u001b[0;34m(self, key, method, tolerance)\u001b[0m\n\u001b[1;32m   3620\u001b[0m \u001b[38;5;28;01mtry\u001b[39;00m:\n\u001b[0;32m-> 3621\u001b[0m     \u001b[38;5;28;01mreturn\u001b[39;00m \u001b[38;5;28;43mself\u001b[39;49m\u001b[38;5;241;43m.\u001b[39;49m\u001b[43m_engine\u001b[49m\u001b[38;5;241;43m.\u001b[39;49m\u001b[43mget_loc\u001b[49m\u001b[43m(\u001b[49m\u001b[43mcasted_key\u001b[49m\u001b[43m)\u001b[49m\n\u001b[1;32m   3622\u001b[0m \u001b[38;5;28;01mexcept\u001b[39;00m \u001b[38;5;167;01mKeyError\u001b[39;00m \u001b[38;5;28;01mas\u001b[39;00m err:\n",
      "File \u001b[0;32m~/.pyenv/versions/3.9.7/envs/artefact/lib/python3.9/site-packages/pandas/_libs/index.pyx:136\u001b[0m, in \u001b[0;36mpandas._libs.index.IndexEngine.get_loc\u001b[0;34m()\u001b[0m\n",
      "File \u001b[0;32m~/.pyenv/versions/3.9.7/envs/artefact/lib/python3.9/site-packages/pandas/_libs/index.pyx:163\u001b[0m, in \u001b[0;36mpandas._libs.index.IndexEngine.get_loc\u001b[0;34m()\u001b[0m\n",
      "File \u001b[0;32mpandas/_libs/hashtable_class_helper.pxi:2131\u001b[0m, in \u001b[0;36mpandas._libs.hashtable.Int64HashTable.get_item\u001b[0;34m()\u001b[0m\n",
      "File \u001b[0;32mpandas/_libs/hashtable_class_helper.pxi:2140\u001b[0m, in \u001b[0;36mpandas._libs.hashtable.Int64HashTable.get_item\u001b[0;34m()\u001b[0m\n",
      "\u001b[0;31mKeyError\u001b[0m: 6",
      "\nThe above exception was the direct cause of the following exception:\n",
      "\u001b[0;31mKeyError\u001b[0m                                  Traceback (most recent call last)",
      "Input \u001b[0;32mIn [104]\u001b[0m, in \u001b[0;36m<module>\u001b[0;34m\u001b[0m\n\u001b[1;32m      4\u001b[0m     list_image_name \u001b[38;5;241m=\u001b[39m [data[\u001b[38;5;124m\"\u001b[39m\u001b[38;5;124mimage_path\u001b[39m\u001b[38;5;124m\"\u001b[39m][i] \u001b[38;5;28;01mfor\u001b[39;00m i \u001b[38;5;129;01min\u001b[39;00m \u001b[38;5;28mrange\u001b[39m(\u001b[38;5;28mlen\u001b[39m(data)) \u001b[38;5;28;01mif\u001b[39;00m data[\u001b[38;5;124m\"\u001b[39m\u001b[38;5;124mlabel_name\u001b[39m\u001b[38;5;124m\"\u001b[39m][i]\u001b[38;5;241m==\u001b[39mname]\n\u001b[1;32m      5\u001b[0m     \u001b[38;5;28;01mreturn\u001b[39;00m list_image_name\n\u001b[0;32m----> 7\u001b[0m list_cloudy\u001b[38;5;241m=\u001b[39m[data[\u001b[38;5;124m\"\u001b[39m\u001b[38;5;124mimage_path\u001b[39m\u001b[38;5;124m\"\u001b[39m][i] \u001b[38;5;28;01mfor\u001b[39;00m i \u001b[38;5;129;01min\u001b[39;00m \u001b[38;5;28mrange\u001b[39m(\u001b[38;5;28mlen\u001b[39m(data)) \u001b[38;5;28;01mif\u001b[39;00m data[\u001b[38;5;124m\"\u001b[39m\u001b[38;5;124mlabel_name\u001b[39m\u001b[38;5;124m\"\u001b[39m][i]\u001b[38;5;241m==\u001b[39m\u001b[38;5;124m\"\u001b[39m\u001b[38;5;124mHome and Kitchen Essential\u001b[39m\u001b[38;5;124m\"\u001b[39m]\n\u001b[1;32m      8\u001b[0m list_rain\u001b[38;5;241m=\u001b[39m[data[\u001b[38;5;124m\"\u001b[39m\u001b[38;5;124mimage_path\u001b[39m\u001b[38;5;124m\"\u001b[39m][i] \u001b[38;5;28;01mfor\u001b[39;00m i \u001b[38;5;129;01min\u001b[39;00m \u001b[38;5;28mrange\u001b[39m(\u001b[38;5;28mlen\u001b[39m(data)) \u001b[38;5;28;01mif\u001b[39;00m data[\u001b[38;5;124m\"\u001b[39m\u001b[38;5;124mlabel_name\u001b[39m\u001b[38;5;124m\"\u001b[39m][i]\u001b[38;5;241m==\u001b[39m\u001b[38;5;124m\"\u001b[39m\u001b[38;5;124mBaby and Personal Care\u001b[39m\u001b[38;5;124m\"\u001b[39m]\n\u001b[1;32m      9\u001b[0m list_shine\u001b[38;5;241m=\u001b[39m[data[\u001b[38;5;124m\"\u001b[39m\u001b[38;5;124mimage_path\u001b[39m\u001b[38;5;124m\"\u001b[39m][i] \u001b[38;5;28;01mfor\u001b[39;00m i \u001b[38;5;129;01min\u001b[39;00m \u001b[38;5;28mrange\u001b[39m(\u001b[38;5;28mlen\u001b[39m(data)) \u001b[38;5;28;01mif\u001b[39;00m data[\u001b[38;5;124m\"\u001b[39m\u001b[38;5;124mlabel_name\u001b[39m\u001b[38;5;124m\"\u001b[39m][i]\u001b[38;5;241m==\u001b[39m\u001b[38;5;124m\"\u001b[39m\u001b[38;5;124mElectronics and Accessories\u001b[39m\u001b[38;5;124m\"\u001b[39m]\n",
      "Input \u001b[0;32mIn [104]\u001b[0m, in \u001b[0;36m<listcomp>\u001b[0;34m(.0)\u001b[0m\n\u001b[1;32m      4\u001b[0m     list_image_name \u001b[38;5;241m=\u001b[39m [data[\u001b[38;5;124m\"\u001b[39m\u001b[38;5;124mimage_path\u001b[39m\u001b[38;5;124m\"\u001b[39m][i] \u001b[38;5;28;01mfor\u001b[39;00m i \u001b[38;5;129;01min\u001b[39;00m \u001b[38;5;28mrange\u001b[39m(\u001b[38;5;28mlen\u001b[39m(data)) \u001b[38;5;28;01mif\u001b[39;00m data[\u001b[38;5;124m\"\u001b[39m\u001b[38;5;124mlabel_name\u001b[39m\u001b[38;5;124m\"\u001b[39m][i]\u001b[38;5;241m==\u001b[39mname]\n\u001b[1;32m      5\u001b[0m     \u001b[38;5;28;01mreturn\u001b[39;00m list_image_name\n\u001b[0;32m----> 7\u001b[0m list_cloudy\u001b[38;5;241m=\u001b[39m[data[\u001b[38;5;124m\"\u001b[39m\u001b[38;5;124mimage_path\u001b[39m\u001b[38;5;124m\"\u001b[39m][i] \u001b[38;5;28;01mfor\u001b[39;00m i \u001b[38;5;129;01min\u001b[39;00m \u001b[38;5;28mrange\u001b[39m(\u001b[38;5;28mlen\u001b[39m(data)) \u001b[38;5;28;01mif\u001b[39;00m \u001b[43mdata\u001b[49m\u001b[43m[\u001b[49m\u001b[38;5;124;43m\"\u001b[39;49m\u001b[38;5;124;43mlabel_name\u001b[39;49m\u001b[38;5;124;43m\"\u001b[39;49m\u001b[43m]\u001b[49m\u001b[43m[\u001b[49m\u001b[43mi\u001b[49m\u001b[43m]\u001b[49m\u001b[38;5;241m==\u001b[39m\u001b[38;5;124m\"\u001b[39m\u001b[38;5;124mHome and Kitchen Essential\u001b[39m\u001b[38;5;124m\"\u001b[39m]\n\u001b[1;32m      8\u001b[0m list_rain\u001b[38;5;241m=\u001b[39m[data[\u001b[38;5;124m\"\u001b[39m\u001b[38;5;124mimage_path\u001b[39m\u001b[38;5;124m\"\u001b[39m][i] \u001b[38;5;28;01mfor\u001b[39;00m i \u001b[38;5;129;01min\u001b[39;00m \u001b[38;5;28mrange\u001b[39m(\u001b[38;5;28mlen\u001b[39m(data)) \u001b[38;5;28;01mif\u001b[39;00m data[\u001b[38;5;124m\"\u001b[39m\u001b[38;5;124mlabel_name\u001b[39m\u001b[38;5;124m\"\u001b[39m][i]\u001b[38;5;241m==\u001b[39m\u001b[38;5;124m\"\u001b[39m\u001b[38;5;124mBaby and Personal Care\u001b[39m\u001b[38;5;124m\"\u001b[39m]\n\u001b[1;32m      9\u001b[0m list_shine\u001b[38;5;241m=\u001b[39m[data[\u001b[38;5;124m\"\u001b[39m\u001b[38;5;124mimage_path\u001b[39m\u001b[38;5;124m\"\u001b[39m][i] \u001b[38;5;28;01mfor\u001b[39;00m i \u001b[38;5;129;01min\u001b[39;00m \u001b[38;5;28mrange\u001b[39m(\u001b[38;5;28mlen\u001b[39m(data)) \u001b[38;5;28;01mif\u001b[39;00m data[\u001b[38;5;124m\"\u001b[39m\u001b[38;5;124mlabel_name\u001b[39m\u001b[38;5;124m\"\u001b[39m][i]\u001b[38;5;241m==\u001b[39m\u001b[38;5;124m\"\u001b[39m\u001b[38;5;124mElectronics and Accessories\u001b[39m\u001b[38;5;124m\"\u001b[39m]\n",
      "File \u001b[0;32m~/.pyenv/versions/3.9.7/envs/artefact/lib/python3.9/site-packages/pandas/core/series.py:958\u001b[0m, in \u001b[0;36mSeries.__getitem__\u001b[0;34m(self, key)\u001b[0m\n\u001b[1;32m    955\u001b[0m     \u001b[38;5;28;01mreturn\u001b[39;00m \u001b[38;5;28mself\u001b[39m\u001b[38;5;241m.\u001b[39m_values[key]\n\u001b[1;32m    957\u001b[0m \u001b[38;5;28;01melif\u001b[39;00m key_is_scalar:\n\u001b[0;32m--> 958\u001b[0m     \u001b[38;5;28;01mreturn\u001b[39;00m \u001b[38;5;28;43mself\u001b[39;49m\u001b[38;5;241;43m.\u001b[39;49m\u001b[43m_get_value\u001b[49m\u001b[43m(\u001b[49m\u001b[43mkey\u001b[49m\u001b[43m)\u001b[49m\n\u001b[1;32m    960\u001b[0m \u001b[38;5;28;01mif\u001b[39;00m is_hashable(key):\n\u001b[1;32m    961\u001b[0m     \u001b[38;5;66;03m# Otherwise index.get_value will raise InvalidIndexError\u001b[39;00m\n\u001b[1;32m    962\u001b[0m     \u001b[38;5;28;01mtry\u001b[39;00m:\n\u001b[1;32m    963\u001b[0m         \u001b[38;5;66;03m# For labels that don't resolve as scalars like tuples and frozensets\u001b[39;00m\n",
      "File \u001b[0;32m~/.pyenv/versions/3.9.7/envs/artefact/lib/python3.9/site-packages/pandas/core/series.py:1069\u001b[0m, in \u001b[0;36mSeries._get_value\u001b[0;34m(self, label, takeable)\u001b[0m\n\u001b[1;32m   1066\u001b[0m     \u001b[38;5;28;01mreturn\u001b[39;00m \u001b[38;5;28mself\u001b[39m\u001b[38;5;241m.\u001b[39m_values[label]\n\u001b[1;32m   1068\u001b[0m \u001b[38;5;66;03m# Similar to Index.get_value, but we do not fall back to positional\u001b[39;00m\n\u001b[0;32m-> 1069\u001b[0m loc \u001b[38;5;241m=\u001b[39m \u001b[38;5;28;43mself\u001b[39;49m\u001b[38;5;241;43m.\u001b[39;49m\u001b[43mindex\u001b[49m\u001b[38;5;241;43m.\u001b[39;49m\u001b[43mget_loc\u001b[49m\u001b[43m(\u001b[49m\u001b[43mlabel\u001b[49m\u001b[43m)\u001b[49m\n\u001b[1;32m   1070\u001b[0m \u001b[38;5;28;01mreturn\u001b[39;00m \u001b[38;5;28mself\u001b[39m\u001b[38;5;241m.\u001b[39mindex\u001b[38;5;241m.\u001b[39m_get_values_for_loc(\u001b[38;5;28mself\u001b[39m, loc, label)\n",
      "File \u001b[0;32m~/.pyenv/versions/3.9.7/envs/artefact/lib/python3.9/site-packages/pandas/core/indexes/base.py:3623\u001b[0m, in \u001b[0;36mIndex.get_loc\u001b[0;34m(self, key, method, tolerance)\u001b[0m\n\u001b[1;32m   3621\u001b[0m     \u001b[38;5;28;01mreturn\u001b[39;00m \u001b[38;5;28mself\u001b[39m\u001b[38;5;241m.\u001b[39m_engine\u001b[38;5;241m.\u001b[39mget_loc(casted_key)\n\u001b[1;32m   3622\u001b[0m \u001b[38;5;28;01mexcept\u001b[39;00m \u001b[38;5;167;01mKeyError\u001b[39;00m \u001b[38;5;28;01mas\u001b[39;00m err:\n\u001b[0;32m-> 3623\u001b[0m     \u001b[38;5;28;01mraise\u001b[39;00m \u001b[38;5;167;01mKeyError\u001b[39;00m(key) \u001b[38;5;28;01mfrom\u001b[39;00m \u001b[38;5;21;01merr\u001b[39;00m\n\u001b[1;32m   3624\u001b[0m \u001b[38;5;28;01mexcept\u001b[39;00m \u001b[38;5;167;01mTypeError\u001b[39;00m:\n\u001b[1;32m   3625\u001b[0m     \u001b[38;5;66;03m# If we have a listlike key, _check_indexing_error will raise\u001b[39;00m\n\u001b[1;32m   3626\u001b[0m     \u001b[38;5;66;03m#  InvalidIndexError. Otherwise we fall through and re-raise\u001b[39;00m\n\u001b[1;32m   3627\u001b[0m     \u001b[38;5;66;03m#  the TypeError.\u001b[39;00m\n\u001b[1;32m   3628\u001b[0m     \u001b[38;5;28mself\u001b[39m\u001b[38;5;241m.\u001b[39m_check_indexing_error(key)\n",
      "\u001b[0;31mKeyError\u001b[0m: 6"
     ]
    }
   ],
   "source": [
    "from matplotlib.image import imread\n",
    "\n",
    "def list_fct(name) :\n",
    "    list_image_name = [data[\"image_path\"][i] for i in range(len(data)) if data[\"label_name\"][i]==name]\n",
    "    return list_image_name\n",
    "\n",
    "list_cloudy=[data[\"image_path\"][i] for i in range(len(data)) if data[\"label_name\"][i]==\"Home and Kitchen Essential\"]\n",
    "list_rain=[data[\"image_path\"][i] for i in range(len(data)) if data[\"label_name\"][i]==\"Baby and Personal Care\"]\n",
    "list_shine=[data[\"image_path\"][i] for i in range(len(data)) if data[\"label_name\"][i]==\"Electronics and Accessories\"]\n",
    "list_sunrise=[data[\"image_path\"][i] for i in range(len(data)) if data[\"label_name\"][i]==\"Festive and Special Occasion\"]\n",
    "\n",
    "for name in list_labels :\n",
    "    print(name)\n",
    "    # print(\"-------\")\n",
    "    for i in range(3):\n",
    "        plt.subplot(130 + 1 + i)\n",
    "        filename = list_fct(name)[i+10]\n",
    "        image = imread(filename)\n",
    "        plt.imshow(image)\n",
    "    plt.show()"
   ]
  },
  {
   "cell_type": "markdown",
   "metadata": {},
   "source": [
    "# Etape 1 : étude de faisabilité"
   ]
  },
  {
   "cell_type": "markdown",
   "metadata": {},
   "source": [
    "## Création du modèle pré-entraîné"
   ]
  },
  {
   "cell_type": "code",
   "execution_count": null,
   "metadata": {
    "scrolled": true
   },
   "outputs": [
    {
     "name": "stdout",
     "output_type": "stream",
     "text": [
      "Metal device set to: Apple M1\n",
      "\n",
      "systemMemory: 8.00 GB\n",
      "maxCacheSize: 2.67 GB\n",
      "\n"
     ]
    },
    {
     "name": "stderr",
     "output_type": "stream",
     "text": [
      "2024-02-23 13:55:54.971309: I tensorflow/core/common_runtime/pluggable_device/pluggable_device_factory.cc:305] Could not identify NUMA node of platform GPU ID 0, defaulting to 0. Your kernel may not have been built with NUMA support.\n",
      "2024-02-23 13:55:54.971569: I tensorflow/core/common_runtime/pluggable_device/pluggable_device_factory.cc:271] Created TensorFlow device (/job:localhost/replica:0/task:0/device:GPU:0 with 0 MB memory) -> physical PluggableDevice (device: 0, name: METAL, pci bus id: <undefined>)\n"
     ]
    },
    {
     "name": "stdout",
     "output_type": "stream",
     "text": [
      "Downloading data from https://storage.googleapis.com/tensorflow/keras-applications/vgg16/vgg16_weights_tf_dim_ordering_tf_kernels.h5\n",
      "553467904/553467096 [==============================] - 17s 0us/step\n",
      "553476096/553467096 [==============================] - 17s 0us/step\n",
      "Model: \"model\"\n",
      "_________________________________________________________________\n",
      " Layer (type)                Output Shape              Param #   \n",
      "=================================================================\n",
      " input_1 (InputLayer)        [(None, 224, 224, 3)]     0         \n",
      "                                                                 \n",
      " block1_conv1 (Conv2D)       (None, 224, 224, 64)      1792      \n",
      "                                                                 \n",
      " block1_conv2 (Conv2D)       (None, 224, 224, 64)      36928     \n",
      "                                                                 \n",
      " block1_pool (MaxPooling2D)  (None, 112, 112, 64)      0         \n",
      "                                                                 \n",
      " block2_conv1 (Conv2D)       (None, 112, 112, 128)     73856     \n",
      "                                                                 \n",
      " block2_conv2 (Conv2D)       (None, 112, 112, 128)     147584    \n",
      "                                                                 \n",
      " block2_pool (MaxPooling2D)  (None, 56, 56, 128)       0         \n",
      "                                                                 \n",
      " block3_conv1 (Conv2D)       (None, 56, 56, 256)       295168    \n",
      "                                                                 \n",
      " block3_conv2 (Conv2D)       (None, 56, 56, 256)       590080    \n",
      "                                                                 \n",
      " block3_conv3 (Conv2D)       (None, 56, 56, 256)       590080    \n",
      "                                                                 \n",
      " block3_pool (MaxPooling2D)  (None, 28, 28, 256)       0         \n",
      "                                                                 \n",
      " block4_conv1 (Conv2D)       (None, 28, 28, 512)       1180160   \n",
      "                                                                 \n",
      " block4_conv2 (Conv2D)       (None, 28, 28, 512)       2359808   \n",
      "                                                                 \n",
      " block4_conv3 (Conv2D)       (None, 28, 28, 512)       2359808   \n",
      "                                                                 \n",
      " block4_pool (MaxPooling2D)  (None, 14, 14, 512)       0         \n",
      "                                                                 \n",
      " block5_conv1 (Conv2D)       (None, 14, 14, 512)       2359808   \n",
      "                                                                 \n",
      " block5_conv2 (Conv2D)       (None, 14, 14, 512)       2359808   \n",
      "                                                                 \n",
      " block5_conv3 (Conv2D)       (None, 14, 14, 512)       2359808   \n",
      "                                                                 \n",
      " block5_pool (MaxPooling2D)  (None, 7, 7, 512)         0         \n",
      "                                                                 \n",
      " flatten (Flatten)           (None, 25088)             0         \n",
      "                                                                 \n",
      " fc1 (Dense)                 (None, 4096)              102764544 \n",
      "                                                                 \n",
      " fc2 (Dense)                 (None, 4096)              16781312  \n",
      "                                                                 \n",
      "=================================================================\n",
      "Total params: 134,260,544\n",
      "Trainable params: 134,260,544\n",
      "Non-trainable params: 0\n",
      "_________________________________________________________________\n",
      "None\n"
     ]
    }
   ],
   "source": [
    "base_model = VGG16()\n",
    "model = Model(inputs = base_model.inputs, outputs = base_model.layers[-2].output)\n",
    "\n",
    "print(model.summary())"
   ]
  },
  {
   "cell_type": "markdown",
   "metadata": {},
   "source": [
    "## Création des features des images"
   ]
  },
  {
   "cell_type": "code",
   "execution_count": null,
   "metadata": {
    "ExecuteTime": {
     "end_time": "2020-12-31T13:11:24.767685Z",
     "start_time": "2020-12-31T13:09:49.843465Z"
    },
    "scrolled": true
   },
   "outputs": [
    {
     "name": "stdout",
     "output_type": "stream",
     "text": [
      "0\n"
     ]
    },
    {
     "name": "stderr",
     "output_type": "stream",
     "text": [
      "2024-02-23 13:56:24.049474: W tensorflow/core/platform/profile_utils/cpu_utils.cc:128] Failed to get CPU frequency: 0 Hz\n",
      "2024-02-23 13:56:24.165476: I tensorflow/core/grappler/optimizers/custom_graph_optimizer_registry.cc:113] Plugin optimizer for device_type GPU is enabled.\n"
     ]
    },
    {
     "name": "stdout",
     "output_type": "stream",
     "text": [
      "100\n",
      "200\n"
     ]
    },
    {
     "name": "stderr",
     "output_type": "stream",
     "text": [
      "/Users/lucilerabeau/.pyenv/versions/3.9.7/envs/artefact/lib/python3.9/site-packages/PIL/Image.py:2896: DecompressionBombWarning: Image size (93680328 pixels) exceeds limit of 89478485 pixels, could be decompression bomb DOS attack.\n",
      "  warnings.warn(\n"
     ]
    },
    {
     "name": "stdout",
     "output_type": "stream",
     "text": [
      "300\n",
      "400\n",
      "500\n",
      "600\n"
     ]
    },
    {
     "data": {
      "text/plain": [
       "(700, 4096)"
      ]
     },
     "execution_count": 12,
     "metadata": {},
     "output_type": "execute_result"
    }
   ],
   "source": [
    "images_features = []\n",
    "i = 0 \n",
    "for image_file in data['image_path']:\n",
    "    if i%100 == 0 : print(i)\n",
    "    i +=1\n",
    "    image = load_img(image_file, target_size = (224, 224))\n",
    "    image = img_to_array(image) \n",
    "    image = np.expand_dims(image, axis = 0)\n",
    "    image = preprocess_input(image)\n",
    "    images_features.append(model.predict(image, verbose = 0)[0]) # predict from pretrained model\n",
    "\n",
    "images_features = np.asarray(images_features)\n",
    "images_features.shape"
   ]
  },
  {
   "cell_type": "markdown",
   "metadata": {},
   "source": [
    "## Réduction dimension et analyse"
   ]
  },
  {
   "cell_type": "markdown",
   "metadata": {},
   "source": [
    "### Réduction de dimension PCA"
   ]
  },
  {
   "cell_type": "code",
   "execution_count": null,
   "metadata": {},
   "outputs": [
    {
     "name": "stdout",
     "output_type": "stream",
     "text": [
      "(700, 4096)\n",
      "(700, 569)\n"
     ]
    }
   ],
   "source": [
    "from sklearn import manifold, decomposition\n",
    "\n",
    "print(images_features.shape)\n",
    "pca = decomposition.PCA(n_components = 0.99)\n",
    "feat_pca = pca.fit_transform(images_features)\n",
    "print(feat_pca.shape)"
   ]
  },
  {
   "cell_type": "markdown",
   "metadata": {},
   "source": [
    "### Réduction de dimension T-SNE et affichage des images selon vraies classes"
   ]
  },
  {
   "cell_type": "code",
   "execution_count": null,
   "metadata": {},
   "outputs": [
    {
     "name": "stderr",
     "output_type": "stream",
     "text": [
      "/Users/lucilerabeau/.pyenv/versions/3.9.7/envs/artefact/lib/python3.9/site-packages/sklearn/manifold/_t_sne.py:790: FutureWarning: The default learning rate in TSNE will change from 200.0 to 'auto' in 1.2.\n",
      "  warnings.warn(\n"
     ]
    },
    {
     "name": "stdout",
     "output_type": "stream",
     "text": [
      "temps de T-SNE :             2.66 secondes\n"
     ]
    }
   ],
   "source": [
    "from sklearn import manifold, decomposition\n",
    "import time\n",
    "\n",
    "temps1 = time.time()\n",
    "\n",
    "tsne = manifold.TSNE(n_components = 2, perplexity = 30, n_iter = 2000, init = 'random', random_state=6)\n",
    "X_tsne = tsne.fit_transform(feat_pca)\n",
    "\n",
    "duration1=time.time()-temps1\n",
    "print(\"temps de T-SNE : \", \"%15.2f\" % duration1, \"secondes\")"
   ]
  },
  {
   "cell_type": "code",
   "execution_count": null,
   "metadata": {},
   "outputs": [
    {
     "data": {
      "image/png": "[encoded data removed]",
      "text/plain": [
       "<Figure size 576x360 with 1 Axes>"
      ]
     },
     "metadata": {
      "needs_background": "light"
     },
     "output_type": "display_data"
    }
   ],
   "source": [
    "df_tsne = pd.DataFrame(X_tsne, columns=['tsne1', 'tsne2'])\n",
    "df_tsne[\"class\"] = data[\"label_name\"]\n",
    "\n",
    "plt.figure(figsize=(8,5))\n",
    "sns.scatterplot(\n",
    "    x=\"tsne1\", y=\"tsne2\",\n",
    "    hue=\"class\",\n",
    "    palette=sns.color_palette('tab10', n_colors=4), s=50, alpha=0.6,\n",
    "    data=df_tsne,\n",
    "    legend=\"brief\")\n",
    "\n",
    "plt.title('TSNE selon les vraies classes', fontsize = 30, pad = 35, fontweight = 'bold')\n",
    "plt.xlabel('tsne1', fontsize = 26, fontweight = 'bold')\n",
    "plt.ylabel('tsne2', fontsize = 26, fontweight = 'bold')\n",
    "plt.legend(prop={'size': 14}) \n",
    "\n",
    "plt.show()\n"
   ]
  },
  {
   "cell_type": "markdown",
   "metadata": {},
   "source": [
    "* L'analyse graphique montre visuellement qu'il est réalisable de séparer automatiquement les images selon leurs vraies classes\n",
    "* Ceci suffit à démontrer la faisabilité de réaliser ultérieurement une classification supervisée pour déterminer automatiquement les classes des images\n",
    "* Cette étape 1 est très rapide à mettre en oeuvre. Une conclusion négative sur la faisabilité aurait éviter de réaliser des traitements beaucoup plus lourd de classification supervisée\n",
    "* Cette démarche en 2 étapes (1. Faisabilité, 2. Classification supervisée si étape 1 OK) s'inscrit dans une démarche agile de tout projet Data"
   ]
  },
  {
   "cell_type": "markdown",
   "metadata": {},
   "source": [
    "### Création de clusters à partir du T-SNE et affichage des images selon clusters\n",
    "* Attention : ici, il ne s'agit pas de faire une classification non supervisée, mais simplement, par une mesure de l'ARI, de conforter l'analyse graphique précédente qui démontre la faisabilité de réaliser ultérieurement une classification supervisée. Cette mesure de l'ARI nécessite de créer des clusters théoriques via KMeans\n",
    "* Il s'agit donc de réaliser une mesure de ce que nous voyons graphiquement, donc à partir des données en sortie du t-sne\n",
    "* Pour réaliser une classification non supervisée, il aurait fallu repartir des données avant t-sne\n",
    "* Dans la démarche en 2 étapes, il n'est pas utile de réaliser une classification non supervisée, une classification supervisée est bien plus performante. Même le calcul de l'ARI n'est pas indispensable, nous pourrions passer directement du graphique t-sne précédent à l'étape 2 de classification supervisée\n",
    "* Il n'est donc pas utile de passer du temps à optimiser l'ARI, un ordre de grandeur suffit pour conforter le 1er graphique t-sne. D'ailleurs la meilleure solution de feature engineering ne génère pas toujours le meilleur ARI. L'analyse graphique t-sne est bien plus riche d'enseignement\n"
   ]
  },
  {
   "cell_type": "code",
   "execution_count": null,
   "metadata": {},
   "outputs": [
    {
     "data": {
      "text/plain": [
       "KMeans(n_clusters=4, n_init=100)"
      ]
     },
     "execution_count": 16,
     "metadata": {},
     "output_type": "execute_result"
    }
   ],
   "source": [
    "from sklearn import cluster, metrics\n",
    "\n",
    "cls = cluster.KMeans(n_clusters=4, n_init=100)\n",
    "cls.fit(X_tsne)"
   ]
  },
  {
   "cell_type": "code",
   "execution_count": null,
   "metadata": {
    "scrolled": false
   },
   "outputs": [
    {
     "data": {
      "image/png": "[encoded data removed]",
      "text/plain": [
       "<Figure size 576x360 with 1 Axes>"
      ]
     },
     "metadata": {
      "needs_background": "light"
     },
     "output_type": "display_data"
    },
    {
     "name": "stdout",
     "output_type": "stream",
     "text": [
      "ARI :  0.0030534782133219444\n"
     ]
    }
   ],
   "source": [
    "df_tsne[\"cluster\"] = cls.labels_\n",
    "\n",
    "plt.figure(figsize=(8,5))\n",
    "sns.scatterplot(\n",
    "    x=\"tsne1\", y=\"tsne2\",\n",
    "    hue=\"cluster\",\n",
    "    palette=sns.color_palette('tab10', n_colors=4), s=50, alpha=0.6,\n",
    "    data=df_tsne,\n",
    "    legend=\"brief\")\n",
    "\n",
    "plt.title('TSNE selon les clusters', fontsize = 30, pad = 35, fontweight = 'bold')\n",
    "plt.xlabel('tsne1', fontsize = 26, fontweight = 'bold')\n",
    "plt.ylabel('tsne2', fontsize = 26, fontweight = 'bold')\n",
    "plt.legend(prop={'size': 14}) \n",
    "\n",
    "plt.show()\n",
    "\n",
    "labels = data[\"label\"]\n",
    "print(\"ARI : \", metrics.adjusted_rand_score(labels, cls.labels_))"
   ]
  },
  {
   "cell_type": "code",
   "execution_count": null,
   "metadata": {},
   "outputs": [
    {
     "data": {
      "text/plain": [
       "49"
      ]
     },
     "execution_count": 18,
     "metadata": {},
     "output_type": "execute_result"
    }
   ],
   "source": [
    "# Analyse d'image \"shine\" affectées au cluster 3 \"cloudy\"\n",
    "\n",
    "list_shine_0 = [i for i in range(len(data[\"image_path\"])) \\\n",
    "                if (data.iloc[i]['label_name']=='Baby and Personal Care') and (df_tsne.iloc[i]['cluster']==3)]\n",
    "list_shine_0[0]"
   ]
  },
  {
   "cell_type": "code",
   "execution_count": null,
   "metadata": {},
   "outputs": [
    {
     "name": "stdout",
     "output_type": "stream",
     "text": [
      "tsne1                   -9.793565\n",
      "tsne2                  -14.231055\n",
      "class      Baby and Personal Care\n",
      "cluster                         2\n",
      "Name: 220, dtype: object\n"
     ]
    },
    {
     "data": {
      "image/png": "[encoded data removed]",
      "text/plain": [
       "<Figure size 576x360 with 1 Axes>"
      ]
     },
     "metadata": {
      "needs_background": "light"
     },
     "output_type": "display_data"
    }
   ],
   "source": [
    "# Affichage image \"shine\" considérée comme \"cloudy\"\n",
    "id = 220 ### A VERIFIER\n",
    "print(df_tsne.iloc[id])\n",
    "fig = plt.figure(figsize = (8, 5))\n",
    "# plt.subplot(130 + 1 + i)\n",
    "filename = data[\"image_path\"][id]\n",
    "image = imread(filename)\n",
    "plt.imshow(image)\n",
    "plt.show()\n",
    "\n"
   ]
  },
  {
   "cell_type": "markdown",
   "metadata": {},
   "source": [
    "* Analyse : le modèle pré-entraîné confond \"cloud\" avec de la neige ..."
   ]
  },
  {
   "cell_type": "markdown",
   "metadata": {},
   "source": [
    "### Analyse par classes"
   ]
  },
  {
   "cell_type": "code",
   "execution_count": null,
   "metadata": {},
   "outputs": [
    {
     "name": "stdout",
     "output_type": "stream",
     "text": [
      "[[51 31 72 43  0]\n",
      " [56 39 67 57  0]\n",
      " [33 25 31 13  0]\n",
      " [36 25 46 33  0]\n",
      " [ 7 12  9 14  0]]\n"
     ]
    }
   ],
   "source": [
    "conf_mat = metrics.confusion_matrix(labels, cls.labels_)\n",
    "print(conf_mat)"
   ]
  },
  {
   "cell_type": "code",
   "execution_count": null,
   "metadata": {},
   "outputs": [],
   "source": [
    "def conf_mat_transform(y_true, y_pred) :\n",
    "    conf_mat = metrics.confusion_matrix(y_true,y_pred)\n",
    "    \n",
    "    corresp = np.argmax(conf_mat, axis=0)\n",
    "    print (\"Correspondance des clusters : \", corresp)\n",
    "    # y_pred_transform = np.apply_along_axis(correspond_fct, 1, y_pred)\n",
    "    labels = pd.Series(y_true, name=\"y_true\").to_frame()\n",
    "    labels['y_pred'] = y_pred\n",
    "    labels['y_pred_transform'] = labels['y_pred'].apply(lambda x : corresp[x]) \n",
    "    \n",
    "    return labels['y_pred_transform']"
   ]
  },
  {
   "cell_type": "code",
   "execution_count": null,
   "metadata": {},
   "outputs": [
    {
     "name": "stdout",
     "output_type": "stream",
     "text": [
      "Correspondance des clusters :  [1 1 0 1 0]\n",
      "[[ 72 125   0   0   0]\n",
      " [ 67 152   0   0   0]\n",
      " [ 31  71   0   0   0]\n",
      " [ 46  94   0   0   0]\n",
      " [  9  33   0   0   0]]\n",
      "\n",
      "              precision    recall  f1-score   support\n",
      "\n",
      "           0       0.32      0.37      0.34       197\n",
      "           1       0.32      0.69      0.44       219\n",
      "           2       0.00      0.00      0.00       102\n",
      "           3       0.00      0.00      0.00       140\n",
      "           4       0.00      0.00      0.00        42\n",
      "\n",
      "    accuracy                           0.32       700\n",
      "   macro avg       0.13      0.21      0.16       700\n",
      "weighted avg       0.19      0.32      0.23       700\n",
      "\n"
     ]
    },
    {
     "name": "stderr",
     "output_type": "stream",
     "text": [
      "/Users/lucilerabeau/.pyenv/versions/3.9.7/envs/artefact/lib/python3.9/site-packages/sklearn/metrics/_classification.py:1318: UndefinedMetricWarning: Precision and F-score are ill-defined and being set to 0.0 in labels with no predicted samples. Use `zero_division` parameter to control this behavior.\n",
      "  _warn_prf(average, modifier, msg_start, len(result))\n",
      "/Users/lucilerabeau/.pyenv/versions/3.9.7/envs/artefact/lib/python3.9/site-packages/sklearn/metrics/_classification.py:1318: UndefinedMetricWarning: Precision and F-score are ill-defined and being set to 0.0 in labels with no predicted samples. Use `zero_division` parameter to control this behavior.\n",
      "  _warn_prf(average, modifier, msg_start, len(result))\n",
      "/Users/lucilerabeau/.pyenv/versions/3.9.7/envs/artefact/lib/python3.9/site-packages/sklearn/metrics/_classification.py:1318: UndefinedMetricWarning: Precision and F-score are ill-defined and being set to 0.0 in labels with no predicted samples. Use `zero_division` parameter to control this behavior.\n",
      "  _warn_prf(average, modifier, msg_start, len(result))\n"
     ]
    }
   ],
   "source": [
    "cls_labels_transform = conf_mat_transform(labels, cls.labels_)\n",
    "conf_mat = metrics.confusion_matrix(labels, cls_labels_transform)\n",
    "print(conf_mat)\n",
    "print()\n",
    "print(metrics.classification_report(labels, cls_labels_transform))"
   ]
  },
  {
   "cell_type": "code",
   "execution_count": null,
   "metadata": {
    "scrolled": true
   },
   "outputs": [
    {
     "data": {
      "text/plain": [
       "<AxesSubplot:>"
      ]
     },
     "execution_count": 23,
     "metadata": {},
     "output_type": "execute_result"
    },
    {
     "data": {
      "image/png": "[encoded data removed]",
      "text/plain": [
       "<Figure size 432x288 with 2 Axes>"
      ]
     },
     "metadata": {
      "needs_background": "light"
     },
     "output_type": "display_data"
    }
   ],
   "source": [
    "df_cm = pd.DataFrame(conf_mat, index = [label for label in list_labels],\n",
    "                  columns = [i for i in \"01234\"])\n",
    "plt.figure(figsize = (6,4))\n",
    "sns.heatmap(df_cm, annot=True, cmap=\"Blues\")"
   ]
  },
  {
   "cell_type": "markdown",
   "metadata": {},
   "source": [
    "# Etape 2 : classification supervisée\n",
    "4 approches sont présentées :\n",
    "* Une approche simple par préparation initiale de l'ensemble des images avant classification supervisée\n",
    "* Une approche par data generator, permettant facilement la data augmentation. Les images sont directement récupérées à la volée dans le repertoire des images\n",
    "* Une approche récente proposée par Tensorflow.org par DataSet, sans data augmentation\n",
    "* Une approche par  DataSet, avec data augmentation intégrée au modèle : layer en début de modèle\n"
   ]
  },
  {
   "cell_type": "markdown",
   "metadata": {},
   "source": [
    "## Création du modèle de classification"
   ]
  },
  {
   "cell_type": "code",
   "execution_count": null,
   "metadata": {
    "scrolled": true
   },
   "outputs": [],
   "source": [
    "def create_model_fct() :\n",
    "    # Récupération modèle pré-entraîné\n",
    "    model0 = VGG16(include_top = False, weights = \"imagenet\", input_shape = (224, 224, 3))\n",
    "\n",
    "    # Layer non entraînables = on garde les poids du modèle pré-entraîné\n",
    "    for layer in model0.layers:\n",
    "        layer.trainable = False\n",
    "\n",
    "    # Récupérer la sortie de ce réseau\n",
    "    x = model0.output\n",
    "    # Compléter le modèle\n",
    "    x = GlobalAveragePooling2D()(x)\n",
    "    x = Dense(256, activation = 'relu')(x)\n",
    "    x = Dropout(0.5)(x)\n",
    "    predictions = Dense(5, activation = 'softmax')(x) # 5 = nb de catégories\n",
    "\n",
    "    # Définir le nouveau modèle\n",
    "    model = Model(inputs = model0.input, outputs = predictions)\n",
    "    # compilation du modèle \n",
    "    model.compile(loss = \"categorical_crossentropy\", optimizer = 'adam', metrics = [\"accuracy\"]) # optimizer = 'rmsprop'\n",
    "\n",
    "    print(model.summary())\n",
    "\n",
    "    return model\n"
   ]
  },
  {
   "cell_type": "code",
   "execution_count": null,
   "metadata": {},
   "outputs": [],
   "source": [
    "# labels = "
   ]
  },
  {
   "cell_type": "markdown",
   "metadata": {},
   "source": [
    "## Approche préparation initiale des images"
   ]
  },
  {
   "cell_type": "code",
   "execution_count": null,
   "metadata": {},
   "outputs": [],
   "source": [
    "def image_prep_fct(data):\n",
    "    prepared_images = []\n",
    "    for image_num in range(len(data['image_path'])):\n",
    "        img = (load_img(data['image_path'][image_num], target_size = (224, 224)))\n",
    "        img = img_to_array(img)\n",
    "        img = img.reshape((img.shape[0], img.shape[1], img.shape[2]))\n",
    "        img = preprocess_input(img)\n",
    "        prepared_images.append(img)\n",
    "        prepared_images_np = np.array(prepared_images)\n",
    "    return prepared_images_np"
   ]
  },
  {
   "cell_type": "code",
   "execution_count": null,
   "metadata": {},
   "outputs": [
    {
     "name": "stderr",
     "output_type": "stream",
     "text": [
      "/Users/lucilerabeau/.pyenv/versions/3.9.7/envs/artefact/lib/python3.9/site-packages/PIL/Image.py:2896: DecompressionBombWarning: Image size (93680328 pixels) exceeds limit of 89478485 pixels, could be decompression bomb DOS attack.\n",
      "  warnings.warn(\n"
     ]
    },
    {
     "name": "stdout",
     "output_type": "stream",
     "text": [
      "(700, 224, 224, 3)\n"
     ]
    }
   ],
   "source": [
    "images_np = image_prep_fct(data)\n",
    "print(images_np.shape)"
   ]
  },
  {
   "cell_type": "code",
   "execution_count": null,
   "metadata": {},
   "outputs": [],
   "source": [
    "data_test.reset_index(drop = True, inplace = True)"
   ]
  },
  {
   "cell_type": "code",
   "execution_count": null,
   "metadata": {},
   "outputs": [
    {
     "data": {
      "text/html": [
       "<div>\n",
       "<style scoped>\n",
       "    .dataframe tbody tr th:only-of-type {\n",
       "        vertical-align: middle;\n",
       "    }\n",
       "\n",
       "    .dataframe tbody tr th {\n",
       "        vertical-align: top;\n",
       "    }\n",
       "\n",
       "    .dataframe thead th {\n",
       "        text-align: right;\n",
       "    }\n",
       "</style>\n",
       "<table border=\"1\" class=\"dataframe\">\n",
       "  <thead>\n",
       "    <tr style=\"text-align: right;\">\n",
       "      <th></th>\n",
       "      <th>image_path</th>\n",
       "      <th>label_name</th>\n",
       "      <th>label</th>\n",
       "    </tr>\n",
       "  </thead>\n",
       "  <tbody>\n",
       "    <tr>\n",
       "      <th>0</th>\n",
       "      <td>../../data/Images/6c53dbd7a9d43744920bfae3bc06...</td>\n",
       "      <td>Home and Kitchen Essential</td>\n",
       "      <td>3</td>\n",
       "    </tr>\n",
       "    <tr>\n",
       "      <th>1</th>\n",
       "      <td>../../data/Images/672d1c3272eae4586eb5994fe408...</td>\n",
       "      <td>Home and Kitchen Essential</td>\n",
       "      <td>3</td>\n",
       "    </tr>\n",
       "    <tr>\n",
       "      <th>2</th>\n",
       "      <td>../../data/Images/72db37ec42ee76d79cf395221e0f...</td>\n",
       "      <td>Festive and Special Occasion</td>\n",
       "      <td>2</td>\n",
       "    </tr>\n",
       "    <tr>\n",
       "      <th>3</th>\n",
       "      <td>../../data/Images/0ae859a69c7608d8197c3ba8c37b...</td>\n",
       "      <td>Home and Kitchen Essential</td>\n",
       "      <td>3</td>\n",
       "    </tr>\n",
       "    <tr>\n",
       "      <th>4</th>\n",
       "      <td>../../data/Images/66b75f053cb7626f49f1a9bffe77...</td>\n",
       "      <td>Home and Kitchen Essential</td>\n",
       "      <td>3</td>\n",
       "    </tr>\n",
       "    <tr>\n",
       "      <th>...</th>\n",
       "      <td>...</td>\n",
       "      <td>...</td>\n",
       "      <td>...</td>\n",
       "    </tr>\n",
       "    <tr>\n",
       "      <th>345</th>\n",
       "      <td>../../data/Images/4e5ebfc871992e7e22365c0c036a...</td>\n",
       "      <td>Baby and Personal Care</td>\n",
       "      <td>0</td>\n",
       "    </tr>\n",
       "    <tr>\n",
       "      <th>346</th>\n",
       "      <td>../../data/Images/82fbc93cd45ab747e7e606f2c52c...</td>\n",
       "      <td>Baby and Personal Care</td>\n",
       "      <td>0</td>\n",
       "    </tr>\n",
       "    <tr>\n",
       "      <th>347</th>\n",
       "      <td>../../data/Images/216c6c3527984be3d7ad9023d5cd...</td>\n",
       "      <td>Baby and Personal Care</td>\n",
       "      <td>0</td>\n",
       "    </tr>\n",
       "    <tr>\n",
       "      <th>348</th>\n",
       "      <td>../../data/Images/f54d0c5cbd8e2270742293edf907...</td>\n",
       "      <td>Baby and Personal Care</td>\n",
       "      <td>0</td>\n",
       "    </tr>\n",
       "    <tr>\n",
       "      <th>349</th>\n",
       "      <td>../../data/Images/1738ddb8f47f11ff0cb96fe6cad3...</td>\n",
       "      <td>Baby and Personal Care</td>\n",
       "      <td>0</td>\n",
       "    </tr>\n",
       "  </tbody>\n",
       "</table>\n",
       "<p>350 rows × 3 columns</p>\n",
       "</div>"
      ],
      "text/plain": [
       "                                            image_path  \\\n",
       "0    ../../data/Images/6c53dbd7a9d43744920bfae3bc06...   \n",
       "1    ../../data/Images/672d1c3272eae4586eb5994fe408...   \n",
       "2    ../../data/Images/72db37ec42ee76d79cf395221e0f...   \n",
       "3    ../../data/Images/0ae859a69c7608d8197c3ba8c37b...   \n",
       "4    ../../data/Images/66b75f053cb7626f49f1a9bffe77...   \n",
       "..                                                 ...   \n",
       "345  ../../data/Images/4e5ebfc871992e7e22365c0c036a...   \n",
       "346  ../../data/Images/82fbc93cd45ab747e7e606f2c52c...   \n",
       "347  ../../data/Images/216c6c3527984be3d7ad9023d5cd...   \n",
       "348  ../../data/Images/f54d0c5cbd8e2270742293edf907...   \n",
       "349  ../../data/Images/1738ddb8f47f11ff0cb96fe6cad3...   \n",
       "\n",
       "                       label_name  label  \n",
       "0      Home and Kitchen Essential      3  \n",
       "1      Home and Kitchen Essential      3  \n",
       "2    Festive and Special Occasion      2  \n",
       "3      Home and Kitchen Essential      3  \n",
       "4      Home and Kitchen Essential      3  \n",
       "..                            ...    ...  \n",
       "345        Baby and Personal Care      0  \n",
       "346        Baby and Personal Care      0  \n",
       "347        Baby and Personal Care      0  \n",
       "348        Baby and Personal Care      0  \n",
       "349        Baby and Personal Care      0  \n",
       "\n",
       "[350 rows x 3 columns]"
      ]
     },
     "execution_count": 29,
     "metadata": {},
     "output_type": "execute_result"
    }
   ],
   "source": [
    "data_test"
   ]
  },
  {
   "cell_type": "code",
   "execution_count": null,
   "metadata": {},
   "outputs": [
    {
     "name": "stdout",
     "output_type": "stream",
     "text": [
      "(350, 224, 224, 3)\n"
     ]
    }
   ],
   "source": [
    "images_np_test = image_prep_fct(data_test)\n",
    "print(images_np_test.shape)"
   ]
  },
  {
   "cell_type": "code",
   "execution_count": null,
   "metadata": {},
   "outputs": [
    {
     "data": {
      "text/plain": [
       "array([[0., 0., 0., 1., 0.],\n",
       "       [1., 0., 0., 0., 0.],\n",
       "       [1., 0., 0., 0., 0.],\n",
       "       ...,\n",
       "       [0., 0., 1., 0., 0.],\n",
       "       [0., 0., 0., 1., 0.],\n",
       "       [0., 0., 0., 1., 0.]], dtype=float32)"
      ]
     },
     "execution_count": 31,
     "metadata": {},
     "output_type": "execute_result"
    }
   ],
   "source": [
    "X = images_np\n",
    "y = to_categorical(data['label'])\n",
    "\n",
    "X_test = images_np_test\n",
    "y_test = to_categorical(data_test['label'])\n",
    "\n",
    "y"
   ]
  },
  {
   "cell_type": "code",
   "execution_count": null,
   "metadata": {},
   "outputs": [
    {
     "data": {
      "text/plain": [
       "array([[0., 0., 0., 1., 0.],\n",
       "       [0., 0., 0., 1., 0.],\n",
       "       [0., 0., 1., 0., 0.],\n",
       "       ...,\n",
       "       [1., 0., 0., 0., 0.],\n",
       "       [1., 0., 0., 0., 0.],\n",
       "       [1., 0., 0., 0., 0.]], dtype=float32)"
      ]
     },
     "execution_count": 32,
     "metadata": {},
     "output_type": "execute_result"
    }
   ],
   "source": [
    "y_test"
   ]
  },
  {
   "cell_type": "code",
   "execution_count": null,
   "metadata": {},
   "outputs": [
    {
     "data": {
      "text/plain": [
       "array([[[[  95.061    ,   79.221    ,   68.32     ],\n",
       "         [  93.061    ,   76.221    ,   68.32     ],\n",
       "         [  95.061    ,   77.221    ,   71.32     ],\n",
       "         ...,\n",
       "         [  71.061    ,   62.221    ,   56.32     ],\n",
       "         [  69.061    ,   60.221    ,   54.32     ],\n",
       "         [  66.061    ,   57.221    ,   51.32     ]],\n",
       "\n",
       "        [[  93.061    ,   77.221    ,   66.32     ],\n",
       "         [  93.061    ,   76.221    ,   68.32     ],\n",
       "         [  96.061    ,   78.221    ,   72.32     ],\n",
       "         ...,\n",
       "         [  68.061    ,   59.221    ,   53.32     ],\n",
       "         [  68.061    ,   59.221    ,   53.32     ],\n",
       "         [  69.061    ,   60.221    ,   54.32     ]],\n",
       "\n",
       "        [[  94.061    ,   77.221    ,   69.32     ],\n",
       "         [  94.061    ,   77.221    ,   69.32     ],\n",
       "         [  95.061    ,   77.221    ,   71.32     ],\n",
       "         ...,\n",
       "         [  70.061    ,   61.221    ,   55.32     ],\n",
       "         [  67.061    ,   58.221    ,   52.32     ],\n",
       "         [  64.061    ,   55.221    ,   49.32     ]],\n",
       "\n",
       "        ...,\n",
       "\n",
       "        [[  84.061    ,   70.221    ,   65.32     ],\n",
       "         [  86.061    ,   73.221    ,   66.32     ],\n",
       "         [  88.061    ,   73.221    ,   66.32     ],\n",
       "         ...,\n",
       "         [  70.061    ,   59.221    ,   53.32     ],\n",
       "         [  68.061    ,   59.221    ,   53.32     ],\n",
       "         [  68.061    ,   59.221    ,   53.32     ]],\n",
       "\n",
       "        [[  86.061    ,   70.221    ,   65.32     ],\n",
       "         [  89.061    ,   73.221    ,   68.32     ],\n",
       "         [  89.061    ,   74.221    ,   67.32     ],\n",
       "         ...,\n",
       "         [  68.061    ,   57.221    ,   50.32     ],\n",
       "         [  67.061    ,   59.221    ,   51.32     ],\n",
       "         [  69.061    ,   60.221    ,   54.32     ]],\n",
       "\n",
       "        [[  89.061    ,   76.221    ,   69.32     ],\n",
       "         [  89.061    ,   74.221    ,   67.32     ],\n",
       "         [  87.061    ,   72.221    ,   64.32     ],\n",
       "         ...,\n",
       "         [  70.061    ,   61.221    ,   55.32     ],\n",
       "         [  66.061    ,   57.221    ,   51.32     ],\n",
       "         [  68.061    ,   58.221    ,   55.32     ]]],\n",
       "\n",
       "\n",
       "       [[[ 151.061    ,  138.22101  ,  131.32     ],\n",
       "         [ 151.061    ,  138.22101  ,  131.32     ],\n",
       "         [ 149.061    ,  138.22101  ,  131.32     ],\n",
       "         ...,\n",
       "         [ 151.061    ,  138.22101  ,  131.32     ],\n",
       "         [ 151.061    ,  138.22101  ,  131.32     ],\n",
       "         [ 151.061    ,  138.22101  ,  131.32     ]],\n",
       "\n",
       "        [[ 151.061    ,  138.22101  ,  131.32     ],\n",
       "         [ 151.061    ,  138.22101  ,  131.32     ],\n",
       "         [ 149.061    ,  138.22101  ,  131.32     ],\n",
       "         ...,\n",
       "         [ 151.061    ,  138.22101  ,  131.32     ],\n",
       "         [ 151.061    ,  138.22101  ,  131.32     ],\n",
       "         [ 151.061    ,  138.22101  ,  131.32     ]],\n",
       "\n",
       "        [[ 151.061    ,  138.22101  ,  131.32     ],\n",
       "         [ 151.061    ,  138.22101  ,  131.32     ],\n",
       "         [ 149.061    ,  138.22101  ,  131.32     ],\n",
       "         ...,\n",
       "         [ 151.061    ,  138.22101  ,  131.32     ],\n",
       "         [ 151.061    ,  138.22101  ,  131.32     ],\n",
       "         [ 151.061    ,  138.22101  ,  131.32     ]],\n",
       "\n",
       "        ...,\n",
       "\n",
       "        [[ 151.061    ,  138.22101  ,  131.32     ],\n",
       "         [ 151.061    ,  138.22101  ,  131.32     ],\n",
       "         [ 151.061    ,  138.22101  ,  131.32     ],\n",
       "         ...,\n",
       "         [ 151.061    ,  138.22101  ,  131.32     ],\n",
       "         [ 151.061    ,  138.22101  ,  131.32     ],\n",
       "         [ 151.061    ,  138.22101  ,  131.32     ]],\n",
       "\n",
       "        [[ 151.061    ,  138.22101  ,  131.32     ],\n",
       "         [ 151.061    ,  138.22101  ,  131.32     ],\n",
       "         [ 151.061    ,  138.22101  ,  131.32     ],\n",
       "         ...,\n",
       "         [ 151.061    ,  138.22101  ,  131.32     ],\n",
       "         [ 151.061    ,  138.22101  ,  131.32     ],\n",
       "         [ 151.061    ,  138.22101  ,  131.32     ]],\n",
       "\n",
       "        [[ 151.061    ,  138.22101  ,  131.32     ],\n",
       "         [ 151.061    ,  138.22101  ,  131.32     ],\n",
       "         [ 151.061    ,  138.22101  ,  131.32     ],\n",
       "         ...,\n",
       "         [ 151.061    ,  138.22101  ,  131.32     ],\n",
       "         [ 151.061    ,  138.22101  ,  131.32     ],\n",
       "         [ 151.061    ,  138.22101  ,  131.32     ]]],\n",
       "\n",
       "\n",
       "       [[[ 148.061    ,  137.22101  ,  130.32     ],\n",
       "         [ 149.061    ,  137.22101  ,  128.32     ],\n",
       "         [ 145.061    ,  123.221    ,  106.32     ],\n",
       "         ...,\n",
       "         [ 151.061    ,  138.22101  ,  131.32     ],\n",
       "         [ 151.061    ,  138.22101  ,  131.32     ],\n",
       "         [ 151.061    ,  138.22101  ,  131.32     ]],\n",
       "\n",
       "        [[ 151.061    ,  138.22101  ,  128.32     ],\n",
       "         [ 123.061    ,  105.221    ,   83.32     ],\n",
       "         [ 129.061    ,  100.221    ,   57.32     ],\n",
       "         ...,\n",
       "         [ 151.061    ,  138.22101  ,  131.32     ],\n",
       "         [ 151.061    ,  138.22101  ,  131.32     ],\n",
       "         [ 151.061    ,  138.22101  ,  131.32     ]],\n",
       "\n",
       "        [[ 151.061    ,  138.22101  ,  130.32     ],\n",
       "         [ 105.061    ,   84.221    ,   54.32     ],\n",
       "         [ 128.061    ,   99.221    ,   49.32     ],\n",
       "         ...,\n",
       "         [ 151.061    ,  138.22101  ,  131.32     ],\n",
       "         [ 151.061    ,  138.22101  ,  131.32     ],\n",
       "         [ 151.061    ,  138.22101  ,  131.32     ]],\n",
       "\n",
       "        ...,\n",
       "\n",
       "        [[ 151.061    ,  138.22101  ,  131.32     ],\n",
       "         [ 151.061    ,  138.22101  ,  131.32     ],\n",
       "         [ 151.061    ,  138.22101  ,  131.32     ],\n",
       "         ...,\n",
       "         [ 151.061    ,  138.22101  ,  131.32     ],\n",
       "         [ 151.061    ,  138.22101  ,  131.32     ],\n",
       "         [ 151.061    ,  138.22101  ,  131.32     ]],\n",
       "\n",
       "        [[ 151.061    ,  138.22101  ,  131.32     ],\n",
       "         [ 151.061    ,  138.22101  ,  131.32     ],\n",
       "         [ 151.061    ,  138.22101  ,  131.32     ],\n",
       "         ...,\n",
       "         [ 151.061    ,  138.22101  ,  131.32     ],\n",
       "         [ 151.061    ,  138.22101  ,  131.32     ],\n",
       "         [ 151.061    ,  138.22101  ,  131.32     ]],\n",
       "\n",
       "        [[ 151.061    ,  138.22101  ,  131.32     ],\n",
       "         [ 151.061    ,  138.22101  ,  131.32     ],\n",
       "         [ 151.061    ,  138.22101  ,  131.32     ],\n",
       "         ...,\n",
       "         [ 151.061    ,  138.22101  ,  131.32     ],\n",
       "         [ 151.061    ,  138.22101  ,  131.32     ],\n",
       "         [ 151.061    ,  138.22101  ,  131.32     ]]],\n",
       "\n",
       "\n",
       "       ...,\n",
       "\n",
       "\n",
       "       [[[ 151.061    ,  138.22101  ,  131.32     ],\n",
       "         [ 151.061    ,  138.22101  ,  131.32     ],\n",
       "         [ 149.061    ,  138.22101  ,  131.32     ],\n",
       "         ...,\n",
       "         [ 151.061    ,  138.22101  ,  131.32     ],\n",
       "         [ 149.061    ,  138.22101  ,  131.32     ],\n",
       "         [ 148.061    ,  137.22101  ,  131.32     ]],\n",
       "\n",
       "        [[ 151.061    ,  138.22101  ,  131.32     ],\n",
       "         [ 151.061    ,  138.22101  ,  131.32     ],\n",
       "         [ 149.061    ,  138.22101  ,  131.32     ],\n",
       "         ...,\n",
       "         [ 151.061    ,  138.22101  ,  130.32     ],\n",
       "         [ 151.061    ,  138.22101  ,  130.32     ],\n",
       "         [ 151.061    ,  138.22101  ,  131.32     ]],\n",
       "\n",
       "        [[ 151.061    ,  138.22101  ,  131.32     ],\n",
       "         [ 151.061    ,  138.22101  ,  131.32     ],\n",
       "         [ 149.061    ,  138.22101  ,  131.32     ],\n",
       "         ...,\n",
       "         [ 149.061    ,  137.22101  ,  128.32     ],\n",
       "         [ 151.061    ,  138.22101  ,  128.32     ],\n",
       "         [ 151.061    ,  138.22101  ,  130.32     ]],\n",
       "\n",
       "        ...,\n",
       "\n",
       "        [[ 151.061    ,  138.22101  ,  131.32     ],\n",
       "         [ 151.061    ,  138.22101  ,  131.32     ],\n",
       "         [ 151.061    ,  138.22101  ,  131.32     ],\n",
       "         ...,\n",
       "         [  49.060997 ,   60.221    ,   75.32     ],\n",
       "         [  51.060997 ,   62.221    ,   79.32     ],\n",
       "         [  52.060997 ,   59.221    ,   69.32     ]],\n",
       "\n",
       "        [[ 151.061    ,  138.22101  ,  131.32     ],\n",
       "         [ 151.061    ,  138.22101  ,  131.32     ],\n",
       "         [ 151.061    ,  138.22101  ,  131.32     ],\n",
       "         ...,\n",
       "         [  56.060997 ,   65.221    ,   76.32     ],\n",
       "         [  51.060997 ,   60.221    ,   71.32     ],\n",
       "         [  65.061    ,   69.221    ,   75.32     ]],\n",
       "\n",
       "        [[ 151.061    ,  138.22101  ,  131.32     ],\n",
       "         [ 151.061    ,  138.22101  ,  131.32     ],\n",
       "         [ 151.061    ,  138.22101  ,  131.32     ],\n",
       "         ...,\n",
       "         [  56.060997 ,   62.221    ,   70.32     ],\n",
       "         [  96.061    ,   99.221    ,  105.32     ],\n",
       "         [ 137.061    ,  138.22101  ,  131.32     ]]],\n",
       "\n",
       "\n",
       "       [[[ 151.061    ,  138.22101  ,  131.32     ],\n",
       "         [ 151.061    ,  138.22101  ,  131.32     ],\n",
       "         [ 151.061    ,  138.22101  ,  131.32     ],\n",
       "         ...,\n",
       "         [ 151.061    ,  138.22101  ,  131.32     ],\n",
       "         [ 151.061    ,  138.22101  ,  131.32     ],\n",
       "         [ 151.061    ,  138.22101  ,  131.32     ]],\n",
       "\n",
       "        [[ 151.061    ,  138.22101  ,  131.32     ],\n",
       "         [ 151.061    ,  138.22101  ,  131.32     ],\n",
       "         [ 151.061    ,  138.22101  ,  131.32     ],\n",
       "         ...,\n",
       "         [ 151.061    ,  138.22101  ,  131.32     ],\n",
       "         [ 151.061    ,  138.22101  ,  131.32     ],\n",
       "         [ 151.061    ,  138.22101  ,  131.32     ]],\n",
       "\n",
       "        [[ 151.061    ,  138.22101  ,  131.32     ],\n",
       "         [ 151.061    ,  138.22101  ,  131.32     ],\n",
       "         [ 151.061    ,  138.22101  ,  131.32     ],\n",
       "         ...,\n",
       "         [ 151.061    ,  138.22101  ,  131.32     ],\n",
       "         [ 151.061    ,  138.22101  ,  131.32     ],\n",
       "         [ 151.061    ,  138.22101  ,  131.32     ]],\n",
       "\n",
       "        ...,\n",
       "\n",
       "        [[ 151.061    ,  138.22101  ,  131.32     ],\n",
       "         [ 151.061    ,  138.22101  ,  131.32     ],\n",
       "         [ 151.061    ,  138.22101  ,  131.32     ],\n",
       "         ...,\n",
       "         [ 151.061    ,  138.22101  ,  131.32     ],\n",
       "         [ 151.061    ,  138.22101  ,  131.32     ],\n",
       "         [ 151.061    ,  138.22101  ,  131.32     ]],\n",
       "\n",
       "        [[ 151.061    ,  138.22101  ,  131.32     ],\n",
       "         [ 151.061    ,  138.22101  ,  131.32     ],\n",
       "         [ 151.061    ,  138.22101  ,  131.32     ],\n",
       "         ...,\n",
       "         [ 151.061    ,  138.22101  ,  131.32     ],\n",
       "         [ 151.061    ,  138.22101  ,  131.32     ],\n",
       "         [ 151.061    ,  138.22101  ,  131.32     ]],\n",
       "\n",
       "        [[ 151.061    ,  138.22101  ,  131.32     ],\n",
       "         [ 151.061    ,  138.22101  ,  131.32     ],\n",
       "         [ 151.061    ,  138.22101  ,  131.32     ],\n",
       "         ...,\n",
       "         [ 151.061    ,  138.22101  ,  131.32     ],\n",
       "         [ 151.061    ,  138.22101  ,  131.32     ],\n",
       "         [ 151.061    ,  138.22101  ,  131.32     ]]],\n",
       "\n",
       "\n",
       "       [[[ -79.939    ,  -37.779    ,  -93.68     ],\n",
       "         [ -73.939    ,  -41.779    ,  -87.68     ],\n",
       "         [ -78.939    ,  -45.779    ,  -94.68     ],\n",
       "         ...,\n",
       "         [ -79.939    ,  -45.779    ,  -91.68     ],\n",
       "         [ -74.939    ,  -43.779    ,  -86.68     ],\n",
       "         [ -81.939    ,  -43.779    , -100.68     ]],\n",
       "\n",
       "        [[ -86.939    ,  -45.779    ,  -99.68     ],\n",
       "         [ 107.061    ,  116.221    ,  107.32     ],\n",
       "         [ 121.061    ,  120.221    ,  119.32     ],\n",
       "         ...,\n",
       "         [ 118.061    ,  106.221    ,  103.32     ],\n",
       "         [ 112.061    ,  111.221    ,  104.32     ],\n",
       "         [ -74.939    ,  -44.779    ,  -84.68     ]],\n",
       "\n",
       "        [[ -83.939    ,  -42.779    ,  -96.68     ],\n",
       "         [ 114.061    ,  116.221    ,  105.32     ],\n",
       "         [ 130.061    ,  121.221    ,  109.32     ],\n",
       "         ...,\n",
       "         [ 121.061    ,  107.221    ,  102.32     ],\n",
       "         [ 112.061    ,  110.221    ,  100.32     ],\n",
       "         [ -79.939    ,  -38.779    ,  -92.68     ]],\n",
       "\n",
       "        ...,\n",
       "\n",
       "        [[ -81.939    ,  -41.779    ,  -92.68     ],\n",
       "         [  -4.939003 ,   12.221001 ,   24.32     ],\n",
       "         [  -6.939003 ,   -2.7789993,   39.32     ],\n",
       "         ...,\n",
       "         [ -10.939003 ,   -3.7789993,   37.32     ],\n",
       "         [  -9.939003 ,   -3.7789993,   27.32     ],\n",
       "         [ -78.939    ,  -42.779    ,  -95.68     ]],\n",
       "\n",
       "        [[ -84.939    ,  -41.779    ,  -99.68     ],\n",
       "         [ -83.939    ,  -48.779    ,  -83.68     ],\n",
       "         [ -84.939    ,  -51.779    ,  -80.68     ],\n",
       "         ...,\n",
       "         [ -86.939    ,  -53.779    ,  -83.68     ],\n",
       "         [ -80.939    ,  -51.779    ,  -76.68     ],\n",
       "         [ -79.939    ,  -43.779    ,  -88.68     ]],\n",
       "\n",
       "        [[ -87.939    ,  -44.779    ,  -94.68     ],\n",
       "         [ -84.939    ,  -39.779    ,  -94.68     ],\n",
       "         [ -86.939    ,  -41.779    ,  -96.68     ],\n",
       "         ...,\n",
       "         [ -84.939    ,  -39.779    ,  -94.68     ],\n",
       "         [ -81.939    ,  -36.779    ,  -97.68     ],\n",
       "         [ -81.939    ,  -38.779    ,  -94.68     ]]]], dtype=float32)"
      ]
     },
     "execution_count": 33,
     "metadata": {},
     "output_type": "execute_result"
    }
   ],
   "source": [
    "X"
   ]
  },
  {
   "cell_type": "code",
   "execution_count": null,
   "metadata": {},
   "outputs": [
    {
     "data": {
      "text/plain": [
       "array([[[[ 151.061   ,  138.22101 ,  131.32    ],\n",
       "         [ 151.061   ,  138.22101 ,  131.32    ],\n",
       "         [ 151.061   ,  138.22101 ,  131.32    ],\n",
       "         ...,\n",
       "         [ 151.061   ,  138.22101 ,  131.32    ],\n",
       "         [ 151.061   ,  138.22101 ,  131.32    ],\n",
       "         [ 151.061   ,  138.22101 ,  131.32    ]],\n",
       "\n",
       "        [[ 151.061   ,  138.22101 ,  131.32    ],\n",
       "         [ 151.061   ,  138.22101 ,  131.32    ],\n",
       "         [ 151.061   ,  138.22101 ,  131.32    ],\n",
       "         ...,\n",
       "         [ 151.061   ,  138.22101 ,  131.32    ],\n",
       "         [ 151.061   ,  138.22101 ,  131.32    ],\n",
       "         [ 151.061   ,  138.22101 ,  131.32    ]],\n",
       "\n",
       "        [[ 151.061   ,  138.22101 ,  131.32    ],\n",
       "         [ 151.061   ,  138.22101 ,  131.32    ],\n",
       "         [ 151.061   ,  138.22101 ,  131.32    ],\n",
       "         ...,\n",
       "         [ 151.061   ,  138.22101 ,  131.32    ],\n",
       "         [ 151.061   ,  138.22101 ,  131.32    ],\n",
       "         [ 151.061   ,  138.22101 ,  131.32    ]],\n",
       "\n",
       "        ...,\n",
       "\n",
       "        [[ 151.061   ,  138.22101 ,  131.32    ],\n",
       "         [ 151.061   ,  138.22101 ,  131.32    ],\n",
       "         [ 151.061   ,  138.22101 ,  131.32    ],\n",
       "         ...,\n",
       "         [ 151.061   ,  138.22101 ,  131.32    ],\n",
       "         [ 151.061   ,  138.22101 ,  131.32    ],\n",
       "         [ 151.061   ,  138.22101 ,  131.32    ]],\n",
       "\n",
       "        [[ 151.061   ,  138.22101 ,  131.32    ],\n",
       "         [ 151.061   ,  138.22101 ,  131.32    ],\n",
       "         [ 151.061   ,  138.22101 ,  131.32    ],\n",
       "         ...,\n",
       "         [ 151.061   ,  138.22101 ,  131.32    ],\n",
       "         [ 151.061   ,  138.22101 ,  131.32    ],\n",
       "         [ 151.061   ,  138.22101 ,  131.32    ]],\n",
       "\n",
       "        [[ 151.061   ,  138.22101 ,  131.32    ],\n",
       "         [ 151.061   ,  138.22101 ,  131.32    ],\n",
       "         [ 151.061   ,  138.22101 ,  131.32    ],\n",
       "         ...,\n",
       "         [ 151.061   ,  138.22101 ,  131.32    ],\n",
       "         [ 151.061   ,  138.22101 ,  131.32    ],\n",
       "         [ 151.061   ,  138.22101 ,  131.32    ]]],\n",
       "\n",
       "\n",
       "       [[[ 150.061   ,  137.22101 ,  130.32    ],\n",
       "         [ 150.061   ,  137.22101 ,  130.32    ],\n",
       "         [ 150.061   ,  137.22101 ,  130.32    ],\n",
       "         ...,\n",
       "         [ 150.061   ,  137.22101 ,  130.32    ],\n",
       "         [ 150.061   ,  137.22101 ,  130.32    ],\n",
       "         [ 150.061   ,  137.22101 ,  130.32    ]],\n",
       "\n",
       "        [[ 150.061   ,  137.22101 ,  130.32    ],\n",
       "         [ 150.061   ,  137.22101 ,  130.32    ],\n",
       "         [ 150.061   ,  137.22101 ,  130.32    ],\n",
       "         ...,\n",
       "         [ 150.061   ,  137.22101 ,  130.32    ],\n",
       "         [ 150.061   ,  137.22101 ,  130.32    ],\n",
       "         [ 150.061   ,  137.22101 ,  130.32    ]],\n",
       "\n",
       "        [[ 150.061   ,  137.22101 ,  130.32    ],\n",
       "         [ 150.061   ,  137.22101 ,  130.32    ],\n",
       "         [ 150.061   ,  137.22101 ,  130.32    ],\n",
       "         ...,\n",
       "         [ 150.061   ,  137.22101 ,  130.32    ],\n",
       "         [ 150.061   ,  137.22101 ,  130.32    ],\n",
       "         [ 150.061   ,  137.22101 ,  130.32    ]],\n",
       "\n",
       "        ...,\n",
       "\n",
       "        [[ 150.061   ,  137.22101 ,  130.32    ],\n",
       "         [ 150.061   ,  137.22101 ,  130.32    ],\n",
       "         [ 150.061   ,  137.22101 ,  130.32    ],\n",
       "         ...,\n",
       "         [ 150.061   ,  137.22101 ,  130.32    ],\n",
       "         [ 150.061   ,  137.22101 ,  130.32    ],\n",
       "         [ 150.061   ,  137.22101 ,  130.32    ]],\n",
       "\n",
       "        [[ 150.061   ,  137.22101 ,  130.32    ],\n",
       "         [ 150.061   ,  137.22101 ,  130.32    ],\n",
       "         [ 150.061   ,  137.22101 ,  130.32    ],\n",
       "         ...,\n",
       "         [ 150.061   ,  137.22101 ,  130.32    ],\n",
       "         [ 150.061   ,  137.22101 ,  130.32    ],\n",
       "         [ 150.061   ,  137.22101 ,  130.32    ]],\n",
       "\n",
       "        [[ 150.061   ,  137.22101 ,  130.32    ],\n",
       "         [ 150.061   ,  137.22101 ,  130.32    ],\n",
       "         [ 150.061   ,  137.22101 ,  130.32    ],\n",
       "         ...,\n",
       "         [ 150.061   ,  137.22101 ,  130.32    ],\n",
       "         [ 150.061   ,  137.22101 ,  130.32    ],\n",
       "         [ 150.061   ,  137.22101 ,  130.32    ]]],\n",
       "\n",
       "\n",
       "       [[[ 151.061   ,  138.22101 ,  131.32    ],\n",
       "         [ 151.061   ,  138.22101 ,  131.32    ],\n",
       "         [ 151.061   ,  138.22101 ,  131.32    ],\n",
       "         ...,\n",
       "         [ 151.061   ,  138.22101 ,  131.32    ],\n",
       "         [ 151.061   ,  138.22101 ,  131.32    ],\n",
       "         [ 151.061   ,  138.22101 ,  131.32    ]],\n",
       "\n",
       "        [[ 151.061   ,  138.22101 ,  131.32    ],\n",
       "         [ 151.061   ,  138.22101 ,  131.32    ],\n",
       "         [ 151.061   ,  138.22101 ,  131.32    ],\n",
       "         ...,\n",
       "         [ 151.061   ,  138.22101 ,  131.32    ],\n",
       "         [ 151.061   ,  138.22101 ,  131.32    ],\n",
       "         [ 151.061   ,  138.22101 ,  131.32    ]],\n",
       "\n",
       "        [[ 151.061   ,  138.22101 ,  131.32    ],\n",
       "         [ 151.061   ,  138.22101 ,  131.32    ],\n",
       "         [ 151.061   ,  138.22101 ,  131.32    ],\n",
       "         ...,\n",
       "         [ 151.061   ,  138.22101 ,  131.32    ],\n",
       "         [ 151.061   ,  138.22101 ,  131.32    ],\n",
       "         [ 151.061   ,  138.22101 ,  131.32    ]],\n",
       "\n",
       "        ...,\n",
       "\n",
       "        [[ 151.061   ,  138.22101 ,  131.32    ],\n",
       "         [ 151.061   ,  138.22101 ,  131.32    ],\n",
       "         [ 151.061   ,  138.22101 ,  131.32    ],\n",
       "         ...,\n",
       "         [ 151.061   ,  138.22101 ,  131.32    ],\n",
       "         [ 151.061   ,  138.22101 ,  131.32    ],\n",
       "         [ 151.061   ,  138.22101 ,  131.32    ]],\n",
       "\n",
       "        [[ 151.061   ,  138.22101 ,  131.32    ],\n",
       "         [ 151.061   ,  138.22101 ,  131.32    ],\n",
       "         [ 151.061   ,  138.22101 ,  131.32    ],\n",
       "         ...,\n",
       "         [ 151.061   ,  138.22101 ,  131.32    ],\n",
       "         [ 151.061   ,  138.22101 ,  131.32    ],\n",
       "         [ 151.061   ,  138.22101 ,  131.32    ]],\n",
       "\n",
       "        [[ 151.061   ,  138.22101 ,  131.32    ],\n",
       "         [ 151.061   ,  138.22101 ,  131.32    ],\n",
       "         [ 151.061   ,  138.22101 ,  131.32    ],\n",
       "         ...,\n",
       "         [ 151.061   ,  138.22101 ,  131.32    ],\n",
       "         [ 151.061   ,  138.22101 ,  131.32    ],\n",
       "         [ 151.061   ,  138.22101 ,  131.32    ]]],\n",
       "\n",
       "\n",
       "       ...,\n",
       "\n",
       "\n",
       "       [[[ 151.061   ,  138.22101 ,  131.32    ],\n",
       "         [ 151.061   ,  138.22101 ,  131.32    ],\n",
       "         [ 151.061   ,  138.22101 ,  131.32    ],\n",
       "         ...,\n",
       "         [ 151.061   ,  138.22101 ,  131.32    ],\n",
       "         [ 151.061   ,  138.22101 ,  131.32    ],\n",
       "         [ 151.061   ,  138.22101 ,  131.32    ]],\n",
       "\n",
       "        [[ 151.061   ,  138.22101 ,  131.32    ],\n",
       "         [ 151.061   ,  138.22101 ,  131.32    ],\n",
       "         [ 151.061   ,  138.22101 ,  131.32    ],\n",
       "         ...,\n",
       "         [ 151.061   ,  138.22101 ,  131.32    ],\n",
       "         [ 151.061   ,  138.22101 ,  131.32    ],\n",
       "         [ 151.061   ,  138.22101 ,  131.32    ]],\n",
       "\n",
       "        [[ 151.061   ,  138.22101 ,  131.32    ],\n",
       "         [ 151.061   ,  138.22101 ,  131.32    ],\n",
       "         [ 151.061   ,  138.22101 ,  131.32    ],\n",
       "         ...,\n",
       "         [ 151.061   ,  138.22101 ,  131.32    ],\n",
       "         [ 151.061   ,  138.22101 ,  131.32    ],\n",
       "         [ 151.061   ,  138.22101 ,  131.32    ]],\n",
       "\n",
       "        ...,\n",
       "\n",
       "        [[ 148.061   ,  138.22101 ,  129.32    ],\n",
       "         [ 141.061   ,  131.22101 ,  131.32    ],\n",
       "         [ 109.061   ,   96.221   ,  103.32    ],\n",
       "         ...,\n",
       "         [ 151.061   ,  138.22101 ,  131.32    ],\n",
       "         [ 151.061   ,  138.22101 ,  131.32    ],\n",
       "         [ 151.061   ,  138.22101 ,  131.32    ]],\n",
       "\n",
       "        [[ 151.061   ,  138.22101 ,  131.32    ],\n",
       "         [ 151.061   ,  138.22101 ,  131.32    ],\n",
       "         [ 151.061   ,  138.22101 ,  131.32    ],\n",
       "         ...,\n",
       "         [ 151.061   ,  138.22101 ,  131.32    ],\n",
       "         [ 151.061   ,  138.22101 ,  131.32    ],\n",
       "         [ 151.061   ,  138.22101 ,  131.32    ]],\n",
       "\n",
       "        [[ 151.061   ,  138.22101 ,  131.32    ],\n",
       "         [ 151.061   ,  138.22101 ,  131.32    ],\n",
       "         [ 151.061   ,  138.22101 ,  131.32    ],\n",
       "         ...,\n",
       "         [ 151.061   ,  138.22101 ,  131.32    ],\n",
       "         [ 151.061   ,  138.22101 ,  131.32    ],\n",
       "         [ 151.061   ,  138.22101 ,  131.32    ]]],\n",
       "\n",
       "\n",
       "       [[[ 151.061   ,  138.22101 ,  131.32    ],\n",
       "         [ 151.061   ,  138.22101 ,  131.32    ],\n",
       "         [ 151.061   ,  138.22101 ,  131.32    ],\n",
       "         ...,\n",
       "         [ 151.061   ,  138.22101 ,  131.32    ],\n",
       "         [ 151.061   ,  138.22101 ,  131.32    ],\n",
       "         [ 151.061   ,  138.22101 ,  131.32    ]],\n",
       "\n",
       "        [[ 151.061   ,  138.22101 ,  131.32    ],\n",
       "         [ 151.061   ,  138.22101 ,  131.32    ],\n",
       "         [ 151.061   ,  138.22101 ,  131.32    ],\n",
       "         ...,\n",
       "         [ 151.061   ,  138.22101 ,  131.32    ],\n",
       "         [ 151.061   ,  138.22101 ,  131.32    ],\n",
       "         [ 151.061   ,  138.22101 ,  131.32    ]],\n",
       "\n",
       "        [[ 151.061   ,  138.22101 ,  131.32    ],\n",
       "         [ 151.061   ,  138.22101 ,  131.32    ],\n",
       "         [ 151.061   ,  138.22101 ,  131.32    ],\n",
       "         ...,\n",
       "         [ 151.061   ,  138.22101 ,  131.32    ],\n",
       "         [ 151.061   ,  138.22101 ,  131.32    ],\n",
       "         [ 151.061   ,  138.22101 ,  131.32    ]],\n",
       "\n",
       "        ...,\n",
       "\n",
       "        [[ 151.061   ,  138.22101 ,  131.32    ],\n",
       "         [ 151.061   ,  138.22101 ,  131.32    ],\n",
       "         [ 151.061   ,  138.22101 ,  131.32    ],\n",
       "         ...,\n",
       "         [ 151.061   ,  138.22101 ,  131.32    ],\n",
       "         [ 151.061   ,  138.22101 ,  131.32    ],\n",
       "         [ 151.061   ,  138.22101 ,  131.32    ]],\n",
       "\n",
       "        [[ 151.061   ,  138.22101 ,  131.32    ],\n",
       "         [ 151.061   ,  138.22101 ,  131.32    ],\n",
       "         [ 151.061   ,  138.22101 ,  131.32    ],\n",
       "         ...,\n",
       "         [ 151.061   ,  138.22101 ,  131.32    ],\n",
       "         [ 151.061   ,  138.22101 ,  131.32    ],\n",
       "         [ 151.061   ,  138.22101 ,  131.32    ]],\n",
       "\n",
       "        [[ 151.061   ,  138.22101 ,  131.32    ],\n",
       "         [ 151.061   ,  138.22101 ,  131.32    ],\n",
       "         [ 151.061   ,  138.22101 ,  131.32    ],\n",
       "         ...,\n",
       "         [ 151.061   ,  138.22101 ,  131.32    ],\n",
       "         [ 151.061   ,  138.22101 ,  131.32    ],\n",
       "         [ 151.061   ,  138.22101 ,  131.32    ]]],\n",
       "\n",
       "\n",
       "       [[[ -31.939003,  -78.779   ,  -85.68    ],\n",
       "         [ -31.939003,  -78.779   ,  -85.68    ],\n",
       "         [ -31.939003,  -78.779   ,  -85.68    ],\n",
       "         ...,\n",
       "         [ -30.939003,  -77.779   ,  -77.68    ],\n",
       "         [ -29.939003,  -76.779   ,  -76.68    ],\n",
       "         [ -30.939003,  -77.779   ,  -77.68    ]],\n",
       "\n",
       "        [[ -31.939003,  -78.779   ,  -85.68    ],\n",
       "         [ -31.939003,  -78.779   ,  -85.68    ],\n",
       "         [ -30.939003,  -77.779   ,  -84.68    ],\n",
       "         ...,\n",
       "         [ -30.939003,  -77.779   ,  -77.68    ],\n",
       "         [ -29.939003,  -76.779   ,  -76.68    ],\n",
       "         [ -30.939003,  -77.779   ,  -77.68    ]],\n",
       "\n",
       "        [[ -31.939003,  -78.779   ,  -85.68    ],\n",
       "         [ -31.939003,  -78.779   ,  -85.68    ],\n",
       "         [ -29.939003,  -76.779   ,  -83.68    ],\n",
       "         ...,\n",
       "         [ -30.939003,  -77.779   ,  -77.68    ],\n",
       "         [ -29.939003,  -76.779   ,  -76.68    ],\n",
       "         [ -30.939003,  -77.779   ,  -77.68    ]],\n",
       "\n",
       "        ...,\n",
       "\n",
       "        [[ -80.939   , -100.779   , -100.68    ],\n",
       "         [ -80.939   , -100.779   , -100.68    ],\n",
       "         [ -78.939   ,  -98.779   ,  -98.68    ],\n",
       "         ...,\n",
       "         [ -81.939   , -101.779   , -101.68    ],\n",
       "         [ -82.939   , -102.779   , -102.68    ],\n",
       "         [ -82.939   , -102.779   , -102.68    ]],\n",
       "\n",
       "        [[ -79.939   ,  -99.779   ,  -99.68    ],\n",
       "         [ -77.939   ,  -97.779   ,  -97.68    ],\n",
       "         [ -80.939   , -100.779   , -100.68    ],\n",
       "         ...,\n",
       "         [ -81.939   , -101.779   , -101.68    ],\n",
       "         [ -82.939   , -102.779   , -102.68    ],\n",
       "         [ -82.939   , -102.779   , -102.68    ]],\n",
       "\n",
       "        [[ -81.939   , -101.779   , -101.68    ],\n",
       "         [ -78.939   ,  -98.779   ,  -98.68    ],\n",
       "         [ -80.939   , -100.779   , -100.68    ],\n",
       "         ...,\n",
       "         [ -81.939   , -102.779   ,  -99.68    ],\n",
       "         [ -82.939   , -103.779   , -100.68    ],\n",
       "         [ -80.939   , -101.779   ,  -98.68    ]]]], dtype=float32)"
      ]
     },
     "execution_count": 34,
     "metadata": {},
     "output_type": "execute_result"
    }
   ],
   "source": [
    "X_test"
   ]
  },
  {
   "cell_type": "code",
   "execution_count": null,
   "metadata": {},
   "outputs": [
    {
     "data": {
      "text/plain": [
       "(525, 224, 224, 3)"
      ]
     },
     "execution_count": 35,
     "metadata": {},
     "output_type": "execute_result"
    }
   ],
   "source": [
    "X_train, X_val, y_train, y_val = train_test_split(X, y, stratify = y, test_size = 0.25, random_state = 42)\n",
    "X_train.shape"
   ]
  },
  {
   "cell_type": "code",
   "execution_count": null,
   "metadata": {},
   "outputs": [
    {
     "data": {
      "text/plain": [
       "(350, 224, 224, 3)"
      ]
     },
     "execution_count": 36,
     "metadata": {},
     "output_type": "execute_result"
    }
   ],
   "source": [
    "X_test.shape"
   ]
  },
  {
   "cell_type": "code",
   "execution_count": null,
   "metadata": {
    "scrolled": true
   },
   "outputs": [
    {
     "name": "stdout",
     "output_type": "stream",
     "text": [
      "Downloading data from https://storage.googleapis.com/tensorflow/keras-applications/vgg16/vgg16_weights_tf_dim_ordering_tf_kernels_notop.h5\n",
      "58892288/58889256 [==============================] - 3s 0us/step\n",
      "58900480/58889256 [==============================] - 3s 0us/step\n",
      "Model: \"model_1\"\n",
      "_________________________________________________________________\n",
      " Layer (type)                Output Shape              Param #   \n",
      "=================================================================\n",
      " input_2 (InputLayer)        [(None, 224, 224, 3)]     0         \n",
      "                                                                 \n",
      " block1_conv1 (Conv2D)       (None, 224, 224, 64)      1792      \n",
      "                                                                 \n",
      " block1_conv2 (Conv2D)       (None, 224, 224, 64)      36928     \n",
      "                                                                 \n",
      " block1_pool (MaxPooling2D)  (None, 112, 112, 64)      0         \n",
      "                                                                 \n",
      " block2_conv1 (Conv2D)       (None, 112, 112, 128)     73856     \n",
      "                                                                 \n",
      " block2_conv2 (Conv2D)       (None, 112, 112, 128)     147584    \n",
      "                                                                 \n",
      " block2_pool (MaxPooling2D)  (None, 56, 56, 128)       0         \n",
      "                                                                 \n",
      " block3_conv1 (Conv2D)       (None, 56, 56, 256)       295168    \n",
      "                                                                 \n",
      " block3_conv2 (Conv2D)       (None, 56, 56, 256)       590080    \n",
      "                                                                 \n",
      " block3_conv3 (Conv2D)       (None, 56, 56, 256)       590080    \n",
      "                                                                 \n",
      " block3_pool (MaxPooling2D)  (None, 28, 28, 256)       0         \n",
      "                                                                 \n",
      " block4_conv1 (Conv2D)       (None, 28, 28, 512)       1180160   \n",
      "                                                                 \n",
      " block4_conv2 (Conv2D)       (None, 28, 28, 512)       2359808   \n",
      "                                                                 \n",
      " block4_conv3 (Conv2D)       (None, 28, 28, 512)       2359808   \n",
      "                                                                 \n",
      " block4_pool (MaxPooling2D)  (None, 14, 14, 512)       0         \n",
      "                                                                 \n",
      " block5_conv1 (Conv2D)       (None, 14, 14, 512)       2359808   \n",
      "                                                                 \n",
      " block5_conv2 (Conv2D)       (None, 14, 14, 512)       2359808   \n",
      "                                                                 \n",
      " block5_conv3 (Conv2D)       (None, 14, 14, 512)       2359808   \n",
      "                                                                 \n",
      " block5_pool (MaxPooling2D)  (None, 7, 7, 512)         0         \n",
      "                                                                 \n",
      " global_average_pooling2d (G  (None, 512)              0         \n",
      " lobalAveragePooling2D)                                          \n",
      "                                                                 \n",
      " dense (Dense)               (None, 256)               131328    \n",
      "                                                                 \n",
      " dropout (Dropout)           (None, 256)               0         \n",
      "                                                                 \n",
      " dense_1 (Dense)             (None, 5)                 1285      \n",
      "                                                                 \n",
      "=================================================================\n",
      "Total params: 14,847,301\n",
      "Trainable params: 132,613\n",
      "Non-trainable params: 14,714,688\n",
      "_________________________________________________________________\n",
      "None\n"
     ]
    }
   ],
   "source": [
    "# Création du modèle\n",
    "with tf.device('/gpu:0'):\n",
    "    model1 = create_model_fct()\n",
    "\n",
    "# Création du callback\n",
    "model1_save_path1 = './model1_best_weights.h5'\n",
    "checkpoint = ModelCheckpoint(model1_save_path1, monitor = 'val_loss', verbose = 1, save_best_only = True, mode = 'min')\n",
    "es = EarlyStopping(monitor = 'val_loss', mode = 'min', verbose = 1, patience = 5)\n",
    "callbacks_list = [checkpoint, es]\n"
   ]
  },
  {
   "cell_type": "code",
   "execution_count": null,
   "metadata": {
    "scrolled": true
   },
   "outputs": [
    {
     "name": "stdout",
     "output_type": "stream",
     "text": [
      "Epoch 1/50\n"
     ]
    },
    {
     "name": "stderr",
     "output_type": "stream",
     "text": [
      "2024-02-23 13:59:55.424332: I tensorflow/core/grappler/optimizers/custom_graph_optimizer_registry.cc:113] Plugin optimizer for device_type GPU is enabled.\n"
     ]
    },
    {
     "name": "stdout",
     "output_type": "stream",
     "text": [
      "9/9 [==============================] - ETA: 0s - loss: 7.9873 - accuracy: 0.2571"
     ]
    },
    {
     "name": "stderr",
     "output_type": "stream",
     "text": [
      "2024-02-23 14:00:09.083602: I tensorflow/core/grappler/optimizers/custom_graph_optimizer_registry.cc:113] Plugin optimizer for device_type GPU is enabled.\n"
     ]
    },
    {
     "name": "stdout",
     "output_type": "stream",
     "text": [
      "\n",
      "Epoch 1: val_loss improved from inf to 4.73632, saving model to ./model1_best_weights.h5\n",
      "9/9 [==============================] - 18s 2s/step - loss: 7.9873 - accuracy: 0.2571 - val_loss: 4.7363 - val_accuracy: 0.2971\n",
      "Epoch 2/50\n",
      "9/9 [==============================] - ETA: 0s - loss: 4.5609 - accuracy: 0.3200\n",
      "Epoch 2: val_loss improved from 4.73632 to 3.55093, saving model to ./model1_best_weights.h5\n",
      "9/9 [==============================] - 13s 1s/step - loss: 4.5609 - accuracy: 0.3200 - val_loss: 3.5509 - val_accuracy: 0.2400\n",
      "Epoch 3/50\n",
      "9/9 [==============================] - ETA: 0s - loss: 3.4424 - accuracy: 0.3676\n",
      "Epoch 3: val_loss improved from 3.55093 to 3.31595, saving model to ./model1_best_weights.h5\n",
      "9/9 [==============================] - 13s 1s/step - loss: 3.4424 - accuracy: 0.3676 - val_loss: 3.3159 - val_accuracy: 0.3086\n",
      "Epoch 4/50\n",
      "9/9 [==============================] - ETA: 0s - loss: 2.3787 - accuracy: 0.4400\n",
      "Epoch 4: val_loss improved from 3.31595 to 2.75114, saving model to ./model1_best_weights.h5\n",
      "9/9 [==============================] - 13s 1s/step - loss: 2.3787 - accuracy: 0.4400 - val_loss: 2.7511 - val_accuracy: 0.2686\n",
      "Epoch 5/50\n",
      "9/9 [==============================] - ETA: 0s - loss: 1.8608 - accuracy: 0.4667\n",
      "Epoch 5: val_loss did not improve from 2.75114\n",
      "9/9 [==============================] - 13s 1s/step - loss: 1.8608 - accuracy: 0.4667 - val_loss: 2.8117 - val_accuracy: 0.2914\n",
      "Epoch 6/50\n",
      "9/9 [==============================] - ETA: 0s - loss: 1.5866 - accuracy: 0.5029\n",
      "Epoch 6: val_loss improved from 2.75114 to 2.69739, saving model to ./model1_best_weights.h5\n",
      "9/9 [==============================] - 13s 1s/step - loss: 1.5866 - accuracy: 0.5029 - val_loss: 2.6974 - val_accuracy: 0.2743\n",
      "Epoch 7/50\n",
      "9/9 [==============================] - ETA: 0s - loss: 1.1774 - accuracy: 0.6114\n",
      "Epoch 7: val_loss improved from 2.69739 to 2.56533, saving model to ./model1_best_weights.h5\n",
      "9/9 [==============================] - 13s 1s/step - loss: 1.1774 - accuracy: 0.6114 - val_loss: 2.5653 - val_accuracy: 0.2629\n",
      "Epoch 8/50\n",
      "9/9 [==============================] - ETA: 0s - loss: 1.0647 - accuracy: 0.5924\n",
      "Epoch 8: val_loss improved from 2.56533 to 2.44792, saving model to ./model1_best_weights.h5\n",
      "9/9 [==============================] - 13s 1s/step - loss: 1.0647 - accuracy: 0.5924 - val_loss: 2.4479 - val_accuracy: 0.2857\n",
      "Epoch 9/50\n",
      "9/9 [==============================] - ETA: 0s - loss: 0.9791 - accuracy: 0.6438\n",
      "Epoch 9: val_loss improved from 2.44792 to 2.42595, saving model to ./model1_best_weights.h5\n",
      "9/9 [==============================] - 13s 1s/step - loss: 0.9791 - accuracy: 0.6438 - val_loss: 2.4259 - val_accuracy: 0.2800\n",
      "Epoch 10/50\n",
      "9/9 [==============================] - ETA: 0s - loss: 0.7824 - accuracy: 0.6952\n",
      "Epoch 10: val_loss did not improve from 2.42595\n",
      "9/9 [==============================] - 13s 1s/step - loss: 0.7824 - accuracy: 0.6952 - val_loss: 2.5640 - val_accuracy: 0.2629\n",
      "Epoch 11/50\n",
      "9/9 [==============================] - ETA: 0s - loss: 0.7043 - accuracy: 0.7467\n",
      "Epoch 11: val_loss did not improve from 2.42595\n",
      "9/9 [==============================] - 13s 1s/step - loss: 0.7043 - accuracy: 0.7467 - val_loss: 2.5446 - val_accuracy: 0.2914\n",
      "Epoch 12/50\n",
      "9/9 [==============================] - ETA: 0s - loss: 0.6323 - accuracy: 0.7619\n",
      "Epoch 12: val_loss did not improve from 2.42595\n",
      "9/9 [==============================] - 13s 1s/step - loss: 0.6323 - accuracy: 0.7619 - val_loss: 2.5632 - val_accuracy: 0.2857\n",
      "Epoch 13/50\n",
      "9/9 [==============================] - ETA: 0s - loss: 0.5976 - accuracy: 0.8076\n",
      "Epoch 13: val_loss did not improve from 2.42595\n",
      "9/9 [==============================] - 13s 1s/step - loss: 0.5976 - accuracy: 0.8076 - val_loss: 2.5914 - val_accuracy: 0.3029\n",
      "Epoch 14/50\n",
      "9/9 [==============================] - ETA: 0s - loss: 0.6083 - accuracy: 0.7695\n",
      "Epoch 14: val_loss did not improve from 2.42595\n",
      "9/9 [==============================] - 13s 1s/step - loss: 0.6083 - accuracy: 0.7695 - val_loss: 2.5167 - val_accuracy: 0.2629\n",
      "Epoch 14: early stopping\n"
     ]
    }
   ],
   "source": [
    "# Entraîner sur les données d'entraînement (X_train, y_train)\n",
    "with tf.device('/gpu:0'):\n",
    "    history1 = model1.fit(X_train, y_train, epochs = 50, batch_size = 64, callbacks = callbacks_list, validation_data = (X_val, y_val), verbose = 1)\n"
   ]
  },
  {
   "cell_type": "code",
   "execution_count": null,
   "metadata": {
    "scrolled": true
   },
   "outputs": [
    {
     "name": "stdout",
     "output_type": "stream",
     "text": [
      "17/17 [==============================] - 9s 531ms/step - loss: 0.2416 - accuracy: 0.9619\n",
      "Training Accuracy: 0.9619\n",
      "\n",
      "6/6 [==============================] - 3s 533ms/step - loss: 2.5167 - accuracy: 0.2629\n",
      "Validation Accuracy:  0.2629\n"
     ]
    }
   ],
   "source": [
    "# Score du dernier epoch\n",
    "\n",
    "loss, accuracy = model1.evaluate(X_train, y_train, verbose = True)\n",
    "print(\"Training Accuracy: {:.4f}\".format(accuracy))\n",
    "print()\n",
    "loss, accuracy = model1.evaluate(X_val, y_val, verbose = True)\n",
    "print(\"Validation Accuracy:  {:.4f}\".format(accuracy))"
   ]
  },
  {
   "cell_type": "code",
   "execution_count": null,
   "metadata": {},
   "outputs": [
    {
     "name": "stdout",
     "output_type": "stream",
     "text": [
      "Validation Accuracy :  0.2800\n",
      "Test Accuracy       :  0.2314\n"
     ]
    }
   ],
   "source": [
    "# Score de l'epoch optimal\n",
    "\n",
    "model1.load_weights(model1_save_path1)\n",
    "\n",
    "loss, accuracy = model1.evaluate(X_val, y_val, verbose = False)\n",
    "print(\"Validation Accuracy :  {:.4f}\".format(accuracy))\n",
    "\n",
    "loss, accuracy = model1.evaluate(X_test, y_test, verbose = False)\n",
    "print(\"Test Accuracy       :  {:.4f}\".format(accuracy))\n"
   ]
  },
  {
   "cell_type": "code",
   "execution_count": null,
   "metadata": {
    "scrolled": false
   },
   "outputs": [
    {
     "data": {
      "image/png": "[encoded data removed]",
      "text/plain": [
       "<Figure size 1000x500 with 2 Axes>"
      ]
     },
     "metadata": {
      "needs_background": "light"
     },
     "output_type": "display_data"
    }
   ],
   "source": [
    "from plot_keras_history import show_history, plot_history\n",
    "import matplotlib.pyplot as plt\n",
    "\n",
    "show_history(history1)\n",
    "plot_history(history1, path = 'standard.png')\n",
    "plt.close()"
   ]
  },
  {
   "cell_type": "code",
   "execution_count": null,
   "metadata": {
    "scrolled": true
   },
   "outputs": [
    {
     "name": "stderr",
     "output_type": "stream",
     "text": [
      "2024-02-23 14:04:14.680797: I tensorflow/core/grappler/optimizers/custom_graph_optimizer_registry.cc:113] Plugin optimizer for device_type GPU is enabled.\n"
     ]
    },
    {
     "name": "stdout",
     "output_type": "stream",
     "text": [
      "[3 0 0 0 2 1 0 0 2 1 0 0 0 2 1 1 0 0 0 1 3 2 3 2 4 1 1 3 1 2 2 1 1 0 1 1 0\n",
      " 0 1 1 2 1 0 0 0 3 1 0 3 3 1 2 2 0 0 1 3 0 0 0 0 4 3 0 3 1 1 3 3 1 3 3 0 2\n",
      " 1 0 1 2 3 4 3 1 3 2 3 1 3 1 1 1 2 3 0 1 3 1 3 2 1 4 1 3 3 4 1 3 0 0 1 1 4\n",
      " 3 2 2 0 4 1 2 3 3 1 1 0 1 3 3 0 1 4 0 3 1 0 0 1 1 3 0 1 1 2 0 2 1 2 2 2 0\n",
      " 1 0 0 0 1 1 1 4 3 0 1 2 0 4 0 0 2 0 1 1 1 1 4 3 3 0 0]\n",
      "\n",
      "[3 1 4 1 1 1 0 0 0 2 3 2 1 0 0 1 1 0 0 0 0 1 2 1 3 1 0 0 0 3 1 1 3 0 3 1 3\n",
      " 3 3 1 3 1 0 3 1 2 3 2 0 1 3 1 1 0 0 1 1 1 2 1 0 3 0 0 0 1 1 1 1 0 1 2 3 1\n",
      " 2 3 3 3 1 1 0 0 2 2 1 2 1 0 2 3 3 1 1 0 3 1 0 2 0 4 0 3 0 2 4 3 3 0 1 1 0\n",
      " 1 0 0 3 1 4 1 1 1 1 1 1 2 2 0 3 1 1 0 1 1 1 3 1 1 0 0 3 0 0 3 0 0 1 0 2 1\n",
      " 3 3 1 3 1 1 0 3 1 1 1 1 0 1 0 1 1 0 3 1 1 1 0 2 2 1 2]\n"
     ]
    }
   ],
   "source": [
    "y_val_num = np.argmax(y_val, axis = 1)\n",
    "y_val_pred = np.argmax(model1.predict(X_val), axis = 1)\n",
    "y_val_num = np.argmax(y_val, axis = 1)\n",
    "print(y_val_num)\n",
    "print()\n",
    "print(y_val_pred)"
   ]
  },
  {
   "cell_type": "code",
   "execution_count": null,
   "metadata": {},
   "outputs": [
    {
     "name": "stdout",
     "output_type": "stream",
     "text": [
      "[[16 15  4 13  1]\n",
      " [13 25  5 10  2]\n",
      " [ 7 11  3  4  0]\n",
      " [10 14  7  4  0]\n",
      " [ 2  4  1  3  1]]\n"
     ]
    }
   ],
   "source": [
    "conf_mat = metrics.confusion_matrix(y_val_num, y_val_pred)\n",
    "print(conf_mat)"
   ]
  },
  {
   "cell_type": "code",
   "execution_count": null,
   "metadata": {},
   "outputs": [
    {
     "name": "stdout",
     "output_type": "stream",
     "text": [
      "Correspondance des clusters :  [0 1 3 0 1]\n",
      "[[29 16  0  4  0]\n",
      " [23 27  0  5  0]\n",
      " [11 11  0  3  0]\n",
      " [14 14  0  7  0]\n",
      " [ 5  5  0  1  0]]\n",
      "\n",
      "              precision    recall  f1-score   support\n",
      "\n",
      "           0       0.35      0.59      0.44        49\n",
      "           1       0.37      0.49      0.42        55\n",
      "           2       0.00      0.00      0.00        25\n",
      "           3       0.35      0.20      0.25        35\n",
      "           4       0.00      0.00      0.00        11\n",
      "\n",
      "    accuracy                           0.36       175\n",
      "   macro avg       0.21      0.26      0.22       175\n",
      "weighted avg       0.29      0.36      0.31       175\n",
      "\n"
     ]
    },
    {
     "name": "stderr",
     "output_type": "stream",
     "text": [
      "/Users/lucilerabeau/.pyenv/versions/3.9.7/envs/artefact/lib/python3.9/site-packages/sklearn/metrics/_classification.py:1318: UndefinedMetricWarning: Precision and F-score are ill-defined and being set to 0.0 in labels with no predicted samples. Use `zero_division` parameter to control this behavior.\n",
      "  _warn_prf(average, modifier, msg_start, len(result))\n",
      "/Users/lucilerabeau/.pyenv/versions/3.9.7/envs/artefact/lib/python3.9/site-packages/sklearn/metrics/_classification.py:1318: UndefinedMetricWarning: Precision and F-score are ill-defined and being set to 0.0 in labels with no predicted samples. Use `zero_division` parameter to control this behavior.\n",
      "  _warn_prf(average, modifier, msg_start, len(result))\n",
      "/Users/lucilerabeau/.pyenv/versions/3.9.7/envs/artefact/lib/python3.9/site-packages/sklearn/metrics/_classification.py:1318: UndefinedMetricWarning: Precision and F-score are ill-defined and being set to 0.0 in labels with no predicted samples. Use `zero_division` parameter to control this behavior.\n",
      "  _warn_prf(average, modifier, msg_start, len(result))\n"
     ]
    }
   ],
   "source": [
    "y_val_pred_transform = conf_mat_transform(y_val_num, y_val_pred)\n",
    "conf_mat = metrics.confusion_matrix(y_val_num, y_val_pred_transform)\n",
    "print(conf_mat)\n",
    "print()\n",
    "print(metrics.classification_report(y_val_num, y_val_pred_transform))"
   ]
  },
  {
   "cell_type": "code",
   "execution_count": null,
   "metadata": {},
   "outputs": [
    {
     "data": {
      "text/plain": [
       "<AxesSubplot:>"
      ]
     },
     "execution_count": 48,
     "metadata": {},
     "output_type": "execute_result"
    },
    {
     "data": {
      "image/png": "[encoded data removed]",
      "text/plain": [
       "<Figure size 432x288 with 2 Axes>"
      ]
     },
     "metadata": {
      "needs_background": "light"
     },
     "output_type": "display_data"
    }
   ],
   "source": [
    "df_cm = pd.DataFrame(conf_mat, index = [label for label in list_labels],\n",
    "                  columns = [i for i in \"01234\"])\n",
    "plt.figure(figsize = (6,4))\n",
    "sns.heatmap(df_cm, annot = True, cmap = \"Blues\")"
   ]
  },
  {
   "cell_type": "markdown",
   "metadata": {},
   "source": [
    "* Les images \"shine\" contenant de la neige sont désormais bien affectées à \"shine\" et non pas \"cloud\""
   ]
  },
  {
   "cell_type": "markdown",
   "metadata": {},
   "source": [
    "## Approche ImageDatagenerator avec data augmentation\n",
    "\n",
    "CF https://www.tensorflow.org/api_docs/python/tf/keras/preprocessing/image/ImageDataGenerator#flow (noté désormais comme \"deprecated\", incite à utiiser l'approche suivante)"
   ]
  },
  {
   "cell_type": "code",
   "execution_count": null,
   "metadata": {},
   "outputs": [],
   "source": [
    "from tensorflow.keras.preprocessing.image import ImageDataGenerator"
   ]
  },
  {
   "cell_type": "code",
   "execution_count": null,
   "metadata": {},
   "outputs": [],
   "source": [
    "# Pour mélanger les images, classées initalement par classe\n",
    "data = data.sample(frac = 1, random_state = 42).reset_index(drop = True)"
   ]
  },
  {
   "cell_type": "code",
   "execution_count": null,
   "metadata": {},
   "outputs": [
    {
     "data": {
      "text/plain": [
       "array(['Home and Kitchen Essential', 'Electronics and Accessories',\n",
       "       'Baby and Personal Care', 'Festive and Special Occasion', nan],\n",
       "      dtype=object)"
      ]
     },
     "execution_count": 64,
     "metadata": {},
     "output_type": "execute_result"
    }
   ],
   "source": [
    "data['label_name'].unique()"
   ]
  },
  {
   "cell_type": "code",
   "execution_count": null,
   "metadata": {},
   "outputs": [
    {
     "data": {
      "text/html": [
       "<div>\n",
       "<style scoped>\n",
       "    .dataframe tbody tr th:only-of-type {\n",
       "        vertical-align: middle;\n",
       "    }\n",
       "\n",
       "    .dataframe tbody tr th {\n",
       "        vertical-align: top;\n",
       "    }\n",
       "\n",
       "    .dataframe thead th {\n",
       "        text-align: right;\n",
       "    }\n",
       "</style>\n",
       "<table border=\"1\" class=\"dataframe\">\n",
       "  <thead>\n",
       "    <tr style=\"text-align: right;\">\n",
       "      <th></th>\n",
       "      <th>image_path</th>\n",
       "      <th>label_name</th>\n",
       "      <th>label</th>\n",
       "    </tr>\n",
       "  </thead>\n",
       "  <tbody>\n",
       "    <tr>\n",
       "      <th>0</th>\n",
       "      <td>../../data/Images/785b4383b12106dd172306d427d8...</td>\n",
       "      <td>Home and Kitchen Essential</td>\n",
       "      <td>3</td>\n",
       "    </tr>\n",
       "    <tr>\n",
       "      <th>1</th>\n",
       "      <td>../../data/Images/11f06dffebf7edf9e15351834a19...</td>\n",
       "      <td>Electronics and Accessories</td>\n",
       "      <td>1</td>\n",
       "    </tr>\n",
       "    <tr>\n",
       "      <th>2</th>\n",
       "      <td>../../data/Images/0906fd9cc604fbba05a502e01d76...</td>\n",
       "      <td>Baby and Personal Care</td>\n",
       "      <td>0</td>\n",
       "    </tr>\n",
       "    <tr>\n",
       "      <th>3</th>\n",
       "      <td>../../data/Images/3c4604dba348a99a2dfbbc2cd392...</td>\n",
       "      <td>Home and Kitchen Essential</td>\n",
       "      <td>3</td>\n",
       "    </tr>\n",
       "    <tr>\n",
       "      <th>4</th>\n",
       "      <td>../../data/Images/c3edc504d1b4f0ba6224fa53a43a...</td>\n",
       "      <td>Electronics and Accessories</td>\n",
       "      <td>1</td>\n",
       "    </tr>\n",
       "    <tr>\n",
       "      <th>...</th>\n",
       "      <td>...</td>\n",
       "      <td>...</td>\n",
       "      <td>...</td>\n",
       "    </tr>\n",
       "    <tr>\n",
       "      <th>695</th>\n",
       "      <td>../../data/Images/789cf5578f48577a44586fca3adc...</td>\n",
       "      <td>Home and Kitchen Essential</td>\n",
       "      <td>3</td>\n",
       "    </tr>\n",
       "    <tr>\n",
       "      <th>696</th>\n",
       "      <td>../../data/Images/aba92798c4b2723e23131478d6c9...</td>\n",
       "      <td>Baby and Personal Care</td>\n",
       "      <td>0</td>\n",
       "    </tr>\n",
       "    <tr>\n",
       "      <th>697</th>\n",
       "      <td>../../data/Images/d202ea988ab11f2327279093ac71...</td>\n",
       "      <td>Festive and Special Occasion</td>\n",
       "      <td>2</td>\n",
       "    </tr>\n",
       "    <tr>\n",
       "      <th>698</th>\n",
       "      <td>../../data/Images/a6c820b76bc29bbe2d85eecad3de...</td>\n",
       "      <td>Electronics and Accessories</td>\n",
       "      <td>1</td>\n",
       "    </tr>\n",
       "    <tr>\n",
       "      <th>699</th>\n",
       "      <td>../../data/Images/79e6b64a09ec7d393be193430ea7...</td>\n",
       "      <td>Festive and Special Occasion</td>\n",
       "      <td>2</td>\n",
       "    </tr>\n",
       "  </tbody>\n",
       "</table>\n",
       "<p>700 rows × 3 columns</p>\n",
       "</div>"
      ],
      "text/plain": [
       "                                            image_path  \\\n",
       "0    ../../data/Images/785b4383b12106dd172306d427d8...   \n",
       "1    ../../data/Images/11f06dffebf7edf9e15351834a19...   \n",
       "2    ../../data/Images/0906fd9cc604fbba05a502e01d76...   \n",
       "3    ../../data/Images/3c4604dba348a99a2dfbbc2cd392...   \n",
       "4    ../../data/Images/c3edc504d1b4f0ba6224fa53a43a...   \n",
       "..                                                 ...   \n",
       "695  ../../data/Images/789cf5578f48577a44586fca3adc...   \n",
       "696  ../../data/Images/aba92798c4b2723e23131478d6c9...   \n",
       "697  ../../data/Images/d202ea988ab11f2327279093ac71...   \n",
       "698  ../../data/Images/a6c820b76bc29bbe2d85eecad3de...   \n",
       "699  ../../data/Images/79e6b64a09ec7d393be193430ea7...   \n",
       "\n",
       "                       label_name  label  \n",
       "0      Home and Kitchen Essential      3  \n",
       "1     Electronics and Accessories      1  \n",
       "2          Baby and Personal Care      0  \n",
       "3      Home and Kitchen Essential      3  \n",
       "4     Electronics and Accessories      1  \n",
       "..                            ...    ...  \n",
       "695    Home and Kitchen Essential      3  \n",
       "696        Baby and Personal Care      0  \n",
       "697  Festive and Special Occasion      2  \n",
       "698   Electronics and Accessories      1  \n",
       "699  Festive and Special Occasion      2  \n",
       "\n",
       "[700 rows x 3 columns]"
      ]
     },
     "execution_count": 72,
     "metadata": {},
     "output_type": "execute_result"
    }
   ],
   "source": [
    "data"
   ]
  },
  {
   "cell_type": "code",
   "execution_count": null,
   "metadata": {},
   "outputs": [],
   "source": [
    "data = data[data['label_name'].notnull()]"
   ]
  },
  {
   "cell_type": "code",
   "execution_count": null,
   "metadata": {},
   "outputs": [
    {
     "name": "stderr",
     "output_type": "stream",
     "text": [
      "/var/folders/z2/zv19yvhx0d7b6fj17_n0489w0000gn/T/ipykernel_29483/1480622283.py:1: SettingWithCopyWarning: \n",
      "A value is trying to be set on a copy of a slice from a DataFrame.\n",
      "Try using .loc[row_indexer,col_indexer] = value instead\n",
      "\n",
      "See the caveats in the documentation: https://pandas.pydata.org/pandas-docs/stable/user_guide/indexing.html#returning-a-view-versus-a-copy\n",
      "  data[\"label_name\"]=data[\"label_name\"].apply(lambda x:x.split(\",\"))\n"
     ]
    }
   ],
   "source": [
    "data['label_name'] = data['label_name'].apply(lambda x : x.split(','))"
   ]
  },
  {
   "cell_type": "code",
   "execution_count": null,
   "metadata": {},
   "outputs": [],
   "source": [
    "batch_size = 32\n",
    "\n",
    "def data_flow_fct(data, datagen, data_type = None):\n",
    "    data_flow = datagen.flow_from_dataframe(\n",
    "        data,\n",
    "        directory = '',\n",
    "        x_col = 'image_path',\n",
    "        y_col = 'label_name',\n",
    "        weight_col = None,\n",
    "        target_size = (256, 256),\n",
    "        classes = None,\n",
    "        class_mode = 'categorical',\n",
    "        batch_size = batch_size,\n",
    "        shuffle = True,\n",
    "        seed = 42,\n",
    "        subset = data_type\n",
    "        )\n",
    "    return data_flow"
   ]
  },
  {
   "cell_type": "code",
   "execution_count": null,
   "metadata": {},
   "outputs": [
    {
     "data": {
      "text/html": [
       "<div>\n",
       "<style scoped>\n",
       "    .dataframe tbody tr th:only-of-type {\n",
       "        vertical-align: middle;\n",
       "    }\n",
       "\n",
       "    .dataframe tbody tr th {\n",
       "        vertical-align: top;\n",
       "    }\n",
       "\n",
       "    .dataframe thead th {\n",
       "        text-align: right;\n",
       "    }\n",
       "</style>\n",
       "<table border=\"1\" class=\"dataframe\">\n",
       "  <thead>\n",
       "    <tr style=\"text-align: right;\">\n",
       "      <th></th>\n",
       "      <th>image_path</th>\n",
       "      <th>label_name</th>\n",
       "      <th>label</th>\n",
       "    </tr>\n",
       "  </thead>\n",
       "  <tbody>\n",
       "    <tr>\n",
       "      <th>0</th>\n",
       "      <td>../../data/Images/785b4383b12106dd172306d427d8...</td>\n",
       "      <td>[Home and Kitchen Essential]</td>\n",
       "      <td>3</td>\n",
       "    </tr>\n",
       "    <tr>\n",
       "      <th>1</th>\n",
       "      <td>../../data/Images/11f06dffebf7edf9e15351834a19...</td>\n",
       "      <td>[Electronics and Accessories]</td>\n",
       "      <td>1</td>\n",
       "    </tr>\n",
       "    <tr>\n",
       "      <th>2</th>\n",
       "      <td>../../data/Images/0906fd9cc604fbba05a502e01d76...</td>\n",
       "      <td>[Baby and Personal Care]</td>\n",
       "      <td>0</td>\n",
       "    </tr>\n",
       "    <tr>\n",
       "      <th>3</th>\n",
       "      <td>../../data/Images/3c4604dba348a99a2dfbbc2cd392...</td>\n",
       "      <td>[Home and Kitchen Essential]</td>\n",
       "      <td>3</td>\n",
       "    </tr>\n",
       "    <tr>\n",
       "      <th>4</th>\n",
       "      <td>../../data/Images/c3edc504d1b4f0ba6224fa53a43a...</td>\n",
       "      <td>[Electronics and Accessories]</td>\n",
       "      <td>1</td>\n",
       "    </tr>\n",
       "    <tr>\n",
       "      <th>...</th>\n",
       "      <td>...</td>\n",
       "      <td>...</td>\n",
       "      <td>...</td>\n",
       "    </tr>\n",
       "    <tr>\n",
       "      <th>695</th>\n",
       "      <td>../../data/Images/789cf5578f48577a44586fca3adc...</td>\n",
       "      <td>[Home and Kitchen Essential]</td>\n",
       "      <td>3</td>\n",
       "    </tr>\n",
       "    <tr>\n",
       "      <th>696</th>\n",
       "      <td>../../data/Images/aba92798c4b2723e23131478d6c9...</td>\n",
       "      <td>[Baby and Personal Care]</td>\n",
       "      <td>0</td>\n",
       "    </tr>\n",
       "    <tr>\n",
       "      <th>697</th>\n",
       "      <td>../../data/Images/d202ea988ab11f2327279093ac71...</td>\n",
       "      <td>[Festive and Special Occasion]</td>\n",
       "      <td>2</td>\n",
       "    </tr>\n",
       "    <tr>\n",
       "      <th>698</th>\n",
       "      <td>../../data/Images/a6c820b76bc29bbe2d85eecad3de...</td>\n",
       "      <td>[Electronics and Accessories]</td>\n",
       "      <td>1</td>\n",
       "    </tr>\n",
       "    <tr>\n",
       "      <th>699</th>\n",
       "      <td>../../data/Images/79e6b64a09ec7d393be193430ea7...</td>\n",
       "      <td>[Festive and Special Occasion]</td>\n",
       "      <td>2</td>\n",
       "    </tr>\n",
       "  </tbody>\n",
       "</table>\n",
       "<p>658 rows × 3 columns</p>\n",
       "</div>"
      ],
      "text/plain": [
       "                                            image_path  \\\n",
       "0    ../../data/Images/785b4383b12106dd172306d427d8...   \n",
       "1    ../../data/Images/11f06dffebf7edf9e15351834a19...   \n",
       "2    ../../data/Images/0906fd9cc604fbba05a502e01d76...   \n",
       "3    ../../data/Images/3c4604dba348a99a2dfbbc2cd392...   \n",
       "4    ../../data/Images/c3edc504d1b4f0ba6224fa53a43a...   \n",
       "..                                                 ...   \n",
       "695  ../../data/Images/789cf5578f48577a44586fca3adc...   \n",
       "696  ../../data/Images/aba92798c4b2723e23131478d6c9...   \n",
       "697  ../../data/Images/d202ea988ab11f2327279093ac71...   \n",
       "698  ../../data/Images/a6c820b76bc29bbe2d85eecad3de...   \n",
       "699  ../../data/Images/79e6b64a09ec7d393be193430ea7...   \n",
       "\n",
       "                         label_name  label  \n",
       "0      [Home and Kitchen Essential]      3  \n",
       "1     [Electronics and Accessories]      1  \n",
       "2          [Baby and Personal Care]      0  \n",
       "3      [Home and Kitchen Essential]      3  \n",
       "4     [Electronics and Accessories]      1  \n",
       "..                              ...    ...  \n",
       "695    [Home and Kitchen Essential]      3  \n",
       "696        [Baby and Personal Care]      0  \n",
       "697  [Festive and Special Occasion]      2  \n",
       "698   [Electronics and Accessories]      1  \n",
       "699  [Festive and Special Occasion]      2  \n",
       "\n",
       "[658 rows x 3 columns]"
      ]
     },
     "execution_count": 90,
     "metadata": {},
     "output_type": "execute_result"
    }
   ],
   "source": [
    "data"
   ]
  },
  {
   "cell_type": "code",
   "execution_count": null,
   "metadata": {
    "scrolled": true
   },
   "outputs": [
    {
     "name": "stdout",
     "output_type": "stream",
     "text": [
      "Found 494 validated image filenames belonging to 4 classes.\n",
      "Found 164 validated image filenames belonging to 4 classes.\n"
     ]
    }
   ],
   "source": [
    "datagen_train = ImageDataGenerator(\n",
    "    featurewise_center = True,\n",
    "    featurewise_std_normalization = True,\n",
    "    rotation_range = 20,\n",
    "    width_shift_range = 0.2,\n",
    "    height_shift_range = 0.2,\n",
    "    horizontal_flip = True,\n",
    "    validation_split = 0.25,\n",
    "    preprocessing_function = preprocess_input\n",
    "    )\n",
    "\n",
    "train_flow = data_flow_fct(data, datagen_train, data_type = 'training')\n",
    "val_flow = data_flow_fct(data, datagen_train, data_type = 'validation')\n",
    "\n",
    "datagen_test = ImageDataGenerator(\n",
    "    validation_split = 0,\n",
    "    preprocessing_function = preprocess_input)\n",
    "\n",
    "#test_flow = data_flow_fct(data_test, datagen_test, data_type = None)\n",
    "\n",
    "# compute quantities required for featurewise normalization\n",
    "# (std, mean, and principal components if ZCA whitening is applied)\n",
    "# datagen.fit(X_train)\n",
    "# fits the model on batches with real-time data augmentation:"
   ]
  },
  {
   "cell_type": "code",
   "execution_count": null,
   "metadata": {},
   "outputs": [
    {
     "ename": "TypeError",
     "evalue": "If class_mode=\"categorical\", y_col=\"label_name\" column values must be type string, list or tuple.",
     "output_type": "error",
     "traceback": [
      "\u001b[0;31m---------------------------------------------------------------------------\u001b[0m",
      "\u001b[0;31mTypeError\u001b[0m                                 Traceback (most recent call last)",
      "Input \u001b[0;32mIn [93]\u001b[0m, in \u001b[0;36m<module>\u001b[0;34m\u001b[0m\n\u001b[0;32m----> 1\u001b[0m test_flow \u001b[38;5;241m=\u001b[39m \u001b[43mdata_flow_fct\u001b[49m\u001b[43m(\u001b[49m\u001b[43mdata_test\u001b[49m\u001b[43m,\u001b[49m\u001b[43m \u001b[49m\u001b[43mdatagen_test\u001b[49m\u001b[43m,\u001b[49m\u001b[43m \u001b[49m\u001b[43mdata_type\u001b[49m\u001b[43m \u001b[49m\u001b[38;5;241;43m=\u001b[39;49m\u001b[43m \u001b[49m\u001b[38;5;28;43;01mNone\u001b[39;49;00m\u001b[43m)\u001b[49m\n",
      "Input \u001b[0;32mIn [89]\u001b[0m, in \u001b[0;36mdata_flow_fct\u001b[0;34m(data, datagen, data_type)\u001b[0m\n\u001b[1;32m      3\u001b[0m \u001b[38;5;28;01mdef\u001b[39;00m \u001b[38;5;21mdata_flow_fct\u001b[39m(data, datagen, data_type \u001b[38;5;241m=\u001b[39m \u001b[38;5;28;01mNone\u001b[39;00m):\n\u001b[0;32m----> 4\u001b[0m     data_flow \u001b[38;5;241m=\u001b[39m \u001b[43mdatagen\u001b[49m\u001b[38;5;241;43m.\u001b[39;49m\u001b[43mflow_from_dataframe\u001b[49m\u001b[43m(\u001b[49m\n\u001b[1;32m      5\u001b[0m \u001b[43m        \u001b[49m\u001b[43mdata\u001b[49m\u001b[43m,\u001b[49m\n\u001b[1;32m      6\u001b[0m \u001b[43m        \u001b[49m\u001b[43mdirectory\u001b[49m\u001b[43m \u001b[49m\u001b[38;5;241;43m=\u001b[39;49m\u001b[43m \u001b[49m\u001b[38;5;124;43m'\u001b[39;49m\u001b[38;5;124;43m'\u001b[39;49m\u001b[43m,\u001b[49m\n\u001b[1;32m      7\u001b[0m \u001b[43m        \u001b[49m\u001b[43mx_col\u001b[49m\u001b[43m \u001b[49m\u001b[38;5;241;43m=\u001b[39;49m\u001b[43m \u001b[49m\u001b[38;5;124;43m'\u001b[39;49m\u001b[38;5;124;43mimage_path\u001b[39;49m\u001b[38;5;124;43m'\u001b[39;49m\u001b[43m,\u001b[49m\n\u001b[1;32m      8\u001b[0m \u001b[43m        \u001b[49m\u001b[43my_col\u001b[49m\u001b[43m \u001b[49m\u001b[38;5;241;43m=\u001b[39;49m\u001b[43m \u001b[49m\u001b[38;5;124;43m'\u001b[39;49m\u001b[38;5;124;43mlabel_name\u001b[39;49m\u001b[38;5;124;43m'\u001b[39;49m\u001b[43m,\u001b[49m\n\u001b[1;32m      9\u001b[0m \u001b[43m        \u001b[49m\u001b[43mweight_col\u001b[49m\u001b[43m \u001b[49m\u001b[38;5;241;43m=\u001b[39;49m\u001b[43m \u001b[49m\u001b[38;5;28;43;01mNone\u001b[39;49;00m\u001b[43m,\u001b[49m\n\u001b[1;32m     10\u001b[0m \u001b[43m        \u001b[49m\u001b[43mtarget_size\u001b[49m\u001b[43m \u001b[49m\u001b[38;5;241;43m=\u001b[39;49m\u001b[43m \u001b[49m\u001b[43m(\u001b[49m\u001b[38;5;241;43m224\u001b[39;49m\u001b[43m,\u001b[49m\u001b[43m \u001b[49m\u001b[38;5;241;43m224\u001b[39;49m\u001b[43m)\u001b[49m\u001b[43m,\u001b[49m\n\u001b[1;32m     11\u001b[0m \u001b[43m        \u001b[49m\u001b[43mclasses\u001b[49m\u001b[43m \u001b[49m\u001b[38;5;241;43m=\u001b[39;49m\u001b[43m \u001b[49m\u001b[38;5;28;43;01mNone\u001b[39;49;00m\u001b[43m,\u001b[49m\n\u001b[1;32m     12\u001b[0m \u001b[43m        \u001b[49m\u001b[43mclass_mode\u001b[49m\u001b[43m \u001b[49m\u001b[38;5;241;43m=\u001b[39;49m\u001b[43m \u001b[49m\u001b[38;5;124;43m'\u001b[39;49m\u001b[38;5;124;43mcategorical\u001b[39;49m\u001b[38;5;124;43m'\u001b[39;49m\u001b[43m,\u001b[49m\n\u001b[1;32m     13\u001b[0m \u001b[43m        \u001b[49m\u001b[43mbatch_size\u001b[49m\u001b[43m \u001b[49m\u001b[38;5;241;43m=\u001b[39;49m\u001b[43m \u001b[49m\u001b[43mbatch_size\u001b[49m\u001b[43m,\u001b[49m\n\u001b[1;32m     14\u001b[0m \u001b[43m        \u001b[49m\u001b[43mshuffle\u001b[49m\u001b[43m \u001b[49m\u001b[38;5;241;43m=\u001b[39;49m\u001b[43m \u001b[49m\u001b[38;5;28;43;01mTrue\u001b[39;49;00m\u001b[43m,\u001b[49m\n\u001b[1;32m     15\u001b[0m \u001b[43m        \u001b[49m\u001b[43mseed\u001b[49m\u001b[43m \u001b[49m\u001b[38;5;241;43m=\u001b[39;49m\u001b[43m \u001b[49m\u001b[38;5;241;43m42\u001b[39;49m\u001b[43m,\u001b[49m\n\u001b[1;32m     16\u001b[0m \u001b[43m        \u001b[49m\u001b[43msubset\u001b[49m\u001b[43m \u001b[49m\u001b[38;5;241;43m=\u001b[39;49m\u001b[43m \u001b[49m\u001b[43mdata_type\u001b[49m\n\u001b[1;32m     17\u001b[0m \u001b[43m        \u001b[49m\u001b[43m)\u001b[49m\n\u001b[1;32m     18\u001b[0m     \u001b[38;5;28;01mreturn\u001b[39;00m data_flow\n",
      "File \u001b[0;32m~/.pyenv/versions/3.9.7/envs/artefact/lib/python3.9/site-packages/keras/preprocessing/image.py:1117\u001b[0m, in \u001b[0;36mImageDataGenerator.flow_from_dataframe\u001b[0;34m(self, dataframe, directory, x_col, y_col, weight_col, target_size, color_mode, classes, class_mode, batch_size, shuffle, seed, save_to_dir, save_prefix, save_format, subset, interpolation, validate_filenames, **kwargs)\u001b[0m\n\u001b[1;32m   1111\u001b[0m \u001b[38;5;28;01mif\u001b[39;00m \u001b[38;5;124m'\u001b[39m\u001b[38;5;124mdrop_duplicates\u001b[39m\u001b[38;5;124m'\u001b[39m \u001b[38;5;129;01min\u001b[39;00m kwargs:\n\u001b[1;32m   1112\u001b[0m   tf_logging\u001b[38;5;241m.\u001b[39mwarning(\n\u001b[1;32m   1113\u001b[0m       \u001b[38;5;124m'\u001b[39m\u001b[38;5;124mdrop_duplicates is deprecated, you can drop duplicates \u001b[39m\u001b[38;5;124m'\u001b[39m\n\u001b[1;32m   1114\u001b[0m       \u001b[38;5;124m'\u001b[39m\u001b[38;5;124mby using the pandas.DataFrame.drop_duplicates method.\u001b[39m\u001b[38;5;124m'\u001b[39m,\n\u001b[1;32m   1115\u001b[0m       \u001b[38;5;167;01mDeprecationWarning\u001b[39;00m)\n\u001b[0;32m-> 1117\u001b[0m \u001b[38;5;28;01mreturn\u001b[39;00m \u001b[43mDataFrameIterator\u001b[49m\u001b[43m(\u001b[49m\n\u001b[1;32m   1118\u001b[0m \u001b[43m    \u001b[49m\u001b[43mdataframe\u001b[49m\u001b[43m,\u001b[49m\n\u001b[1;32m   1119\u001b[0m \u001b[43m    \u001b[49m\u001b[43mdirectory\u001b[49m\u001b[43m,\u001b[49m\n\u001b[1;32m   1120\u001b[0m \u001b[43m    \u001b[49m\u001b[38;5;28;43mself\u001b[39;49m\u001b[43m,\u001b[49m\n\u001b[1;32m   1121\u001b[0m \u001b[43m    \u001b[49m\u001b[43mx_col\u001b[49m\u001b[38;5;241;43m=\u001b[39;49m\u001b[43mx_col\u001b[49m\u001b[43m,\u001b[49m\n\u001b[1;32m   1122\u001b[0m \u001b[43m    \u001b[49m\u001b[43my_col\u001b[49m\u001b[38;5;241;43m=\u001b[39;49m\u001b[43my_col\u001b[49m\u001b[43m,\u001b[49m\n\u001b[1;32m   1123\u001b[0m \u001b[43m    \u001b[49m\u001b[43mweight_col\u001b[49m\u001b[38;5;241;43m=\u001b[39;49m\u001b[43mweight_col\u001b[49m\u001b[43m,\u001b[49m\n\u001b[1;32m   1124\u001b[0m \u001b[43m    \u001b[49m\u001b[43mtarget_size\u001b[49m\u001b[38;5;241;43m=\u001b[39;49m\u001b[43mtarget_size\u001b[49m\u001b[43m,\u001b[49m\n\u001b[1;32m   1125\u001b[0m \u001b[43m    \u001b[49m\u001b[43mcolor_mode\u001b[49m\u001b[38;5;241;43m=\u001b[39;49m\u001b[43mcolor_mode\u001b[49m\u001b[43m,\u001b[49m\n\u001b[1;32m   1126\u001b[0m \u001b[43m    \u001b[49m\u001b[43mclasses\u001b[49m\u001b[38;5;241;43m=\u001b[39;49m\u001b[43mclasses\u001b[49m\u001b[43m,\u001b[49m\n\u001b[1;32m   1127\u001b[0m \u001b[43m    \u001b[49m\u001b[43mclass_mode\u001b[49m\u001b[38;5;241;43m=\u001b[39;49m\u001b[43mclass_mode\u001b[49m\u001b[43m,\u001b[49m\n\u001b[1;32m   1128\u001b[0m \u001b[43m    \u001b[49m\u001b[43mdata_format\u001b[49m\u001b[38;5;241;43m=\u001b[39;49m\u001b[38;5;28;43mself\u001b[39;49m\u001b[38;5;241;43m.\u001b[39;49m\u001b[43mdata_format\u001b[49m\u001b[43m,\u001b[49m\n\u001b[1;32m   1129\u001b[0m \u001b[43m    \u001b[49m\u001b[43mbatch_size\u001b[49m\u001b[38;5;241;43m=\u001b[39;49m\u001b[43mbatch_size\u001b[49m\u001b[43m,\u001b[49m\n\u001b[1;32m   1130\u001b[0m \u001b[43m    \u001b[49m\u001b[43mshuffle\u001b[49m\u001b[38;5;241;43m=\u001b[39;49m\u001b[43mshuffle\u001b[49m\u001b[43m,\u001b[49m\n\u001b[1;32m   1131\u001b[0m \u001b[43m    \u001b[49m\u001b[43mseed\u001b[49m\u001b[38;5;241;43m=\u001b[39;49m\u001b[43mseed\u001b[49m\u001b[43m,\u001b[49m\n\u001b[1;32m   1132\u001b[0m \u001b[43m    \u001b[49m\u001b[43msave_to_dir\u001b[49m\u001b[38;5;241;43m=\u001b[39;49m\u001b[43msave_to_dir\u001b[49m\u001b[43m,\u001b[49m\n\u001b[1;32m   1133\u001b[0m \u001b[43m    \u001b[49m\u001b[43msave_prefix\u001b[49m\u001b[38;5;241;43m=\u001b[39;49m\u001b[43msave_prefix\u001b[49m\u001b[43m,\u001b[49m\n\u001b[1;32m   1134\u001b[0m \u001b[43m    \u001b[49m\u001b[43msave_format\u001b[49m\u001b[38;5;241;43m=\u001b[39;49m\u001b[43msave_format\u001b[49m\u001b[43m,\u001b[49m\n\u001b[1;32m   1135\u001b[0m \u001b[43m    \u001b[49m\u001b[43msubset\u001b[49m\u001b[38;5;241;43m=\u001b[39;49m\u001b[43msubset\u001b[49m\u001b[43m,\u001b[49m\n\u001b[1;32m   1136\u001b[0m \u001b[43m    \u001b[49m\u001b[43minterpolation\u001b[49m\u001b[38;5;241;43m=\u001b[39;49m\u001b[43minterpolation\u001b[49m\u001b[43m,\u001b[49m\n\u001b[1;32m   1137\u001b[0m \u001b[43m    \u001b[49m\u001b[43mvalidate_filenames\u001b[49m\u001b[38;5;241;43m=\u001b[39;49m\u001b[43mvalidate_filenames\u001b[49m\u001b[43m)\u001b[49m\n",
      "File \u001b[0;32m~/.pyenv/versions/3.9.7/envs/artefact/lib/python3.9/site-packages/keras/preprocessing/image.py:571\u001b[0m, in \u001b[0;36mDataFrameIterator.__init__\u001b[0;34m(self, dataframe, directory, image_data_generator, x_col, y_col, weight_col, target_size, color_mode, classes, class_mode, batch_size, shuffle, seed, data_format, save_to_dir, save_prefix, save_format, subset, interpolation, dtype, validate_filenames)\u001b[0m\n\u001b[1;32m    548\u001b[0m \u001b[38;5;28;01mdef\u001b[39;00m \u001b[38;5;21m__init__\u001b[39m(\n\u001b[1;32m    549\u001b[0m     \u001b[38;5;28mself\u001b[39m,\n\u001b[1;32m    550\u001b[0m     dataframe,\n\u001b[0;32m   (...)\u001b[0m\n\u001b[1;32m    569\u001b[0m     dtype\u001b[38;5;241m=\u001b[39m\u001b[38;5;124m'\u001b[39m\u001b[38;5;124mfloat32\u001b[39m\u001b[38;5;124m'\u001b[39m,\n\u001b[1;32m    570\u001b[0m     validate_filenames\u001b[38;5;241m=\u001b[39m\u001b[38;5;28;01mTrue\u001b[39;00m):\n\u001b[0;32m--> 571\u001b[0m   \u001b[38;5;28;43msuper\u001b[39;49m\u001b[43m(\u001b[49m\u001b[43mDataFrameIterator\u001b[49m\u001b[43m,\u001b[49m\u001b[43m \u001b[49m\u001b[38;5;28;43mself\u001b[39;49m\u001b[43m)\u001b[49m\u001b[38;5;241;43m.\u001b[39;49m\u001b[38;5;21;43m__init__\u001b[39;49m\u001b[43m(\u001b[49m\n\u001b[1;32m    572\u001b[0m \u001b[43m      \u001b[49m\u001b[43mdataframe\u001b[49m\u001b[38;5;241;43m=\u001b[39;49m\u001b[43mdataframe\u001b[49m\u001b[43m,\u001b[49m\n\u001b[1;32m    573\u001b[0m \u001b[43m      \u001b[49m\u001b[43mdirectory\u001b[49m\u001b[38;5;241;43m=\u001b[39;49m\u001b[43mdirectory\u001b[49m\u001b[43m,\u001b[49m\n\u001b[1;32m    574\u001b[0m \u001b[43m      \u001b[49m\u001b[43mimage_data_generator\u001b[49m\u001b[38;5;241;43m=\u001b[39;49m\u001b[43mimage_data_generator\u001b[49m\u001b[43m,\u001b[49m\n\u001b[1;32m    575\u001b[0m \u001b[43m      \u001b[49m\u001b[43mx_col\u001b[49m\u001b[38;5;241;43m=\u001b[39;49m\u001b[43mx_col\u001b[49m\u001b[43m,\u001b[49m\n\u001b[1;32m    576\u001b[0m \u001b[43m      \u001b[49m\u001b[43my_col\u001b[49m\u001b[38;5;241;43m=\u001b[39;49m\u001b[43my_col\u001b[49m\u001b[43m,\u001b[49m\n\u001b[1;32m    577\u001b[0m \u001b[43m      \u001b[49m\u001b[43mweight_col\u001b[49m\u001b[38;5;241;43m=\u001b[39;49m\u001b[43mweight_col\u001b[49m\u001b[43m,\u001b[49m\n\u001b[1;32m    578\u001b[0m \u001b[43m      \u001b[49m\u001b[43mtarget_size\u001b[49m\u001b[38;5;241;43m=\u001b[39;49m\u001b[43mtarget_size\u001b[49m\u001b[43m,\u001b[49m\n\u001b[1;32m    579\u001b[0m \u001b[43m      \u001b[49m\u001b[43mcolor_mode\u001b[49m\u001b[38;5;241;43m=\u001b[39;49m\u001b[43mcolor_mode\u001b[49m\u001b[43m,\u001b[49m\n\u001b[1;32m    580\u001b[0m \u001b[43m      \u001b[49m\u001b[43mclasses\u001b[49m\u001b[38;5;241;43m=\u001b[39;49m\u001b[43mclasses\u001b[49m\u001b[43m,\u001b[49m\n\u001b[1;32m    581\u001b[0m \u001b[43m      \u001b[49m\u001b[43mclass_mode\u001b[49m\u001b[38;5;241;43m=\u001b[39;49m\u001b[43mclass_mode\u001b[49m\u001b[43m,\u001b[49m\n\u001b[1;32m    582\u001b[0m \u001b[43m      \u001b[49m\u001b[43mbatch_size\u001b[49m\u001b[38;5;241;43m=\u001b[39;49m\u001b[43mbatch_size\u001b[49m\u001b[43m,\u001b[49m\n\u001b[1;32m    583\u001b[0m \u001b[43m      \u001b[49m\u001b[43mshuffle\u001b[49m\u001b[38;5;241;43m=\u001b[39;49m\u001b[43mshuffle\u001b[49m\u001b[43m,\u001b[49m\n\u001b[1;32m    584\u001b[0m \u001b[43m      \u001b[49m\u001b[43mseed\u001b[49m\u001b[38;5;241;43m=\u001b[39;49m\u001b[43mseed\u001b[49m\u001b[43m,\u001b[49m\n\u001b[1;32m    585\u001b[0m \u001b[43m      \u001b[49m\u001b[43mdata_format\u001b[49m\u001b[38;5;241;43m=\u001b[39;49m\u001b[43mdata_format\u001b[49m\u001b[43m,\u001b[49m\n\u001b[1;32m    586\u001b[0m \u001b[43m      \u001b[49m\u001b[43msave_to_dir\u001b[49m\u001b[38;5;241;43m=\u001b[39;49m\u001b[43msave_to_dir\u001b[49m\u001b[43m,\u001b[49m\n\u001b[1;32m    587\u001b[0m \u001b[43m      \u001b[49m\u001b[43msave_prefix\u001b[49m\u001b[38;5;241;43m=\u001b[39;49m\u001b[43msave_prefix\u001b[49m\u001b[43m,\u001b[49m\n\u001b[1;32m    588\u001b[0m \u001b[43m      \u001b[49m\u001b[43msave_format\u001b[49m\u001b[38;5;241;43m=\u001b[39;49m\u001b[43msave_format\u001b[49m\u001b[43m,\u001b[49m\n\u001b[1;32m    589\u001b[0m \u001b[43m      \u001b[49m\u001b[43msubset\u001b[49m\u001b[38;5;241;43m=\u001b[39;49m\u001b[43msubset\u001b[49m\u001b[43m,\u001b[49m\n\u001b[1;32m    590\u001b[0m \u001b[43m      \u001b[49m\u001b[43minterpolation\u001b[49m\u001b[38;5;241;43m=\u001b[39;49m\u001b[43minterpolation\u001b[49m\u001b[43m,\u001b[49m\n\u001b[1;32m    591\u001b[0m \u001b[43m      \u001b[49m\u001b[43mdtype\u001b[49m\u001b[38;5;241;43m=\u001b[39;49m\u001b[43mdtype\u001b[49m\u001b[43m,\u001b[49m\n\u001b[1;32m    592\u001b[0m \u001b[43m      \u001b[49m\u001b[43mvalidate_filenames\u001b[49m\u001b[38;5;241;43m=\u001b[39;49m\u001b[43mvalidate_filenames\u001b[49m\n\u001b[1;32m    593\u001b[0m \u001b[43m  \u001b[49m\u001b[43m)\u001b[49m\n",
      "File \u001b[0;32m~/.pyenv/versions/3.9.7/envs/artefact/lib/python3.9/site-packages/keras_preprocessing/image/dataframe_iterator.py:138\u001b[0m, in \u001b[0;36mDataFrameIterator.__init__\u001b[0;34m(self, dataframe, directory, image_data_generator, x_col, y_col, weight_col, target_size, color_mode, classes, class_mode, batch_size, shuffle, seed, data_format, save_to_dir, save_prefix, save_format, subset, interpolation, dtype, validate_filenames)\u001b[0m\n\u001b[1;32m    136\u001b[0m \u001b[38;5;28mself\u001b[39m\u001b[38;5;241m.\u001b[39mdtype \u001b[38;5;241m=\u001b[39m dtype\n\u001b[1;32m    137\u001b[0m \u001b[38;5;66;03m# check that inputs match the required class_mode\u001b[39;00m\n\u001b[0;32m--> 138\u001b[0m \u001b[38;5;28;43mself\u001b[39;49m\u001b[38;5;241;43m.\u001b[39;49m\u001b[43m_check_params\u001b[49m\u001b[43m(\u001b[49m\u001b[43mdf\u001b[49m\u001b[43m,\u001b[49m\u001b[43m \u001b[49m\u001b[43mx_col\u001b[49m\u001b[43m,\u001b[49m\u001b[43m \u001b[49m\u001b[43my_col\u001b[49m\u001b[43m,\u001b[49m\u001b[43m \u001b[49m\u001b[43mweight_col\u001b[49m\u001b[43m,\u001b[49m\u001b[43m \u001b[49m\u001b[43mclasses\u001b[49m\u001b[43m)\u001b[49m\n\u001b[1;32m    139\u001b[0m \u001b[38;5;28;01mif\u001b[39;00m validate_filenames:  \u001b[38;5;66;03m# check which image files are valid and keep them\u001b[39;00m\n\u001b[1;32m    140\u001b[0m     df \u001b[38;5;241m=\u001b[39m \u001b[38;5;28mself\u001b[39m\u001b[38;5;241m.\u001b[39m_filter_valid_filepaths(df, x_col)\n",
      "File \u001b[0;32m~/.pyenv/versions/3.9.7/envs/artefact/lib/python3.9/site-packages/keras_preprocessing/image/dataframe_iterator.py:214\u001b[0m, in \u001b[0;36mDataFrameIterator._check_params\u001b[0;34m(self, df, x_col, y_col, weight_col, classes)\u001b[0m\n\u001b[1;32m    212\u001b[0m     types \u001b[38;5;241m=\u001b[39m (\u001b[38;5;28mstr\u001b[39m, \u001b[38;5;28mlist\u001b[39m, \u001b[38;5;28mtuple\u001b[39m)\n\u001b[1;32m    213\u001b[0m     \u001b[38;5;28;01mif\u001b[39;00m \u001b[38;5;129;01mnot\u001b[39;00m \u001b[38;5;28mall\u001b[39m(df[y_col]\u001b[38;5;241m.\u001b[39mapply(\u001b[38;5;28;01mlambda\u001b[39;00m x: \u001b[38;5;28misinstance\u001b[39m(x, types))):\n\u001b[0;32m--> 214\u001b[0m         \u001b[38;5;28;01mraise\u001b[39;00m \u001b[38;5;167;01mTypeError\u001b[39;00m(\u001b[38;5;124m'\u001b[39m\u001b[38;5;124mIf class_mode=\u001b[39m\u001b[38;5;124m\"\u001b[39m\u001b[38;5;132;01m{}\u001b[39;00m\u001b[38;5;124m\"\u001b[39m\u001b[38;5;124m, y_col=\u001b[39m\u001b[38;5;124m\"\u001b[39m\u001b[38;5;132;01m{}\u001b[39;00m\u001b[38;5;124m\"\u001b[39m\u001b[38;5;124m column \u001b[39m\u001b[38;5;124m'\u001b[39m\n\u001b[1;32m    215\u001b[0m                         \u001b[38;5;124m'\u001b[39m\u001b[38;5;124mvalues must be type string, list or tuple.\u001b[39m\u001b[38;5;124m'\u001b[39m\n\u001b[1;32m    216\u001b[0m                         \u001b[38;5;241m.\u001b[39mformat(\u001b[38;5;28mself\u001b[39m\u001b[38;5;241m.\u001b[39mclass_mode, y_col))\n\u001b[1;32m    217\u001b[0m \u001b[38;5;66;03m# raise warning if classes are given but will be unused\u001b[39;00m\n\u001b[1;32m    218\u001b[0m \u001b[38;5;28;01mif\u001b[39;00m classes \u001b[38;5;129;01mand\u001b[39;00m \u001b[38;5;28mself\u001b[39m\u001b[38;5;241m.\u001b[39mclass_mode \u001b[38;5;129;01min\u001b[39;00m {\u001b[38;5;124m\"\u001b[39m\u001b[38;5;124minput\u001b[39m\u001b[38;5;124m\"\u001b[39m, \u001b[38;5;124m\"\u001b[39m\u001b[38;5;124mmulti_output\u001b[39m\u001b[38;5;124m\"\u001b[39m, \u001b[38;5;124m\"\u001b[39m\u001b[38;5;124mraw\u001b[39m\u001b[38;5;124m\"\u001b[39m, \u001b[38;5;28;01mNone\u001b[39;00m}:\n",
      "\u001b[0;31mTypeError\u001b[0m: If class_mode=\"categorical\", y_col=\"label_name\" column values must be type string, list or tuple."
     ]
    }
   ],
   "source": [
    "test_flow = data_flow_fct(data_test, datagen_test, data_type = None)"
   ]
  },
  {
   "cell_type": "code",
   "execution_count": null,
   "metadata": {},
   "outputs": [
    {
     "data": {
      "text/html": [
       "<div>\n",
       "<style scoped>\n",
       "    .dataframe tbody tr th:only-of-type {\n",
       "        vertical-align: middle;\n",
       "    }\n",
       "\n",
       "    .dataframe tbody tr th {\n",
       "        vertical-align: top;\n",
       "    }\n",
       "\n",
       "    .dataframe thead th {\n",
       "        text-align: right;\n",
       "    }\n",
       "</style>\n",
       "<table border=\"1\" class=\"dataframe\">\n",
       "  <thead>\n",
       "    <tr style=\"text-align: right;\">\n",
       "      <th></th>\n",
       "      <th>image_path</th>\n",
       "      <th>label_name</th>\n",
       "      <th>label</th>\n",
       "    </tr>\n",
       "  </thead>\n",
       "  <tbody>\n",
       "    <tr>\n",
       "      <th>0</th>\n",
       "      <td>../../data/Images/6c53dbd7a9d43744920bfae3bc06...</td>\n",
       "      <td>Home and Kitchen Essential</td>\n",
       "      <td>3</td>\n",
       "    </tr>\n",
       "    <tr>\n",
       "      <th>1</th>\n",
       "      <td>../../data/Images/672d1c3272eae4586eb5994fe408...</td>\n",
       "      <td>Home and Kitchen Essential</td>\n",
       "      <td>3</td>\n",
       "    </tr>\n",
       "    <tr>\n",
       "      <th>2</th>\n",
       "      <td>../../data/Images/72db37ec42ee76d79cf395221e0f...</td>\n",
       "      <td>Festive and Special Occasion</td>\n",
       "      <td>2</td>\n",
       "    </tr>\n",
       "    <tr>\n",
       "      <th>3</th>\n",
       "      <td>../../data/Images/0ae859a69c7608d8197c3ba8c37b...</td>\n",
       "      <td>Home and Kitchen Essential</td>\n",
       "      <td>3</td>\n",
       "    </tr>\n",
       "    <tr>\n",
       "      <th>4</th>\n",
       "      <td>../../data/Images/66b75f053cb7626f49f1a9bffe77...</td>\n",
       "      <td>Home and Kitchen Essential</td>\n",
       "      <td>3</td>\n",
       "    </tr>\n",
       "    <tr>\n",
       "      <th>...</th>\n",
       "      <td>...</td>\n",
       "      <td>...</td>\n",
       "      <td>...</td>\n",
       "    </tr>\n",
       "    <tr>\n",
       "      <th>345</th>\n",
       "      <td>../../data/Images/4e5ebfc871992e7e22365c0c036a...</td>\n",
       "      <td>Baby and Personal Care</td>\n",
       "      <td>0</td>\n",
       "    </tr>\n",
       "    <tr>\n",
       "      <th>346</th>\n",
       "      <td>../../data/Images/82fbc93cd45ab747e7e606f2c52c...</td>\n",
       "      <td>Baby and Personal Care</td>\n",
       "      <td>0</td>\n",
       "    </tr>\n",
       "    <tr>\n",
       "      <th>347</th>\n",
       "      <td>../../data/Images/216c6c3527984be3d7ad9023d5cd...</td>\n",
       "      <td>Baby and Personal Care</td>\n",
       "      <td>0</td>\n",
       "    </tr>\n",
       "    <tr>\n",
       "      <th>348</th>\n",
       "      <td>../../data/Images/f54d0c5cbd8e2270742293edf907...</td>\n",
       "      <td>Baby and Personal Care</td>\n",
       "      <td>0</td>\n",
       "    </tr>\n",
       "    <tr>\n",
       "      <th>349</th>\n",
       "      <td>../../data/Images/1738ddb8f47f11ff0cb96fe6cad3...</td>\n",
       "      <td>Baby and Personal Care</td>\n",
       "      <td>0</td>\n",
       "    </tr>\n",
       "  </tbody>\n",
       "</table>\n",
       "<p>350 rows × 3 columns</p>\n",
       "</div>"
      ],
      "text/plain": [
       "                                            image_path  \\\n",
       "0    ../../data/Images/6c53dbd7a9d43744920bfae3bc06...   \n",
       "1    ../../data/Images/672d1c3272eae4586eb5994fe408...   \n",
       "2    ../../data/Images/72db37ec42ee76d79cf395221e0f...   \n",
       "3    ../../data/Images/0ae859a69c7608d8197c3ba8c37b...   \n",
       "4    ../../data/Images/66b75f053cb7626f49f1a9bffe77...   \n",
       "..                                                 ...   \n",
       "345  ../../data/Images/4e5ebfc871992e7e22365c0c036a...   \n",
       "346  ../../data/Images/82fbc93cd45ab747e7e606f2c52c...   \n",
       "347  ../../data/Images/216c6c3527984be3d7ad9023d5cd...   \n",
       "348  ../../data/Images/f54d0c5cbd8e2270742293edf907...   \n",
       "349  ../../data/Images/1738ddb8f47f11ff0cb96fe6cad3...   \n",
       "\n",
       "                       label_name  label  \n",
       "0      Home and Kitchen Essential      3  \n",
       "1      Home and Kitchen Essential      3  \n",
       "2    Festive and Special Occasion      2  \n",
       "3      Home and Kitchen Essential      3  \n",
       "4      Home and Kitchen Essential      3  \n",
       "..                            ...    ...  \n",
       "345        Baby and Personal Care      0  \n",
       "346        Baby and Personal Care      0  \n",
       "347        Baby and Personal Care      0  \n",
       "348        Baby and Personal Care      0  \n",
       "349        Baby and Personal Care      0  \n",
       "\n",
       "[350 rows x 3 columns]"
      ]
     },
     "execution_count": 94,
     "metadata": {},
     "output_type": "execute_result"
    }
   ],
   "source": [
    "data_test"
   ]
  },
  {
   "cell_type": "code",
   "execution_count": null,
   "metadata": {},
   "outputs": [
    {
     "name": "stderr",
     "output_type": "stream",
     "text": [
      "/var/folders/z2/zv19yvhx0d7b6fj17_n0489w0000gn/T/ipykernel_29483/2235460317.py:2: SettingWithCopyWarning: \n",
      "A value is trying to be set on a copy of a slice from a DataFrame.\n",
      "Try using .loc[row_indexer,col_indexer] = value instead\n",
      "\n",
      "See the caveats in the documentation: https://pandas.pydata.org/pandas-docs/stable/user_guide/indexing.html#returning-a-view-versus-a-copy\n",
      "  data_test['label_name'] = data_test['label_name'].apply(lambda x : x.split(','))\n"
     ]
    }
   ],
   "source": [
    "data_test = data_test[data_test['label_name'].notnull()]\n",
    "data_test['label_name'] = data_test['label_name'].apply(lambda x : x.split(','))"
   ]
  },
  {
   "cell_type": "code",
   "execution_count": null,
   "metadata": {},
   "outputs": [
    {
     "name": "stdout",
     "output_type": "stream",
     "text": [
      "Found 348 validated image filenames belonging to 4 classes.\n"
     ]
    }
   ],
   "source": [
    "datagen_test = ImageDataGenerator(\n",
    "    validation_split = 0,\n",
    "    preprocessing_function = preprocess_input)\n",
    "\n",
    "test_flow = data_flow_fct(data_test, datagen_test, data_type = None)"
   ]
  },
  {
   "cell_type": "code",
   "execution_count": null,
   "metadata": {
    "scrolled": true
   },
   "outputs": [
    {
     "name": "stdout",
     "output_type": "stream",
     "text": [
      "Model: \"model_3\"\n",
      "_________________________________________________________________\n",
      " Layer (type)                Output Shape              Param #   \n",
      "=================================================================\n",
      " input_4 (InputLayer)        [(None, 224, 224, 3)]     0         \n",
      "                                                                 \n",
      " block1_conv1 (Conv2D)       (None, 224, 224, 64)      1792      \n",
      "                                                                 \n",
      " block1_conv2 (Conv2D)       (None, 224, 224, 64)      36928     \n",
      "                                                                 \n",
      " block1_pool (MaxPooling2D)  (None, 112, 112, 64)      0         \n",
      "                                                                 \n",
      " block2_conv1 (Conv2D)       (None, 112, 112, 128)     73856     \n",
      "                                                                 \n",
      " block2_conv2 (Conv2D)       (None, 112, 112, 128)     147584    \n",
      "                                                                 \n",
      " block2_pool (MaxPooling2D)  (None, 56, 56, 128)       0         \n",
      "                                                                 \n",
      " block3_conv1 (Conv2D)       (None, 56, 56, 256)       295168    \n",
      "                                                                 \n",
      " block3_conv2 (Conv2D)       (None, 56, 56, 256)       590080    \n",
      "                                                                 \n",
      " block3_conv3 (Conv2D)       (None, 56, 56, 256)       590080    \n",
      "                                                                 \n",
      " block3_pool (MaxPooling2D)  (None, 28, 28, 256)       0         \n",
      "                                                                 \n",
      " block4_conv1 (Conv2D)       (None, 28, 28, 512)       1180160   \n",
      "                                                                 \n",
      " block4_conv2 (Conv2D)       (None, 28, 28, 512)       2359808   \n",
      "                                                                 \n",
      " block4_conv3 (Conv2D)       (None, 28, 28, 512)       2359808   \n",
      "                                                                 \n",
      " block4_pool (MaxPooling2D)  (None, 14, 14, 512)       0         \n",
      "                                                                 \n",
      " block5_conv1 (Conv2D)       (None, 14, 14, 512)       2359808   \n",
      "                                                                 \n",
      " block5_conv2 (Conv2D)       (None, 14, 14, 512)       2359808   \n",
      "                                                                 \n",
      " block5_conv3 (Conv2D)       (None, 14, 14, 512)       2359808   \n",
      "                                                                 \n",
      " block5_pool (MaxPooling2D)  (None, 7, 7, 512)         0         \n",
      "                                                                 \n",
      " global_average_pooling2d_2   (None, 512)              0         \n",
      " (GlobalAveragePooling2D)                                        \n",
      "                                                                 \n",
      " dense_4 (Dense)             (None, 256)               131328    \n",
      "                                                                 \n",
      " dropout_2 (Dropout)         (None, 256)               0         \n",
      "                                                                 \n",
      " dense_5 (Dense)             (None, 5)                 1285      \n",
      "                                                                 \n",
      "=================================================================\n",
      "Total params: 14,847,301\n",
      "Trainable params: 132,613\n",
      "Non-trainable params: 14,714,688\n",
      "_________________________________________________________________\n",
      "None\n"
     ]
    }
   ],
   "source": [
    "# Création du modèle\n",
    "with tf.device('/gpu:0'):\n",
    "    model2 = create_model_fct()\n",
    "\n",
    "# Création du callback\n",
    "model2_save_path = './model2_best_weights.h5'\n",
    "checkpoint = ModelCheckpoint(model2_save_path, monitor = 'val_loss', verbose = 1, save_best_only = True, mode = 'min')\n",
    "es = EarlyStopping(monitor = 'val_loss', mode = 'min', verbose = 1, patience = 5)\n",
    "callbacks_list = [checkpoint, es]"
   ]
  },
  {
   "cell_type": "code",
   "execution_count": null,
   "metadata": {
    "scrolled": true
   },
   "outputs": [
    {
     "name": "stdout",
     "output_type": "stream",
     "text": [
      "Num GPUs Available:  1\n"
     ]
    }
   ],
   "source": [
    "print(\"Num GPUs Available: \", len(tf.config.list_physical_devices('GPU')))"
   ]
  },
  {
   "cell_type": "code",
   "execution_count": null,
   "metadata": {
    "scrolled": true
   },
   "outputs": [
    {
     "name": "stderr",
     "output_type": "stream",
     "text": [
      "/Users/lucilerabeau/.pyenv/versions/3.9.7/envs/artefact/lib/python3.9/site-packages/keras_preprocessing/image/image_data_generator.py:720: UserWarning: This ImageDataGenerator specifies `featurewise_center`, but it hasn't been fit on any training data. Fit it first by calling `.fit(numpy_data)`.\n",
      "  warnings.warn('This ImageDataGenerator specifies '\n",
      "/Users/lucilerabeau/.pyenv/versions/3.9.7/envs/artefact/lib/python3.9/site-packages/keras_preprocessing/image/image_data_generator.py:728: UserWarning: This ImageDataGenerator specifies `featurewise_std_normalization`, but it hasn't been fit on any training data. Fit it first by calling `.fit(numpy_data)`.\n",
      "  warnings.warn('This ImageDataGenerator specifies '\n"
     ]
    },
    {
     "name": "stdout",
     "output_type": "stream",
     "text": [
      "Epoch 1/50\n"
     ]
    },
    {
     "name": "stderr",
     "output_type": "stream",
     "text": [
      "2024-02-23 14:46:10.803136: I tensorflow/core/grappler/optimizers/custom_graph_optimizer_registry.cc:113] Plugin optimizer for device_type GPU is enabled.\n"
     ]
    },
    {
     "ename": "InvalidArgumentError",
     "evalue": "Graph execution error:\n\nDetected at node 'categorical_crossentropy/softmax_cross_entropy_with_logits' defined at (most recent call last):\n    File \"/Users/lucilerabeau/.pyenv/versions/3.9.7/lib/python3.9/runpy.py\", line 197, in _run_module_as_main\n      return _run_code(code, main_globals, None,\n    File \"/Users/lucilerabeau/.pyenv/versions/3.9.7/lib/python3.9/runpy.py\", line 87, in _run_code\n      exec(code, run_globals)\n    File \"/Users/lucilerabeau/.pyenv/versions/3.9.7/envs/artefact/lib/python3.9/site-packages/ipykernel_launcher.py\", line 17, in <module>\n      app.launch_new_instance()\n    File \"/Users/lucilerabeau/.pyenv/versions/3.9.7/envs/artefact/lib/python3.9/site-packages/traitlets/config/application.py\", line 1043, in launch_instance\n      app.start()\n    File \"/Users/lucilerabeau/.pyenv/versions/3.9.7/envs/artefact/lib/python3.9/site-packages/ipykernel/kernelapp.py\", line 728, in start\n      self.io_loop.start()\n    File \"/Users/lucilerabeau/.pyenv/versions/3.9.7/envs/artefact/lib/python3.9/site-packages/tornado/platform/asyncio.py\", line 199, in start\n      self.asyncio_loop.run_forever()\n    File \"/Users/lucilerabeau/.pyenv/versions/3.9.7/lib/python3.9/asyncio/base_events.py\", line 596, in run_forever\n      self._run_once()\n    File \"/Users/lucilerabeau/.pyenv/versions/3.9.7/lib/python3.9/asyncio/base_events.py\", line 1890, in _run_once\n      handle._run()\n    File \"/Users/lucilerabeau/.pyenv/versions/3.9.7/lib/python3.9/asyncio/events.py\", line 80, in _run\n      self._context.run(self._callback, *self._args)\n    File \"/Users/lucilerabeau/.pyenv/versions/3.9.7/envs/artefact/lib/python3.9/site-packages/ipykernel/kernelbase.py\", line 516, in dispatch_queue\n      await self.process_one()\n    File \"/Users/lucilerabeau/.pyenv/versions/3.9.7/envs/artefact/lib/python3.9/site-packages/ipykernel/kernelbase.py\", line 505, in process_one\n      await dispatch(*args)\n    File \"/Users/lucilerabeau/.pyenv/versions/3.9.7/envs/artefact/lib/python3.9/site-packages/ipykernel/kernelbase.py\", line 412, in dispatch_shell\n      await result\n    File \"/Users/lucilerabeau/.pyenv/versions/3.9.7/envs/artefact/lib/python3.9/site-packages/ipykernel/kernelbase.py\", line 740, in execute_request\n      reply_content = await reply_content\n    File \"/Users/lucilerabeau/.pyenv/versions/3.9.7/envs/artefact/lib/python3.9/site-packages/ipykernel/ipkernel.py\", line 429, in do_execute\n      res = shell.run_cell(code, store_history=store_history, silent=silent)\n    File \"/Users/lucilerabeau/.pyenv/versions/3.9.7/envs/artefact/lib/python3.9/site-packages/ipykernel/zmqshell.py\", line 540, in run_cell\n      return super().run_cell(*args, **kwargs)\n    File \"/Users/lucilerabeau/.pyenv/versions/3.9.7/envs/artefact/lib/python3.9/site-packages/IPython/core/interactiveshell.py\", line 2768, in run_cell\n      result = self._run_cell(\n    File \"/Users/lucilerabeau/.pyenv/versions/3.9.7/envs/artefact/lib/python3.9/site-packages/IPython/core/interactiveshell.py\", line 2814, in _run_cell\n      return runner(coro)\n    File \"/Users/lucilerabeau/.pyenv/versions/3.9.7/envs/artefact/lib/python3.9/site-packages/IPython/core/async_helpers.py\", line 129, in _pseudo_sync_runner\n      coro.send(None)\n    File \"/Users/lucilerabeau/.pyenv/versions/3.9.7/envs/artefact/lib/python3.9/site-packages/IPython/core/interactiveshell.py\", line 3012, in run_cell_async\n      has_raised = await self.run_ast_nodes(code_ast.body, cell_name,\n    File \"/Users/lucilerabeau/.pyenv/versions/3.9.7/envs/artefact/lib/python3.9/site-packages/IPython/core/interactiveshell.py\", line 3191, in run_ast_nodes\n      if await self.run_code(code, result, async_=asy):\n    File \"/Users/lucilerabeau/.pyenv/versions/3.9.7/envs/artefact/lib/python3.9/site-packages/IPython/core/interactiveshell.py\", line 3251, in run_code\n      exec(code_obj, self.user_global_ns, self.user_ns)\n    File \"/var/folders/z2/zv19yvhx0d7b6fj17_n0489w0000gn/T/ipykernel_29483/2906035129.py\", line 2, in <module>\n      history2 = model2.fit(\n    File \"/Users/lucilerabeau/.pyenv/versions/3.9.7/envs/artefact/lib/python3.9/site-packages/keras/utils/traceback_utils.py\", line 64, in error_handler\n      return fn(*args, **kwargs)\n    File \"/Users/lucilerabeau/.pyenv/versions/3.9.7/envs/artefact/lib/python3.9/site-packages/keras/engine/training.py\", line 1384, in fit\n      tmp_logs = self.train_function(iterator)\n    File \"/Users/lucilerabeau/.pyenv/versions/3.9.7/envs/artefact/lib/python3.9/site-packages/keras/engine/training.py\", line 1021, in train_function\n      return step_function(self, iterator)\n    File \"/Users/lucilerabeau/.pyenv/versions/3.9.7/envs/artefact/lib/python3.9/site-packages/keras/engine/training.py\", line 1010, in step_function\n      outputs = model.distribute_strategy.run(run_step, args=(data,))\n    File \"/Users/lucilerabeau/.pyenv/versions/3.9.7/envs/artefact/lib/python3.9/site-packages/keras/engine/training.py\", line 1000, in run_step\n      outputs = model.train_step(data)\n    File \"/Users/lucilerabeau/.pyenv/versions/3.9.7/envs/artefact/lib/python3.9/site-packages/keras/engine/training.py\", line 860, in train_step\n      loss = self.compute_loss(x, y, y_pred, sample_weight)\n    File \"/Users/lucilerabeau/.pyenv/versions/3.9.7/envs/artefact/lib/python3.9/site-packages/keras/engine/training.py\", line 918, in compute_loss\n      return self.compiled_loss(\n    File \"/Users/lucilerabeau/.pyenv/versions/3.9.7/envs/artefact/lib/python3.9/site-packages/keras/engine/compile_utils.py\", line 201, in __call__\n      loss_value = loss_obj(y_t, y_p, sample_weight=sw)\n    File \"/Users/lucilerabeau/.pyenv/versions/3.9.7/envs/artefact/lib/python3.9/site-packages/keras/losses.py\", line 141, in __call__\n      losses = call_fn(y_true, y_pred)\n    File \"/Users/lucilerabeau/.pyenv/versions/3.9.7/envs/artefact/lib/python3.9/site-packages/keras/losses.py\", line 245, in call\n      return ag_fn(y_true, y_pred, **self._fn_kwargs)\n    File \"/Users/lucilerabeau/.pyenv/versions/3.9.7/envs/artefact/lib/python3.9/site-packages/keras/losses.py\", line 1789, in categorical_crossentropy\n      return backend.categorical_crossentropy(\n    File \"/Users/lucilerabeau/.pyenv/versions/3.9.7/envs/artefact/lib/python3.9/site-packages/keras/backend.py\", line 5098, in categorical_crossentropy\n      return tf.nn.softmax_cross_entropy_with_logits(\nNode: 'categorical_crossentropy/softmax_cross_entropy_with_logits'\nDetected at node 'categorical_crossentropy/softmax_cross_entropy_with_logits' defined at (most recent call last):\n    File \"/Users/lucilerabeau/.pyenv/versions/3.9.7/lib/python3.9/runpy.py\", line 197, in _run_module_as_main\n      return _run_code(code, main_globals, None,\n    File \"/Users/lucilerabeau/.pyenv/versions/3.9.7/lib/python3.9/runpy.py\", line 87, in _run_code\n      exec(code, run_globals)\n    File \"/Users/lucilerabeau/.pyenv/versions/3.9.7/envs/artefact/lib/python3.9/site-packages/ipykernel_launcher.py\", line 17, in <module>\n      app.launch_new_instance()\n    File \"/Users/lucilerabeau/.pyenv/versions/3.9.7/envs/artefact/lib/python3.9/site-packages/traitlets/config/application.py\", line 1043, in launch_instance\n      app.start()\n    File \"/Users/lucilerabeau/.pyenv/versions/3.9.7/envs/artefact/lib/python3.9/site-packages/ipykernel/kernelapp.py\", line 728, in start\n      self.io_loop.start()\n    File \"/Users/lucilerabeau/.pyenv/versions/3.9.7/envs/artefact/lib/python3.9/site-packages/tornado/platform/asyncio.py\", line 199, in start\n      self.asyncio_loop.run_forever()\n    File \"/Users/lucilerabeau/.pyenv/versions/3.9.7/lib/python3.9/asyncio/base_events.py\", line 596, in run_forever\n      self._run_once()\n    File \"/Users/lucilerabeau/.pyenv/versions/3.9.7/lib/python3.9/asyncio/base_events.py\", line 1890, in _run_once\n      handle._run()\n    File \"/Users/lucilerabeau/.pyenv/versions/3.9.7/lib/python3.9/asyncio/events.py\", line 80, in _run\n      self._context.run(self._callback, *self._args)\n    File \"/Users/lucilerabeau/.pyenv/versions/3.9.7/envs/artefact/lib/python3.9/site-packages/ipykernel/kernelbase.py\", line 516, in dispatch_queue\n      await self.process_one()\n    File \"/Users/lucilerabeau/.pyenv/versions/3.9.7/envs/artefact/lib/python3.9/site-packages/ipykernel/kernelbase.py\", line 505, in process_one\n      await dispatch(*args)\n    File \"/Users/lucilerabeau/.pyenv/versions/3.9.7/envs/artefact/lib/python3.9/site-packages/ipykernel/kernelbase.py\", line 412, in dispatch_shell\n      await result\n    File \"/Users/lucilerabeau/.pyenv/versions/3.9.7/envs/artefact/lib/python3.9/site-packages/ipykernel/kernelbase.py\", line 740, in execute_request\n      reply_content = await reply_content\n    File \"/Users/lucilerabeau/.pyenv/versions/3.9.7/envs/artefact/lib/python3.9/site-packages/ipykernel/ipkernel.py\", line 429, in do_execute\n      res = shell.run_cell(code, store_history=store_history, silent=silent)\n    File \"/Users/lucilerabeau/.pyenv/versions/3.9.7/envs/artefact/lib/python3.9/site-packages/ipykernel/zmqshell.py\", line 540, in run_cell\n      return super().run_cell(*args, **kwargs)\n    File \"/Users/lucilerabeau/.pyenv/versions/3.9.7/envs/artefact/lib/python3.9/site-packages/IPython/core/interactiveshell.py\", line 2768, in run_cell\n      result = self._run_cell(\n    File \"/Users/lucilerabeau/.pyenv/versions/3.9.7/envs/artefact/lib/python3.9/site-packages/IPython/core/interactiveshell.py\", line 2814, in _run_cell\n      return runner(coro)\n    File \"/Users/lucilerabeau/.pyenv/versions/3.9.7/envs/artefact/lib/python3.9/site-packages/IPython/core/async_helpers.py\", line 129, in _pseudo_sync_runner\n      coro.send(None)\n    File \"/Users/lucilerabeau/.pyenv/versions/3.9.7/envs/artefact/lib/python3.9/site-packages/IPython/core/interactiveshell.py\", line 3012, in run_cell_async\n      has_raised = await self.run_ast_nodes(code_ast.body, cell_name,\n    File \"/Users/lucilerabeau/.pyenv/versions/3.9.7/envs/artefact/lib/python3.9/site-packages/IPython/core/interactiveshell.py\", line 3191, in run_ast_nodes\n      if await self.run_code(code, result, async_=asy):\n    File \"/Users/lucilerabeau/.pyenv/versions/3.9.7/envs/artefact/lib/python3.9/site-packages/IPython/core/interactiveshell.py\", line 3251, in run_code\n      exec(code_obj, self.user_global_ns, self.user_ns)\n    File \"/var/folders/z2/zv19yvhx0d7b6fj17_n0489w0000gn/T/ipykernel_29483/2906035129.py\", line 2, in <module>\n      history2 = model2.fit(\n    File \"/Users/lucilerabeau/.pyenv/versions/3.9.7/envs/artefact/lib/python3.9/site-packages/keras/utils/traceback_utils.py\", line 64, in error_handler\n      return fn(*args, **kwargs)\n    File \"/Users/lucilerabeau/.pyenv/versions/3.9.7/envs/artefact/lib/python3.9/site-packages/keras/engine/training.py\", line 1384, in fit\n      tmp_logs = self.train_function(iterator)\n    File \"/Users/lucilerabeau/.pyenv/versions/3.9.7/envs/artefact/lib/python3.9/site-packages/keras/engine/training.py\", line 1021, in train_function\n      return step_function(self, iterator)\n    File \"/Users/lucilerabeau/.pyenv/versions/3.9.7/envs/artefact/lib/python3.9/site-packages/keras/engine/training.py\", line 1010, in step_function\n      outputs = model.distribute_strategy.run(run_step, args=(data,))\n    File \"/Users/lucilerabeau/.pyenv/versions/3.9.7/envs/artefact/lib/python3.9/site-packages/keras/engine/training.py\", line 1000, in run_step\n      outputs = model.train_step(data)\n    File \"/Users/lucilerabeau/.pyenv/versions/3.9.7/envs/artefact/lib/python3.9/site-packages/keras/engine/training.py\", line 860, in train_step\n      loss = self.compute_loss(x, y, y_pred, sample_weight)\n    File \"/Users/lucilerabeau/.pyenv/versions/3.9.7/envs/artefact/lib/python3.9/site-packages/keras/engine/training.py\", line 918, in compute_loss\n      return self.compiled_loss(\n    File \"/Users/lucilerabeau/.pyenv/versions/3.9.7/envs/artefact/lib/python3.9/site-packages/keras/engine/compile_utils.py\", line 201, in __call__\n      loss_value = loss_obj(y_t, y_p, sample_weight=sw)\n    File \"/Users/lucilerabeau/.pyenv/versions/3.9.7/envs/artefact/lib/python3.9/site-packages/keras/losses.py\", line 141, in __call__\n      losses = call_fn(y_true, y_pred)\n    File \"/Users/lucilerabeau/.pyenv/versions/3.9.7/envs/artefact/lib/python3.9/site-packages/keras/losses.py\", line 245, in call\n      return ag_fn(y_true, y_pred, **self._fn_kwargs)\n    File \"/Users/lucilerabeau/.pyenv/versions/3.9.7/envs/artefact/lib/python3.9/site-packages/keras/losses.py\", line 1789, in categorical_crossentropy\n      return backend.categorical_crossentropy(\n    File \"/Users/lucilerabeau/.pyenv/versions/3.9.7/envs/artefact/lib/python3.9/site-packages/keras/backend.py\", line 5098, in categorical_crossentropy\n      return tf.nn.softmax_cross_entropy_with_logits(\nNode: 'categorical_crossentropy/softmax_cross_entropy_with_logits'\n2 root error(s) found.\n  (0) INVALID_ARGUMENT:  logits and labels must be broadcastable: logits_size=[32,5] labels_size=[32,4]\n\t [[{{node categorical_crossentropy/softmax_cross_entropy_with_logits}}]]\n\t [[model_3/dense_5/Softmax/_16]]\n  (1) INVALID_ARGUMENT:  logits and labels must be broadcastable: logits_size=[32,5] labels_size=[32,4]\n\t [[{{node categorical_crossentropy/softmax_cross_entropy_with_logits}}]]\n0 successful operations.\n0 derived errors ignored. [Op:__inference_train_function_54132]",
     "output_type": "error",
     "traceback": [
      "\u001b[0;31m---------------------------------------------------------------------------\u001b[0m",
      "\u001b[0;31mInvalidArgumentError\u001b[0m                      Traceback (most recent call last)",
      "Input \u001b[0;32mIn [102]\u001b[0m, in \u001b[0;36m<module>\u001b[0;34m\u001b[0m\n\u001b[1;32m      1\u001b[0m \u001b[38;5;28;01mwith\u001b[39;00m tf\u001b[38;5;241m.\u001b[39mdevice(\u001b[38;5;124m'\u001b[39m\u001b[38;5;124m/gpu:0\u001b[39m\u001b[38;5;124m'\u001b[39m): \n\u001b[0;32m----> 2\u001b[0m     history2 \u001b[38;5;241m=\u001b[39m \u001b[43mmodel2\u001b[49m\u001b[38;5;241;43m.\u001b[39;49m\u001b[43mfit\u001b[49m\u001b[43m(\u001b[49m\n\u001b[1;32m      3\u001b[0m \u001b[43m        \u001b[49m\u001b[43mtrain_flow\u001b[49m\u001b[43m,\u001b[49m\n\u001b[1;32m      4\u001b[0m \u001b[43m        \u001b[49m\u001b[43mvalidation_data\u001b[49m\u001b[43m \u001b[49m\u001b[38;5;241;43m=\u001b[39;49m\u001b[43m \u001b[49m\u001b[43mval_flow\u001b[49m\u001b[43m,\u001b[49m\n\u001b[1;32m      5\u001b[0m \u001b[43m        \u001b[49m\u001b[43mbatch_size\u001b[49m\u001b[43m \u001b[49m\u001b[38;5;241;43m=\u001b[39;49m\u001b[43m \u001b[49m\u001b[43mbatch_size\u001b[49m\u001b[43m,\u001b[49m\n\u001b[1;32m      6\u001b[0m \u001b[43m        \u001b[49m\u001b[43mepochs\u001b[49m\u001b[43m \u001b[49m\u001b[38;5;241;43m=\u001b[39;49m\u001b[43m \u001b[49m\u001b[38;5;241;43m50\u001b[39;49m\u001b[43m,\u001b[49m\n\u001b[1;32m      7\u001b[0m \u001b[43m        \u001b[49m\u001b[43mcallbacks\u001b[49m\u001b[43m \u001b[49m\u001b[38;5;241;43m=\u001b[39;49m\u001b[43m \u001b[49m\u001b[43mcallbacks_list\u001b[49m\u001b[43m,\u001b[49m\n\u001b[1;32m      8\u001b[0m \u001b[43m        \u001b[49m\u001b[43mverbose\u001b[49m\u001b[43m \u001b[49m\u001b[38;5;241;43m=\u001b[39;49m\u001b[43m \u001b[49m\u001b[38;5;241;43m1\u001b[39;49m\n\u001b[1;32m      9\u001b[0m \u001b[43m        \u001b[49m\u001b[43m)\u001b[49m\n",
      "File \u001b[0;32m~/.pyenv/versions/3.9.7/envs/artefact/lib/python3.9/site-packages/keras/utils/traceback_utils.py:67\u001b[0m, in \u001b[0;36mfilter_traceback.<locals>.error_handler\u001b[0;34m(*args, **kwargs)\u001b[0m\n\u001b[1;32m     65\u001b[0m \u001b[38;5;28;01mexcept\u001b[39;00m \u001b[38;5;167;01mException\u001b[39;00m \u001b[38;5;28;01mas\u001b[39;00m e:  \u001b[38;5;66;03m# pylint: disable=broad-except\u001b[39;00m\n\u001b[1;32m     66\u001b[0m   filtered_tb \u001b[38;5;241m=\u001b[39m _process_traceback_frames(e\u001b[38;5;241m.\u001b[39m__traceback__)\n\u001b[0;32m---> 67\u001b[0m   \u001b[38;5;28;01mraise\u001b[39;00m e\u001b[38;5;241m.\u001b[39mwith_traceback(filtered_tb) \u001b[38;5;28;01mfrom\u001b[39;00m \u001b[38;5;28mNone\u001b[39m\n\u001b[1;32m     68\u001b[0m \u001b[38;5;28;01mfinally\u001b[39;00m:\n\u001b[1;32m     69\u001b[0m   \u001b[38;5;28;01mdel\u001b[39;00m filtered_tb\n",
      "File \u001b[0;32m~/.pyenv/versions/3.9.7/envs/artefact/lib/python3.9/site-packages/tensorflow/python/eager/execute.py:54\u001b[0m, in \u001b[0;36mquick_execute\u001b[0;34m(op_name, num_outputs, inputs, attrs, ctx, name)\u001b[0m\n\u001b[1;32m     52\u001b[0m \u001b[38;5;28;01mtry\u001b[39;00m:\n\u001b[1;32m     53\u001b[0m   ctx\u001b[38;5;241m.\u001b[39mensure_initialized()\n\u001b[0;32m---> 54\u001b[0m   tensors \u001b[38;5;241m=\u001b[39m pywrap_tfe\u001b[38;5;241m.\u001b[39mTFE_Py_Execute(ctx\u001b[38;5;241m.\u001b[39m_handle, device_name, op_name,\n\u001b[1;32m     55\u001b[0m                                       inputs, attrs, num_outputs)\n\u001b[1;32m     56\u001b[0m \u001b[38;5;28;01mexcept\u001b[39;00m core\u001b[38;5;241m.\u001b[39m_NotOkStatusException \u001b[38;5;28;01mas\u001b[39;00m e:\n\u001b[1;32m     57\u001b[0m   \u001b[38;5;28;01mif\u001b[39;00m name \u001b[38;5;129;01mis\u001b[39;00m \u001b[38;5;129;01mnot\u001b[39;00m \u001b[38;5;28;01mNone\u001b[39;00m:\n",
      "\u001b[0;31mInvalidArgumentError\u001b[0m: Graph execution error:\n\nDetected at node 'categorical_crossentropy/softmax_cross_entropy_with_logits' defined at (most recent call last):\n    File \"/Users/lucilerabeau/.pyenv/versions/3.9.7/lib/python3.9/runpy.py\", line 197, in _run_module_as_main\n      return _run_code(code, main_globals, None,\n    File \"/Users/lucilerabeau/.pyenv/versions/3.9.7/lib/python3.9/runpy.py\", line 87, in _run_code\n      exec(code, run_globals)\n    File \"/Users/lucilerabeau/.pyenv/versions/3.9.7/envs/artefact/lib/python3.9/site-packages/ipykernel_launcher.py\", line 17, in <module>\n      app.launch_new_instance()\n    File \"/Users/lucilerabeau/.pyenv/versions/3.9.7/envs/artefact/lib/python3.9/site-packages/traitlets/config/application.py\", line 1043, in launch_instance\n      app.start()\n    File \"/Users/lucilerabeau/.pyenv/versions/3.9.7/envs/artefact/lib/python3.9/site-packages/ipykernel/kernelapp.py\", line 728, in start\n      self.io_loop.start()\n    File \"/Users/lucilerabeau/.pyenv/versions/3.9.7/envs/artefact/lib/python3.9/site-packages/tornado/platform/asyncio.py\", line 199, in start\n      self.asyncio_loop.run_forever()\n    File \"/Users/lucilerabeau/.pyenv/versions/3.9.7/lib/python3.9/asyncio/base_events.py\", line 596, in run_forever\n      self._run_once()\n    File \"/Users/lucilerabeau/.pyenv/versions/3.9.7/lib/python3.9/asyncio/base_events.py\", line 1890, in _run_once\n      handle._run()\n    File \"/Users/lucilerabeau/.pyenv/versions/3.9.7/lib/python3.9/asyncio/events.py\", line 80, in _run\n      self._context.run(self._callback, *self._args)\n    File \"/Users/lucilerabeau/.pyenv/versions/3.9.7/envs/artefact/lib/python3.9/site-packages/ipykernel/kernelbase.py\", line 516, in dispatch_queue\n      await self.process_one()\n    File \"/Users/lucilerabeau/.pyenv/versions/3.9.7/envs/artefact/lib/python3.9/site-packages/ipykernel/kernelbase.py\", line 505, in process_one\n      await dispatch(*args)\n    File \"/Users/lucilerabeau/.pyenv/versions/3.9.7/envs/artefact/lib/python3.9/site-packages/ipykernel/kernelbase.py\", line 412, in dispatch_shell\n      await result\n    File \"/Users/lucilerabeau/.pyenv/versions/3.9.7/envs/artefact/lib/python3.9/site-packages/ipykernel/kernelbase.py\", line 740, in execute_request\n      reply_content = await reply_content\n    File \"/Users/lucilerabeau/.pyenv/versions/3.9.7/envs/artefact/lib/python3.9/site-packages/ipykernel/ipkernel.py\", line 429, in do_execute\n      res = shell.run_cell(code, store_history=store_history, silent=silent)\n    File \"/Users/lucilerabeau/.pyenv/versions/3.9.7/envs/artefact/lib/python3.9/site-packages/ipykernel/zmqshell.py\", line 540, in run_cell\n      return super().run_cell(*args, **kwargs)\n    File \"/Users/lucilerabeau/.pyenv/versions/3.9.7/envs/artefact/lib/python3.9/site-packages/IPython/core/interactiveshell.py\", line 2768, in run_cell\n      result = self._run_cell(\n    File \"/Users/lucilerabeau/.pyenv/versions/3.9.7/envs/artefact/lib/python3.9/site-packages/IPython/core/interactiveshell.py\", line 2814, in _run_cell\n      return runner(coro)\n    File \"/Users/lucilerabeau/.pyenv/versions/3.9.7/envs/artefact/lib/python3.9/site-packages/IPython/core/async_helpers.py\", line 129, in _pseudo_sync_runner\n      coro.send(None)\n    File \"/Users/lucilerabeau/.pyenv/versions/3.9.7/envs/artefact/lib/python3.9/site-packages/IPython/core/interactiveshell.py\", line 3012, in run_cell_async\n      has_raised = await self.run_ast_nodes(code_ast.body, cell_name,\n    File \"/Users/lucilerabeau/.pyenv/versions/3.9.7/envs/artefact/lib/python3.9/site-packages/IPython/core/interactiveshell.py\", line 3191, in run_ast_nodes\n      if await self.run_code(code, result, async_=asy):\n    File \"/Users/lucilerabeau/.pyenv/versions/3.9.7/envs/artefact/lib/python3.9/site-packages/IPython/core/interactiveshell.py\", line 3251, in run_code\n      exec(code_obj, self.user_global_ns, self.user_ns)\n    File \"/var/folders/z2/zv19yvhx0d7b6fj17_n0489w0000gn/T/ipykernel_29483/2906035129.py\", line 2, in <module>\n      history2 = model2.fit(\n    File \"/Users/lucilerabeau/.pyenv/versions/3.9.7/envs/artefact/lib/python3.9/site-packages/keras/utils/traceback_utils.py\", line 64, in error_handler\n      return fn(*args, **kwargs)\n    File \"/Users/lucilerabeau/.pyenv/versions/3.9.7/envs/artefact/lib/python3.9/site-packages/keras/engine/training.py\", line 1384, in fit\n      tmp_logs = self.train_function(iterator)\n    File \"/Users/lucilerabeau/.pyenv/versions/3.9.7/envs/artefact/lib/python3.9/site-packages/keras/engine/training.py\", line 1021, in train_function\n      return step_function(self, iterator)\n    File \"/Users/lucilerabeau/.pyenv/versions/3.9.7/envs/artefact/lib/python3.9/site-packages/keras/engine/training.py\", line 1010, in step_function\n      outputs = model.distribute_strategy.run(run_step, args=(data,))\n    File \"/Users/lucilerabeau/.pyenv/versions/3.9.7/envs/artefact/lib/python3.9/site-packages/keras/engine/training.py\", line 1000, in run_step\n      outputs = model.train_step(data)\n    File \"/Users/lucilerabeau/.pyenv/versions/3.9.7/envs/artefact/lib/python3.9/site-packages/keras/engine/training.py\", line 860, in train_step\n      loss = self.compute_loss(x, y, y_pred, sample_weight)\n    File \"/Users/lucilerabeau/.pyenv/versions/3.9.7/envs/artefact/lib/python3.9/site-packages/keras/engine/training.py\", line 918, in compute_loss\n      return self.compiled_loss(\n    File \"/Users/lucilerabeau/.pyenv/versions/3.9.7/envs/artefact/lib/python3.9/site-packages/keras/engine/compile_utils.py\", line 201, in __call__\n      loss_value = loss_obj(y_t, y_p, sample_weight=sw)\n    File \"/Users/lucilerabeau/.pyenv/versions/3.9.7/envs/artefact/lib/python3.9/site-packages/keras/losses.py\", line 141, in __call__\n      losses = call_fn(y_true, y_pred)\n    File \"/Users/lucilerabeau/.pyenv/versions/3.9.7/envs/artefact/lib/python3.9/site-packages/keras/losses.py\", line 245, in call\n      return ag_fn(y_true, y_pred, **self._fn_kwargs)\n    File \"/Users/lucilerabeau/.pyenv/versions/3.9.7/envs/artefact/lib/python3.9/site-packages/keras/losses.py\", line 1789, in categorical_crossentropy\n      return backend.categorical_crossentropy(\n    File \"/Users/lucilerabeau/.pyenv/versions/3.9.7/envs/artefact/lib/python3.9/site-packages/keras/backend.py\", line 5098, in categorical_crossentropy\n      return tf.nn.softmax_cross_entropy_with_logits(\nNode: 'categorical_crossentropy/softmax_cross_entropy_with_logits'\nDetected at node 'categorical_crossentropy/softmax_cross_entropy_with_logits' defined at (most recent call last):\n    File \"/Users/lucilerabeau/.pyenv/versions/3.9.7/lib/python3.9/runpy.py\", line 197, in _run_module_as_main\n      return _run_code(code, main_globals, None,\n    File \"/Users/lucilerabeau/.pyenv/versions/3.9.7/lib/python3.9/runpy.py\", line 87, in _run_code\n      exec(code, run_globals)\n    File \"/Users/lucilerabeau/.pyenv/versions/3.9.7/envs/artefact/lib/python3.9/site-packages/ipykernel_launcher.py\", line 17, in <module>\n      app.launch_new_instance()\n    File \"/Users/lucilerabeau/.pyenv/versions/3.9.7/envs/artefact/lib/python3.9/site-packages/traitlets/config/application.py\", line 1043, in launch_instance\n      app.start()\n    File \"/Users/lucilerabeau/.pyenv/versions/3.9.7/envs/artefact/lib/python3.9/site-packages/ipykernel/kernelapp.py\", line 728, in start\n      self.io_loop.start()\n    File \"/Users/lucilerabeau/.pyenv/versions/3.9.7/envs/artefact/lib/python3.9/site-packages/tornado/platform/asyncio.py\", line 199, in start\n      self.asyncio_loop.run_forever()\n    File \"/Users/lucilerabeau/.pyenv/versions/3.9.7/lib/python3.9/asyncio/base_events.py\", line 596, in run_forever\n      self._run_once()\n    File \"/Users/lucilerabeau/.pyenv/versions/3.9.7/lib/python3.9/asyncio/base_events.py\", line 1890, in _run_once\n      handle._run()\n    File \"/Users/lucilerabeau/.pyenv/versions/3.9.7/lib/python3.9/asyncio/events.py\", line 80, in _run\n      self._context.run(self._callback, *self._args)\n    File \"/Users/lucilerabeau/.pyenv/versions/3.9.7/envs/artefact/lib/python3.9/site-packages/ipykernel/kernelbase.py\", line 516, in dispatch_queue\n      await self.process_one()\n    File \"/Users/lucilerabeau/.pyenv/versions/3.9.7/envs/artefact/lib/python3.9/site-packages/ipykernel/kernelbase.py\", line 505, in process_one\n      await dispatch(*args)\n    File \"/Users/lucilerabeau/.pyenv/versions/3.9.7/envs/artefact/lib/python3.9/site-packages/ipykernel/kernelbase.py\", line 412, in dispatch_shell\n      await result\n    File \"/Users/lucilerabeau/.pyenv/versions/3.9.7/envs/artefact/lib/python3.9/site-packages/ipykernel/kernelbase.py\", line 740, in execute_request\n      reply_content = await reply_content\n    File \"/Users/lucilerabeau/.pyenv/versions/3.9.7/envs/artefact/lib/python3.9/site-packages/ipykernel/ipkernel.py\", line 429, in do_execute\n      res = shell.run_cell(code, store_history=store_history, silent=silent)\n    File \"/Users/lucilerabeau/.pyenv/versions/3.9.7/envs/artefact/lib/python3.9/site-packages/ipykernel/zmqshell.py\", line 540, in run_cell\n      return super().run_cell(*args, **kwargs)\n    File \"/Users/lucilerabeau/.pyenv/versions/3.9.7/envs/artefact/lib/python3.9/site-packages/IPython/core/interactiveshell.py\", line 2768, in run_cell\n      result = self._run_cell(\n    File \"/Users/lucilerabeau/.pyenv/versions/3.9.7/envs/artefact/lib/python3.9/site-packages/IPython/core/interactiveshell.py\", line 2814, in _run_cell\n      return runner(coro)\n    File \"/Users/lucilerabeau/.pyenv/versions/3.9.7/envs/artefact/lib/python3.9/site-packages/IPython/core/async_helpers.py\", line 129, in _pseudo_sync_runner\n      coro.send(None)\n    File \"/Users/lucilerabeau/.pyenv/versions/3.9.7/envs/artefact/lib/python3.9/site-packages/IPython/core/interactiveshell.py\", line 3012, in run_cell_async\n      has_raised = await self.run_ast_nodes(code_ast.body, cell_name,\n    File \"/Users/lucilerabeau/.pyenv/versions/3.9.7/envs/artefact/lib/python3.9/site-packages/IPython/core/interactiveshell.py\", line 3191, in run_ast_nodes\n      if await self.run_code(code, result, async_=asy):\n    File \"/Users/lucilerabeau/.pyenv/versions/3.9.7/envs/artefact/lib/python3.9/site-packages/IPython/core/interactiveshell.py\", line 3251, in run_code\n      exec(code_obj, self.user_global_ns, self.user_ns)\n    File \"/var/folders/z2/zv19yvhx0d7b6fj17_n0489w0000gn/T/ipykernel_29483/2906035129.py\", line 2, in <module>\n      history2 = model2.fit(\n    File \"/Users/lucilerabeau/.pyenv/versions/3.9.7/envs/artefact/lib/python3.9/site-packages/keras/utils/traceback_utils.py\", line 64, in error_handler\n      return fn(*args, **kwargs)\n    File \"/Users/lucilerabeau/.pyenv/versions/3.9.7/envs/artefact/lib/python3.9/site-packages/keras/engine/training.py\", line 1384, in fit\n      tmp_logs = self.train_function(iterator)\n    File \"/Users/lucilerabeau/.pyenv/versions/3.9.7/envs/artefact/lib/python3.9/site-packages/keras/engine/training.py\", line 1021, in train_function\n      return step_function(self, iterator)\n    File \"/Users/lucilerabeau/.pyenv/versions/3.9.7/envs/artefact/lib/python3.9/site-packages/keras/engine/training.py\", line 1010, in step_function\n      outputs = model.distribute_strategy.run(run_step, args=(data,))\n    File \"/Users/lucilerabeau/.pyenv/versions/3.9.7/envs/artefact/lib/python3.9/site-packages/keras/engine/training.py\", line 1000, in run_step\n      outputs = model.train_step(data)\n    File \"/Users/lucilerabeau/.pyenv/versions/3.9.7/envs/artefact/lib/python3.9/site-packages/keras/engine/training.py\", line 860, in train_step\n      loss = self.compute_loss(x, y, y_pred, sample_weight)\n    File \"/Users/lucilerabeau/.pyenv/versions/3.9.7/envs/artefact/lib/python3.9/site-packages/keras/engine/training.py\", line 918, in compute_loss\n      return self.compiled_loss(\n    File \"/Users/lucilerabeau/.pyenv/versions/3.9.7/envs/artefact/lib/python3.9/site-packages/keras/engine/compile_utils.py\", line 201, in __call__\n      loss_value = loss_obj(y_t, y_p, sample_weight=sw)\n    File \"/Users/lucilerabeau/.pyenv/versions/3.9.7/envs/artefact/lib/python3.9/site-packages/keras/losses.py\", line 141, in __call__\n      losses = call_fn(y_true, y_pred)\n    File \"/Users/lucilerabeau/.pyenv/versions/3.9.7/envs/artefact/lib/python3.9/site-packages/keras/losses.py\", line 245, in call\n      return ag_fn(y_true, y_pred, **self._fn_kwargs)\n    File \"/Users/lucilerabeau/.pyenv/versions/3.9.7/envs/artefact/lib/python3.9/site-packages/keras/losses.py\", line 1789, in categorical_crossentropy\n      return backend.categorical_crossentropy(\n    File \"/Users/lucilerabeau/.pyenv/versions/3.9.7/envs/artefact/lib/python3.9/site-packages/keras/backend.py\", line 5098, in categorical_crossentropy\n      return tf.nn.softmax_cross_entropy_with_logits(\nNode: 'categorical_crossentropy/softmax_cross_entropy_with_logits'\n2 root error(s) found.\n  (0) INVALID_ARGUMENT:  logits and labels must be broadcastable: logits_size=[32,5] labels_size=[32,4]\n\t [[{{node categorical_crossentropy/softmax_cross_entropy_with_logits}}]]\n\t [[model_3/dense_5/Softmax/_16]]\n  (1) INVALID_ARGUMENT:  logits and labels must be broadcastable: logits_size=[32,5] labels_size=[32,4]\n\t [[{{node categorical_crossentropy/softmax_cross_entropy_with_logits}}]]\n0 successful operations.\n0 derived errors ignored. [Op:__inference_train_function_54132]"
     ]
    }
   ],
   "source": [
    "with tf.device('/gpu:0'):\n",
    "    history2 = model2.fit(\n",
    "        train_flow,\n",
    "        validation_data = val_flow,\n",
    "        batch_size = batch_size,\n",
    "        epochs = 50,\n",
    "        callbacks = callbacks_list,\n",
    "        verbose = 1\n",
    "        )"
   ]
  },
  {
   "cell_type": "code",
   "execution_count": null,
   "metadata": {},
   "outputs": [],
   "source": [
    "# enlever nan dès le début et garder 4 classes tout du long"
   ]
  },
  {
   "cell_type": "code",
   "execution_count": null,
   "metadata": {
    "scrolled": true
   },
   "outputs": [],
   "source": [
    "# Score du dernier epoch\n",
    "\n",
    "loss, accuracy = model2.evaluate(train_flow, verbose = True)\n",
    "print(\"Training Accuracy   : {:.4f}\".format(accuracy))\n",
    "print()\n",
    "loss, accuracy = model2.evaluate(val_flow, verbose = True)\n",
    "print(\"Validation Accuracy :  {:.4f}\".format(accuracy))"
   ]
  },
  {
   "cell_type": "code",
   "execution_count": null,
   "metadata": {},
   "outputs": [],
   "source": [
    "# Score de l'epoch optimal\n",
    "\n",
    "model2.load_weights(model2_save_path)\n",
    "\n",
    "loss, accuracy = model2.evaluate(val_flow, verbose = False)\n",
    "print(\"Validation Accuracy :  {:.4f}\".format(accuracy))\n",
    "\n",
    "loss, accuracy = model2.evaluate(test_flow, verbose = False)\n",
    "print(\"Test Accuracy       :  {:.4f}\".format(accuracy))\n"
   ]
  },
  {
   "cell_type": "code",
   "execution_count": null,
   "metadata": {},
   "outputs": [],
   "source": [
    "from plot_keras_history import show_history, plot_history\n",
    "import matplotlib.pyplot as plt\n",
    "\n",
    "show_history(history2)\n",
    "plot_history(history2, path = \"standard.png\")\n",
    "plt.close()"
   ]
  },
  {
   "cell_type": "markdown",
   "metadata": {},
   "source": [
    "## Approche nouvelle par Dataset sans data augmentation\n",
    "\n",
    "CF https://www.tensorflow.org/tutorials/load_data/images"
   ]
  },
  {
   "cell_type": "code",
   "execution_count": null,
   "metadata": {},
   "outputs": [],
   "source": [
    "batch_size = 32\n",
    "\n",
    "def dataset_fct(path, validation_split = 0, data_type = None):\n",
    "    dataset = tf.keras.utils.image_dataset_from_directory(\n",
    "                    path,\n",
    "                    labels = 'inferred',\n",
    "                    label_mode = 'categorical',\n",
    "                    class_names = None,\n",
    "                    batch_size = 32,\n",
    "                    image_size = (224, 224),\n",
    "                    shuffle = True,\n",
    "                    seed = 42,\n",
    "                    validation_split = validation_split,\n",
    "                    subset = data_type\n",
    "                    )\n",
    "    return dataset"
   ]
  },
  {
   "cell_type": "code",
   "execution_count": null,
   "metadata": {},
   "outputs": [
    {
     "name": "stdout",
     "output_type": "stream",
     "text": [
      "Found 0 files belonging to 0 classes.\n",
      "Using 0 files for training.\n"
     ]
    },
    {
     "ename": "ValueError",
     "evalue": "No images found in directory ../../data/Images/. Allowed formats: ('.bmp', '.gif', '.jpeg', '.jpg', '.png')",
     "output_type": "error",
     "traceback": [
      "\u001b[0;31m---------------------------------------------------------------------------\u001b[0m",
      "\u001b[0;31mValueError\u001b[0m                                Traceback (most recent call last)",
      "Input \u001b[0;32mIn [88]\u001b[0m, in \u001b[0;36m<module>\u001b[0;34m\u001b[0m\n\u001b[0;32m----> 1\u001b[0m dataset_train \u001b[38;5;241m=\u001b[39m \u001b[43mdataset_fct\u001b[49m\u001b[43m(\u001b[49m\u001b[43mpath\u001b[49m\u001b[43m,\u001b[49m\u001b[43m \u001b[49m\u001b[43mvalidation_split\u001b[49m\u001b[38;5;241;43m=\u001b[39;49m\u001b[38;5;241;43m0.25\u001b[39;49m\u001b[43m,\u001b[49m\u001b[43m \u001b[49m\u001b[43mdata_type\u001b[49m\u001b[38;5;241;43m=\u001b[39;49m\u001b[38;5;124;43m'\u001b[39;49m\u001b[38;5;124;43mtraining\u001b[39;49m\u001b[38;5;124;43m'\u001b[39;49m\u001b[43m)\u001b[49m\n\u001b[1;32m      2\u001b[0m dataset_val \u001b[38;5;241m=\u001b[39m dataset_fct(path, validation_split\u001b[38;5;241m=\u001b[39m\u001b[38;5;241m0.25\u001b[39m, data_type\u001b[38;5;241m=\u001b[39m\u001b[38;5;124m'\u001b[39m\u001b[38;5;124mvalidation\u001b[39m\u001b[38;5;124m'\u001b[39m)\n\u001b[1;32m      3\u001b[0m dataset_test \u001b[38;5;241m=\u001b[39m dataset_fct(path_test, validation_split\u001b[38;5;241m=\u001b[39m\u001b[38;5;241m0\u001b[39m, data_type\u001b[38;5;241m=\u001b[39m\u001b[38;5;28;01mNone\u001b[39;00m)\n",
      "Input \u001b[0;32mIn [62]\u001b[0m, in \u001b[0;36mdataset_fct\u001b[0;34m(path, validation_split, data_type)\u001b[0m\n\u001b[1;32m      3\u001b[0m \u001b[38;5;28;01mdef\u001b[39;00m \u001b[38;5;21mdataset_fct\u001b[39m(path, validation_split\u001b[38;5;241m=\u001b[39m\u001b[38;5;241m0\u001b[39m, data_type\u001b[38;5;241m=\u001b[39m\u001b[38;5;28;01mNone\u001b[39;00m) :\n\u001b[0;32m----> 4\u001b[0m     dataset \u001b[38;5;241m=\u001b[39m \u001b[43mtf\u001b[49m\u001b[38;5;241;43m.\u001b[39;49m\u001b[43mkeras\u001b[49m\u001b[38;5;241;43m.\u001b[39;49m\u001b[43mutils\u001b[49m\u001b[38;5;241;43m.\u001b[39;49m\u001b[43mimage_dataset_from_directory\u001b[49m\u001b[43m(\u001b[49m\n\u001b[1;32m      5\u001b[0m \u001b[43m                    \u001b[49m\u001b[43mpath\u001b[49m\u001b[43m,\u001b[49m\u001b[43m \u001b[49m\u001b[43mlabels\u001b[49m\u001b[38;5;241;43m=\u001b[39;49m\u001b[38;5;124;43m'\u001b[39;49m\u001b[38;5;124;43minferred\u001b[39;49m\u001b[38;5;124;43m'\u001b[39;49m\u001b[43m,\u001b[49m\u001b[43m \u001b[49m\u001b[43mlabel_mode\u001b[49m\u001b[38;5;241;43m=\u001b[39;49m\u001b[38;5;124;43m'\u001b[39;49m\u001b[38;5;124;43mcategorical\u001b[39;49m\u001b[38;5;124;43m'\u001b[39;49m\u001b[43m,\u001b[49m\n\u001b[1;32m      6\u001b[0m \u001b[43m                    \u001b[49m\u001b[43mclass_names\u001b[49m\u001b[38;5;241;43m=\u001b[39;49m\u001b[38;5;28;43;01mNone\u001b[39;49;00m\u001b[43m,\u001b[49m\u001b[43m \u001b[49m\u001b[43mbatch_size\u001b[49m\u001b[38;5;241;43m=\u001b[39;49m\u001b[38;5;241;43m32\u001b[39;49m\u001b[43m,\u001b[49m\u001b[43m \u001b[49m\u001b[43mimage_size\u001b[49m\u001b[38;5;241;43m=\u001b[39;49m\u001b[43m(\u001b[49m\u001b[38;5;241;43m224\u001b[39;49m\u001b[43m,\u001b[49m\u001b[43m \u001b[49m\u001b[38;5;241;43m224\u001b[39;49m\u001b[43m)\u001b[49m\u001b[43m,\u001b[49m\u001b[43m \u001b[49m\u001b[43mshuffle\u001b[49m\u001b[38;5;241;43m=\u001b[39;49m\u001b[38;5;28;43;01mTrue\u001b[39;49;00m\u001b[43m,\u001b[49m\u001b[43m \u001b[49m\u001b[43mseed\u001b[49m\u001b[38;5;241;43m=\u001b[39;49m\u001b[38;5;241;43m42\u001b[39;49m\u001b[43m,\u001b[49m\n\u001b[1;32m      7\u001b[0m \u001b[43m                    \u001b[49m\u001b[43mvalidation_split\u001b[49m\u001b[38;5;241;43m=\u001b[39;49m\u001b[43mvalidation_split\u001b[49m\u001b[43m,\u001b[49m\u001b[43m \u001b[49m\u001b[43msubset\u001b[49m\u001b[38;5;241;43m=\u001b[39;49m\u001b[43mdata_type\u001b[49m\n\u001b[1;32m      8\u001b[0m \u001b[43m                    \u001b[49m\u001b[43m)\u001b[49m\n\u001b[1;32m      9\u001b[0m     \u001b[38;5;28;01mreturn\u001b[39;00m dataset\n",
      "File \u001b[0;32m~/.pyenv/versions/3.9.7/envs/artefact/lib/python3.9/site-packages/keras/preprocessing/image_dataset.py:209\u001b[0m, in \u001b[0;36mimage_dataset_from_directory\u001b[0;34m(directory, labels, label_mode, class_names, color_mode, batch_size, image_size, shuffle, seed, validation_split, subset, interpolation, follow_links, crop_to_aspect_ratio, **kwargs)\u001b[0m\n\u001b[1;32m    206\u001b[0m image_paths, labels \u001b[38;5;241m=\u001b[39m dataset_utils\u001b[38;5;241m.\u001b[39mget_training_or_validation_split(\n\u001b[1;32m    207\u001b[0m     image_paths, labels, validation_split, subset)\n\u001b[1;32m    208\u001b[0m \u001b[38;5;28;01mif\u001b[39;00m \u001b[38;5;129;01mnot\u001b[39;00m image_paths:\n\u001b[0;32m--> 209\u001b[0m   \u001b[38;5;28;01mraise\u001b[39;00m \u001b[38;5;167;01mValueError\u001b[39;00m(\u001b[38;5;124mf\u001b[39m\u001b[38;5;124m'\u001b[39m\u001b[38;5;124mNo images found in directory \u001b[39m\u001b[38;5;132;01m{\u001b[39;00mdirectory\u001b[38;5;132;01m}\u001b[39;00m\u001b[38;5;124m. \u001b[39m\u001b[38;5;124m'\u001b[39m\n\u001b[1;32m    210\u001b[0m                    \u001b[38;5;124mf\u001b[39m\u001b[38;5;124m'\u001b[39m\u001b[38;5;124mAllowed formats: \u001b[39m\u001b[38;5;132;01m{\u001b[39;00mALLOWLIST_FORMATS\u001b[38;5;132;01m}\u001b[39;00m\u001b[38;5;124m'\u001b[39m)\n\u001b[1;32m    212\u001b[0m dataset \u001b[38;5;241m=\u001b[39m paths_and_labels_to_dataset(\n\u001b[1;32m    213\u001b[0m     image_paths\u001b[38;5;241m=\u001b[39mimage_paths,\n\u001b[1;32m    214\u001b[0m     image_size\u001b[38;5;241m=\u001b[39mimage_size,\n\u001b[0;32m   (...)\u001b[0m\n\u001b[1;32m    219\u001b[0m     interpolation\u001b[38;5;241m=\u001b[39minterpolation,\n\u001b[1;32m    220\u001b[0m     crop_to_aspect_ratio\u001b[38;5;241m=\u001b[39mcrop_to_aspect_ratio)\n\u001b[1;32m    221\u001b[0m dataset \u001b[38;5;241m=\u001b[39m dataset\u001b[38;5;241m.\u001b[39mprefetch(tf\u001b[38;5;241m.\u001b[39mdata\u001b[38;5;241m.\u001b[39mAUTOTUNE)\n",
      "\u001b[0;31mValueError\u001b[0m: No images found in directory ../../data/Images/. Allowed formats: ('.bmp', '.gif', '.jpeg', '.jpg', '.png')"
     ]
    }
   ],
   "source": [
    "dataset_train = dataset_fct(path, validation_split=0.25, data_type='training')\n",
    "dataset_val = dataset_fct(path, validation_split=0.25, data_type='validation')\n",
    "dataset_test = dataset_fct(path_test, validation_split=0, data_type=None)"
   ]
  },
  {
   "cell_type": "code",
   "execution_count": null,
   "metadata": {
    "scrolled": true
   },
   "outputs": [],
   "source": [
    "# Création du modèle\n",
    "with tf.device('/gpu:0'): \n",
    "    model3 = create_model_fct()\n",
    "\n",
    "# Création du callback\n",
    "model3_save_path = \"./model3_best_weights.h5\"\n",
    "checkpoint = ModelCheckpoint(model3_save_path, monitor='val_loss', verbose=1, save_best_only=True, mode='min')\n",
    "es = EarlyStopping(monitor='val_loss', mode='min', verbose=1, patience=5)\n",
    "callbacks_list = [checkpoint, es]\n"
   ]
  },
  {
   "cell_type": "code",
   "execution_count": null,
   "metadata": {
    "scrolled": true
   },
   "outputs": [],
   "source": [
    "print(\"Num GPUs Available: \", len(tf.config.list_physical_devices('GPU')))\n"
   ]
  },
  {
   "cell_type": "code",
   "execution_count": null,
   "metadata": {
    "scrolled": true
   },
   "outputs": [],
   "source": [
    "with tf.device('/gpu:0'): \n",
    "    history3 = model3.fit(dataset_train,\n",
    "                    validation_data=dataset_val,\n",
    "                    batch_size=batch_size, epochs=50, callbacks=callbacks_list, verbose=1)\n"
   ]
  },
  {
   "cell_type": "code",
   "execution_count": null,
   "metadata": {
    "scrolled": true
   },
   "outputs": [],
   "source": [
    "# Score du dernier epoch\n",
    "\n",
    "loss, accuracy = model3.evaluate(dataset_train, verbose=True)\n",
    "print(\"Training Accuracy   : {:.4f}\".format(accuracy))\n",
    "print()\n",
    "loss, accuracy = model3.evaluate(dataset_val, verbose=True)\n",
    "print(\"Validation Accuracy :  {:.4f}\".format(accuracy))"
   ]
  },
  {
   "cell_type": "code",
   "execution_count": null,
   "metadata": {},
   "outputs": [],
   "source": [
    "# Score de l'epoch optimal\n",
    "\n",
    "model3.load_weights(model3_save_path)\n",
    "\n",
    "loss, accuracy = model3.evaluate(dataset_val, verbose=False)\n",
    "print(\"Validation Accuracy :  {:.4f}\".format(accuracy))\n",
    "\n",
    "loss, accuracy = model3.evaluate(dataset_test, verbose=False)\n",
    "print(\"Test Accuracy       :  {:.4f}\".format(accuracy))\n"
   ]
  },
  {
   "cell_type": "code",
   "execution_count": null,
   "metadata": {},
   "outputs": [],
   "source": [
    "from plot_keras_history import show_history, plot_history\n",
    "import matplotlib.pyplot as plt\n",
    "\n",
    "show_history(history3)\n",
    "plot_history(history3, path=\"standard.png\")\n",
    "plt.close()"
   ]
  },
  {
   "cell_type": "markdown",
   "metadata": {},
   "source": [
    "## Approche nouvelle par Dataset avec data augmentation intégrée au modèle\n",
    "\n",
    "CF https://www.tensorflow.org/tutorials/images/data_augmentation"
   ]
  },
  {
   "cell_type": "code",
   "execution_count": null,
   "metadata": {},
   "outputs": [],
   "source": [
    "batch_size = 32\n",
    "\n",
    "def dataset_fct(path, validation_split=0, data_type=None) :\n",
    "    dataset = tf.keras.utils.image_dataset_from_directory(\n",
    "                    path, labels='inferred', label_mode='categorical',\n",
    "                    class_names=None, batch_size=batch_size, image_size=(224, 224), shuffle=True, seed=42,\n",
    "                    validation_split=validation_split, subset=data_type\n",
    "                    )\n",
    "    return dataset"
   ]
  },
  {
   "cell_type": "code",
   "execution_count": null,
   "metadata": {},
   "outputs": [],
   "source": [
    "dataset_train = dataset_fct(path, validation_split=0.25, data_type='training')\n",
    "dataset_val = dataset_fct(path, validation_split=0.25, data_type='validation')\n",
    "dataset_test = dataset_fct(path_test, validation_split=0, data_type=None)"
   ]
  },
  {
   "cell_type": "code",
   "execution_count": null,
   "metadata": {},
   "outputs": [],
   "source": [
    "def resize_and_rescale(image, label):\n",
    "    image = tf.cast(image, tf.float32)\n",
    "    image = tf.image.resize(image, [IMG_SIZE, IMG_SIZE])\n",
    "    image = (image / 255.0)\n",
    "    return image, label\n",
    "\n"
   ]
  },
  {
   "cell_type": "code",
   "execution_count": null,
   "metadata": {},
   "outputs": [],
   "source": [
    "def create_model_fct2() :\n",
    "    # Data augmentation\n",
    "    data_augmentation = Sequential([\n",
    "        RandomFlip(\"horizontal\", input_shape=(224, 224, 3)),\n",
    "        RandomRotation(0.1),\n",
    "        RandomZoom(0.1),\n",
    "        # Rescaling(1./127.5, offset=-1.0)\n",
    "      ])\n",
    "    \n",
    "    # Récupération modèle pré-entraîné\n",
    "    model_base = VGG16(include_top=False, weights=\"imagenet\", input_shape=(224, 224, 3))\n",
    "    for layer in model_base.layers:\n",
    "        layer.trainable = False\n",
    "\n",
    "    # Définition du nouveau modèle\n",
    "    model = Sequential([\n",
    "                data_augmentation,\n",
    "                Rescaling(1./127.5, offset=-1),\n",
    "                model_base,\n",
    "                GlobalAveragePooling2D(),\n",
    "                Dense(256, activation='relu'),\n",
    "                Dropout(0.5),\n",
    "                Dense(4, activation='softmax')\n",
    "                ])\n",
    "\n",
    "    # compilation du modèle \n",
    "    model.compile(loss=\"categorical_crossentropy\", optimizer='adam', metrics=[\"accuracy\"])\n",
    "\n",
    "    print(model.summary())\n",
    "    \n",
    "    return model\n",
    "    "
   ]
  },
  {
   "cell_type": "code",
   "execution_count": null,
   "metadata": {
    "scrolled": true
   },
   "outputs": [],
   "source": [
    "# Création du modèle\n",
    "with tf.device('/gpu:0'): \n",
    "    model4 = create_model_fct2()\n",
    "\n",
    "# Création du callback\n",
    "model4_save_path = \"./model4_best_weights.h5\"\n",
    "checkpoint = ModelCheckpoint(model4_save_path, monitor='val_loss', verbose=1, save_best_only=True, mode='min')\n",
    "es = EarlyStopping(monitor='val_loss', mode='min', verbose=1, patience=5)\n",
    "callbacks_list = [checkpoint, es]\n"
   ]
  },
  {
   "cell_type": "code",
   "execution_count": null,
   "metadata": {
    "scrolled": true
   },
   "outputs": [],
   "source": [
    "print(\"Num GPUs Available: \", len(tf.config.list_physical_devices('GPU')))\n"
   ]
  },
  {
   "cell_type": "code",
   "execution_count": null,
   "metadata": {
    "scrolled": true
   },
   "outputs": [],
   "source": [
    "with tf.device('/gpu:0'): \n",
    "    history4 = model4.fit(dataset_train,\n",
    "                    validation_data=dataset_val,\n",
    "                    batch_size=batch_size, epochs=50, callbacks=callbacks_list, verbose=1)\n"
   ]
  },
  {
   "cell_type": "code",
   "execution_count": null,
   "metadata": {
    "scrolled": true
   },
   "outputs": [],
   "source": [
    "# Score du dernier epoch\n",
    "\n",
    "loss, accuracy = model4.evaluate(dataset_train, verbose=True)\n",
    "print(\"Training Accuracy   : {:.4f}\".format(accuracy))\n",
    "print()\n",
    "loss, accuracy = model4.evaluate(dataset_val, verbose=True)\n",
    "print(\"Validation Accuracy :  {:.4f}\".format(accuracy))"
   ]
  },
  {
   "cell_type": "code",
   "execution_count": null,
   "metadata": {},
   "outputs": [],
   "source": [
    "# Score de l'epoch optimal\n",
    "\n",
    "model4.load_weights(model4_save_path)\n",
    "\n",
    "loss, accuracy = model4.evaluate(dataset_val, verbose=False)\n",
    "print(\"Validation Accuracy :  {:.4f}\".format(accuracy))\n",
    "\n",
    "loss, accuracy = model4.evaluate(dataset_test, verbose=False)\n",
    "print(\"Test Accuracy       :  {:.4f}\".format(accuracy))\n"
   ]
  },
  {
   "cell_type": "code",
   "execution_count": null,
   "metadata": {},
   "outputs": [],
   "source": [
    "from plot_keras_history import show_history, plot_history\n",
    "import matplotlib.pyplot as plt\n",
    "\n",
    "show_history(history4)\n",
    "plot_history(history4, path=\"standard.png\")\n",
    "plt.close()"
   ]
  },
  {
   "cell_type": "code",
   "execution_count": null,
   "metadata": {},
   "outputs": [],
   "source": []
  },
  {
   "cell_type": "code",
   "execution_count": null,
   "metadata": {},
   "outputs": [],
   "source": []
  }
 ],
 "metadata": {
  "hide_input": false,
  "kernelspec": {
   "display_name": "Python 3 (ipykernel)",
   "language": "python",
   "name": "python3"
  },
  "language_info": {
   "codemirror_mode": {
    "name": "ipython",
    "version": 3
   },
   "file_extension": ".py",
   "mimetype": "text/x-python",
   "name": "python",
   "nbconvert_exporter": "python",
   "pygments_lexer": "ipython3",
   "version": "3.11.3"
  },
  "toc": {
   "base_numbering": 1,
   "nav_menu": {},
   "number_sections": true,
   "sideBar": true,
   "skip_h1_title": false,
   "title_cell": "Table of Contents",
   "title_sidebar": "Contents",
   "toc_cell": false,
   "toc_position": {
    "height": "calc(100% - 180px)",
    "left": "10px",
    "top": "150px",
    "width": "256px"
   },
   "toc_section_display": true,
   "toc_window_display": true
  },
  "varInspector": {
   "cols": {
    "lenName": 16,
    "lenType": 16,
    "lenVar": 40
   },
   "kernels_config": {
    "python": {
     "delete_cmd_postfix": "",
     "delete_cmd_prefix": "del ",
     "library": "var_list.py",
     "varRefreshCmd": "print(var_dic_list())"
    },
    "r": {
     "delete_cmd_postfix": ") ",
     "delete_cmd_prefix": "rm(",
     "library": "var_list.r",
     "varRefreshCmd": "cat(var_dic_list()) "
    }
   },
   "types_to_exclude": [
    "module",
    "function",
    "builtin_function_or_method",
    "instance",
    "_Feature"
   ],
   "window_display": false
  }
 },
 "nbformat": 4,
 "nbformat_minor": 4
}
